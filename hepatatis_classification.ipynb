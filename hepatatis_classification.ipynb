{
  "cells": [
    {
      "cell_type": "markdown",
      "metadata": {
        "id": "view-in-github",
        "colab_type": "text"
      },
      "source": [
        "<a href=\"https://colab.research.google.com/github/paulabhishek7777/Neural-Network-Classification-and-Regression-with-the-examples-of-Hepatits-and-Auto-Mpg-Datasets/blob/main/hepatatis_classification.ipynb\" target=\"_parent\"><img src=\"https://colab.research.google.com/assets/colab-badge.svg\" alt=\"Open In Colab\"/></a>"
      ]
    },
    {
      "cell_type": "markdown",
      "metadata": {
        "id": "3LmX_yrfPqHq"
      },
      "source": [
        "## Hepatitis"
      ]
    },
    {
      "cell_type": "code",
      "execution_count": 81,
      "metadata": {
        "id": "9HLX2YK5SUdn"
      },
      "outputs": [],
      "source": [
        "import pandas as pd\n",
        "import numpy as np\n",
        "%matplotlib inline\n",
        "from matplotlib import pyplot as plt\n",
        "import seaborn as sns"
      ]
    },
    {
      "cell_type": "code",
      "execution_count": 82,
      "metadata": {
        "id": "Lo8inao2SsOJ"
      },
      "outputs": [],
      "source": [
        "df = pd.read_csv(\"/content/drive/MyDrive/neural network UNP/hepatitis.csv\")"
      ]
    },
    {
      "cell_type": "code",
      "execution_count": 83,
      "metadata": {
        "colab": {
          "base_uri": "https://localhost:8080/",
          "height": 423
        },
        "id": "4HK8G7FcS80P",
        "outputId": "8513b2a2-20fe-4099-b13c-d445f56eb886"
      },
      "outputs": [
        {
          "output_type": "execute_result",
          "data": {
            "text/plain": [
              "     class  age  sex  steroid  antivirals  fatigue  malaise  anorexia  \\\n",
              "0        2   30    2        1           2        2        2         2   \n",
              "1        2   50    1        1           2        1        2         2   \n",
              "2        2   78    1        2           2        1        2         2   \n",
              "3        2   34    1        2           2        2        2         2   \n",
              "4        2   34    1        2           2        2        2         2   \n",
              "..     ...  ...  ...      ...         ...      ...      ...       ...   \n",
              "137      1   46    1        2           2        1        1         1   \n",
              "138      2   44    1        2           2        1        2         2   \n",
              "139      2   61    1        1           2        1        1         2   \n",
              "140      2   53    2        1           2        1        2         2   \n",
              "141      1   43    1        2           2        1        2         2   \n",
              "\n",
              "     liver_big  liver_firm  spleen_palable  spiders  ascites  varices  \\\n",
              "0            1           2               2        2        2        2   \n",
              "1            1           2               2        2        2        2   \n",
              "2            2           2               2        2        2        2   \n",
              "3            2           2               2        2        2        2   \n",
              "4            2           2               2        2        2        2   \n",
              "..         ...         ...             ...      ...      ...      ...   \n",
              "137          2           1               2        1        1        1   \n",
              "138          2           1               2        2        2        2   \n",
              "139          1           2               2        1        2        2   \n",
              "140          2           2               1        1        2        1   \n",
              "141          2           2               1        1        1        2   \n",
              "\n",
              "     bilirubin  alk_phosphate  sgot  albumin  protime  histology  \n",
              "0          1.0             85    18      4.0       61          1  \n",
              "1          0.9            135    42      3.5       61          1  \n",
              "2          0.7             96    32      4.0       61          1  \n",
              "3          1.0            105   200      4.0       61          1  \n",
              "4          0.9             95    28      4.0       75          1  \n",
              "..         ...            ...   ...      ...      ...        ...  \n",
              "137        7.6            105   242      3.3       50          2  \n",
              "138        0.9            126   142      4.3       61          2  \n",
              "139        0.8             75    20      4.1       61          2  \n",
              "140        1.5             81    19      4.1       48          2  \n",
              "141        1.2            100    19      3.1       42          2  \n",
              "\n",
              "[142 rows x 20 columns]"
            ],
            "text/html": [
              "\n",
              "  <div id=\"df-35be3228-37ec-4635-9eb6-246764340f2e\">\n",
              "    <div class=\"colab-df-container\">\n",
              "      <div>\n",
              "<style scoped>\n",
              "    .dataframe tbody tr th:only-of-type {\n",
              "        vertical-align: middle;\n",
              "    }\n",
              "\n",
              "    .dataframe tbody tr th {\n",
              "        vertical-align: top;\n",
              "    }\n",
              "\n",
              "    .dataframe thead th {\n",
              "        text-align: right;\n",
              "    }\n",
              "</style>\n",
              "<table border=\"1\" class=\"dataframe\">\n",
              "  <thead>\n",
              "    <tr style=\"text-align: right;\">\n",
              "      <th></th>\n",
              "      <th>class</th>\n",
              "      <th>age</th>\n",
              "      <th>sex</th>\n",
              "      <th>steroid</th>\n",
              "      <th>antivirals</th>\n",
              "      <th>fatigue</th>\n",
              "      <th>malaise</th>\n",
              "      <th>anorexia</th>\n",
              "      <th>liver_big</th>\n",
              "      <th>liver_firm</th>\n",
              "      <th>spleen_palable</th>\n",
              "      <th>spiders</th>\n",
              "      <th>ascites</th>\n",
              "      <th>varices</th>\n",
              "      <th>bilirubin</th>\n",
              "      <th>alk_phosphate</th>\n",
              "      <th>sgot</th>\n",
              "      <th>albumin</th>\n",
              "      <th>protime</th>\n",
              "      <th>histology</th>\n",
              "    </tr>\n",
              "  </thead>\n",
              "  <tbody>\n",
              "    <tr>\n",
              "      <th>0</th>\n",
              "      <td>2</td>\n",
              "      <td>30</td>\n",
              "      <td>2</td>\n",
              "      <td>1</td>\n",
              "      <td>2</td>\n",
              "      <td>2</td>\n",
              "      <td>2</td>\n",
              "      <td>2</td>\n",
              "      <td>1</td>\n",
              "      <td>2</td>\n",
              "      <td>2</td>\n",
              "      <td>2</td>\n",
              "      <td>2</td>\n",
              "      <td>2</td>\n",
              "      <td>1.0</td>\n",
              "      <td>85</td>\n",
              "      <td>18</td>\n",
              "      <td>4.0</td>\n",
              "      <td>61</td>\n",
              "      <td>1</td>\n",
              "    </tr>\n",
              "    <tr>\n",
              "      <th>1</th>\n",
              "      <td>2</td>\n",
              "      <td>50</td>\n",
              "      <td>1</td>\n",
              "      <td>1</td>\n",
              "      <td>2</td>\n",
              "      <td>1</td>\n",
              "      <td>2</td>\n",
              "      <td>2</td>\n",
              "      <td>1</td>\n",
              "      <td>2</td>\n",
              "      <td>2</td>\n",
              "      <td>2</td>\n",
              "      <td>2</td>\n",
              "      <td>2</td>\n",
              "      <td>0.9</td>\n",
              "      <td>135</td>\n",
              "      <td>42</td>\n",
              "      <td>3.5</td>\n",
              "      <td>61</td>\n",
              "      <td>1</td>\n",
              "    </tr>\n",
              "    <tr>\n",
              "      <th>2</th>\n",
              "      <td>2</td>\n",
              "      <td>78</td>\n",
              "      <td>1</td>\n",
              "      <td>2</td>\n",
              "      <td>2</td>\n",
              "      <td>1</td>\n",
              "      <td>2</td>\n",
              "      <td>2</td>\n",
              "      <td>2</td>\n",
              "      <td>2</td>\n",
              "      <td>2</td>\n",
              "      <td>2</td>\n",
              "      <td>2</td>\n",
              "      <td>2</td>\n",
              "      <td>0.7</td>\n",
              "      <td>96</td>\n",
              "      <td>32</td>\n",
              "      <td>4.0</td>\n",
              "      <td>61</td>\n",
              "      <td>1</td>\n",
              "    </tr>\n",
              "    <tr>\n",
              "      <th>3</th>\n",
              "      <td>2</td>\n",
              "      <td>34</td>\n",
              "      <td>1</td>\n",
              "      <td>2</td>\n",
              "      <td>2</td>\n",
              "      <td>2</td>\n",
              "      <td>2</td>\n",
              "      <td>2</td>\n",
              "      <td>2</td>\n",
              "      <td>2</td>\n",
              "      <td>2</td>\n",
              "      <td>2</td>\n",
              "      <td>2</td>\n",
              "      <td>2</td>\n",
              "      <td>1.0</td>\n",
              "      <td>105</td>\n",
              "      <td>200</td>\n",
              "      <td>4.0</td>\n",
              "      <td>61</td>\n",
              "      <td>1</td>\n",
              "    </tr>\n",
              "    <tr>\n",
              "      <th>4</th>\n",
              "      <td>2</td>\n",
              "      <td>34</td>\n",
              "      <td>1</td>\n",
              "      <td>2</td>\n",
              "      <td>2</td>\n",
              "      <td>2</td>\n",
              "      <td>2</td>\n",
              "      <td>2</td>\n",
              "      <td>2</td>\n",
              "      <td>2</td>\n",
              "      <td>2</td>\n",
              "      <td>2</td>\n",
              "      <td>2</td>\n",
              "      <td>2</td>\n",
              "      <td>0.9</td>\n",
              "      <td>95</td>\n",
              "      <td>28</td>\n",
              "      <td>4.0</td>\n",
              "      <td>75</td>\n",
              "      <td>1</td>\n",
              "    </tr>\n",
              "    <tr>\n",
              "      <th>...</th>\n",
              "      <td>...</td>\n",
              "      <td>...</td>\n",
              "      <td>...</td>\n",
              "      <td>...</td>\n",
              "      <td>...</td>\n",
              "      <td>...</td>\n",
              "      <td>...</td>\n",
              "      <td>...</td>\n",
              "      <td>...</td>\n",
              "      <td>...</td>\n",
              "      <td>...</td>\n",
              "      <td>...</td>\n",
              "      <td>...</td>\n",
              "      <td>...</td>\n",
              "      <td>...</td>\n",
              "      <td>...</td>\n",
              "      <td>...</td>\n",
              "      <td>...</td>\n",
              "      <td>...</td>\n",
              "      <td>...</td>\n",
              "    </tr>\n",
              "    <tr>\n",
              "      <th>137</th>\n",
              "      <td>1</td>\n",
              "      <td>46</td>\n",
              "      <td>1</td>\n",
              "      <td>2</td>\n",
              "      <td>2</td>\n",
              "      <td>1</td>\n",
              "      <td>1</td>\n",
              "      <td>1</td>\n",
              "      <td>2</td>\n",
              "      <td>1</td>\n",
              "      <td>2</td>\n",
              "      <td>1</td>\n",
              "      <td>1</td>\n",
              "      <td>1</td>\n",
              "      <td>7.6</td>\n",
              "      <td>105</td>\n",
              "      <td>242</td>\n",
              "      <td>3.3</td>\n",
              "      <td>50</td>\n",
              "      <td>2</td>\n",
              "    </tr>\n",
              "    <tr>\n",
              "      <th>138</th>\n",
              "      <td>2</td>\n",
              "      <td>44</td>\n",
              "      <td>1</td>\n",
              "      <td>2</td>\n",
              "      <td>2</td>\n",
              "      <td>1</td>\n",
              "      <td>2</td>\n",
              "      <td>2</td>\n",
              "      <td>2</td>\n",
              "      <td>1</td>\n",
              "      <td>2</td>\n",
              "      <td>2</td>\n",
              "      <td>2</td>\n",
              "      <td>2</td>\n",
              "      <td>0.9</td>\n",
              "      <td>126</td>\n",
              "      <td>142</td>\n",
              "      <td>4.3</td>\n",
              "      <td>61</td>\n",
              "      <td>2</td>\n",
              "    </tr>\n",
              "    <tr>\n",
              "      <th>139</th>\n",
              "      <td>2</td>\n",
              "      <td>61</td>\n",
              "      <td>1</td>\n",
              "      <td>1</td>\n",
              "      <td>2</td>\n",
              "      <td>1</td>\n",
              "      <td>1</td>\n",
              "      <td>2</td>\n",
              "      <td>1</td>\n",
              "      <td>2</td>\n",
              "      <td>2</td>\n",
              "      <td>1</td>\n",
              "      <td>2</td>\n",
              "      <td>2</td>\n",
              "      <td>0.8</td>\n",
              "      <td>75</td>\n",
              "      <td>20</td>\n",
              "      <td>4.1</td>\n",
              "      <td>61</td>\n",
              "      <td>2</td>\n",
              "    </tr>\n",
              "    <tr>\n",
              "      <th>140</th>\n",
              "      <td>2</td>\n",
              "      <td>53</td>\n",
              "      <td>2</td>\n",
              "      <td>1</td>\n",
              "      <td>2</td>\n",
              "      <td>1</td>\n",
              "      <td>2</td>\n",
              "      <td>2</td>\n",
              "      <td>2</td>\n",
              "      <td>2</td>\n",
              "      <td>1</td>\n",
              "      <td>1</td>\n",
              "      <td>2</td>\n",
              "      <td>1</td>\n",
              "      <td>1.5</td>\n",
              "      <td>81</td>\n",
              "      <td>19</td>\n",
              "      <td>4.1</td>\n",
              "      <td>48</td>\n",
              "      <td>2</td>\n",
              "    </tr>\n",
              "    <tr>\n",
              "      <th>141</th>\n",
              "      <td>1</td>\n",
              "      <td>43</td>\n",
              "      <td>1</td>\n",
              "      <td>2</td>\n",
              "      <td>2</td>\n",
              "      <td>1</td>\n",
              "      <td>2</td>\n",
              "      <td>2</td>\n",
              "      <td>2</td>\n",
              "      <td>2</td>\n",
              "      <td>1</td>\n",
              "      <td>1</td>\n",
              "      <td>1</td>\n",
              "      <td>2</td>\n",
              "      <td>1.2</td>\n",
              "      <td>100</td>\n",
              "      <td>19</td>\n",
              "      <td>3.1</td>\n",
              "      <td>42</td>\n",
              "      <td>2</td>\n",
              "    </tr>\n",
              "  </tbody>\n",
              "</table>\n",
              "<p>142 rows × 20 columns</p>\n",
              "</div>\n",
              "      <button class=\"colab-df-convert\" onclick=\"convertToInteractive('df-35be3228-37ec-4635-9eb6-246764340f2e')\"\n",
              "              title=\"Convert this dataframe to an interactive table.\"\n",
              "              style=\"display:none;\">\n",
              "        \n",
              "  <svg xmlns=\"http://www.w3.org/2000/svg\" height=\"24px\"viewBox=\"0 0 24 24\"\n",
              "       width=\"24px\">\n",
              "    <path d=\"M0 0h24v24H0V0z\" fill=\"none\"/>\n",
              "    <path d=\"M18.56 5.44l.94 2.06.94-2.06 2.06-.94-2.06-.94-.94-2.06-.94 2.06-2.06.94zm-11 1L8.5 8.5l.94-2.06 2.06-.94-2.06-.94L8.5 2.5l-.94 2.06-2.06.94zm10 10l.94 2.06.94-2.06 2.06-.94-2.06-.94-.94-2.06-.94 2.06-2.06.94z\"/><path d=\"M17.41 7.96l-1.37-1.37c-.4-.4-.92-.59-1.43-.59-.52 0-1.04.2-1.43.59L10.3 9.45l-7.72 7.72c-.78.78-.78 2.05 0 2.83L4 21.41c.39.39.9.59 1.41.59.51 0 1.02-.2 1.41-.59l7.78-7.78 2.81-2.81c.8-.78.8-2.07 0-2.86zM5.41 20L4 18.59l7.72-7.72 1.47 1.35L5.41 20z\"/>\n",
              "  </svg>\n",
              "      </button>\n",
              "      \n",
              "  <style>\n",
              "    .colab-df-container {\n",
              "      display:flex;\n",
              "      flex-wrap:wrap;\n",
              "      gap: 12px;\n",
              "    }\n",
              "\n",
              "    .colab-df-convert {\n",
              "      background-color: #E8F0FE;\n",
              "      border: none;\n",
              "      border-radius: 50%;\n",
              "      cursor: pointer;\n",
              "      display: none;\n",
              "      fill: #1967D2;\n",
              "      height: 32px;\n",
              "      padding: 0 0 0 0;\n",
              "      width: 32px;\n",
              "    }\n",
              "\n",
              "    .colab-df-convert:hover {\n",
              "      background-color: #E2EBFA;\n",
              "      box-shadow: 0px 1px 2px rgba(60, 64, 67, 0.3), 0px 1px 3px 1px rgba(60, 64, 67, 0.15);\n",
              "      fill: #174EA6;\n",
              "    }\n",
              "\n",
              "    [theme=dark] .colab-df-convert {\n",
              "      background-color: #3B4455;\n",
              "      fill: #D2E3FC;\n",
              "    }\n",
              "\n",
              "    [theme=dark] .colab-df-convert:hover {\n",
              "      background-color: #434B5C;\n",
              "      box-shadow: 0px 1px 3px 1px rgba(0, 0, 0, 0.15);\n",
              "      filter: drop-shadow(0px 1px 2px rgba(0, 0, 0, 0.3));\n",
              "      fill: #FFFFFF;\n",
              "    }\n",
              "  </style>\n",
              "\n",
              "      <script>\n",
              "        const buttonEl =\n",
              "          document.querySelector('#df-35be3228-37ec-4635-9eb6-246764340f2e button.colab-df-convert');\n",
              "        buttonEl.style.display =\n",
              "          google.colab.kernel.accessAllowed ? 'block' : 'none';\n",
              "\n",
              "        async function convertToInteractive(key) {\n",
              "          const element = document.querySelector('#df-35be3228-37ec-4635-9eb6-246764340f2e');\n",
              "          const dataTable =\n",
              "            await google.colab.kernel.invokeFunction('convertToInteractive',\n",
              "                                                     [key], {});\n",
              "          if (!dataTable) return;\n",
              "\n",
              "          const docLinkHtml = 'Like what you see? Visit the ' +\n",
              "            '<a target=\"_blank\" href=https://colab.research.google.com/notebooks/data_table.ipynb>data table notebook</a>'\n",
              "            + ' to learn more about interactive tables.';\n",
              "          element.innerHTML = '';\n",
              "          dataTable['output_type'] = 'display_data';\n",
              "          await google.colab.output.renderOutput(dataTable, element);\n",
              "          const docLink = document.createElement('div');\n",
              "          docLink.innerHTML = docLinkHtml;\n",
              "          element.appendChild(docLink);\n",
              "        }\n",
              "      </script>\n",
              "    </div>\n",
              "  </div>\n",
              "  "
            ]
          },
          "metadata": {},
          "execution_count": 83
        }
      ],
      "source": [
        "df"
      ]
    },
    {
      "cell_type": "code",
      "execution_count": 84,
      "metadata": {
        "colab": {
          "base_uri": "https://localhost:8080/"
        },
        "id": "h3I1GJs9S_qI",
        "outputId": "ad93cf12-b34a-4501-c29a-3f1623c1c10a"
      },
      "outputs": [
        {
          "output_type": "execute_result",
          "data": {
            "text/plain": [
              "(142, 20)"
            ]
          },
          "metadata": {},
          "execution_count": 84
        }
      ],
      "source": [
        "df.shape"
      ]
    },
    {
      "cell_type": "code",
      "execution_count": 85,
      "metadata": {
        "colab": {
          "base_uri": "https://localhost:8080/"
        },
        "id": "Zby4ooqJS9ac",
        "outputId": "979a9413-316a-45d9-d460-e2a8c8524122"
      },
      "outputs": [
        {
          "output_type": "execute_result",
          "data": {
            "text/plain": [
              "class             0\n",
              "age               0\n",
              "sex               0\n",
              "steroid           0\n",
              "antivirals        0\n",
              "fatigue           0\n",
              "malaise           0\n",
              "anorexia          0\n",
              "liver_big         0\n",
              "liver_firm        0\n",
              "spleen_palable    0\n",
              "spiders           0\n",
              "ascites           0\n",
              "varices           0\n",
              "bilirubin         0\n",
              "alk_phosphate     0\n",
              "sgot              0\n",
              "albumin           0\n",
              "protime           0\n",
              "histology         0\n",
              "dtype: int64"
            ]
          },
          "metadata": {},
          "execution_count": 85
        }
      ],
      "source": [
        "df.isnull().sum()"
      ]
    },
    {
      "cell_type": "code",
      "execution_count": 86,
      "metadata": {
        "colab": {
          "base_uri": "https://localhost:8080/"
        },
        "id": "-8JJVvNuTA7p",
        "outputId": "b2a17d90-d6ea-4f95-b7f1-587a2281bffa"
      },
      "outputs": [
        {
          "output_type": "stream",
          "name": "stdout",
          "text": [
            "<class 'pandas.core.frame.DataFrame'>\n",
            "RangeIndex: 142 entries, 0 to 141\n",
            "Data columns (total 20 columns):\n",
            " #   Column          Non-Null Count  Dtype  \n",
            "---  ------          --------------  -----  \n",
            " 0   class           142 non-null    int64  \n",
            " 1   age             142 non-null    int64  \n",
            " 2   sex             142 non-null    int64  \n",
            " 3   steroid         142 non-null    int64  \n",
            " 4   antivirals      142 non-null    int64  \n",
            " 5   fatigue         142 non-null    int64  \n",
            " 6   malaise         142 non-null    int64  \n",
            " 7   anorexia        142 non-null    int64  \n",
            " 8   liver_big       142 non-null    int64  \n",
            " 9   liver_firm      142 non-null    int64  \n",
            " 10  spleen_palable  142 non-null    int64  \n",
            " 11  spiders         142 non-null    int64  \n",
            " 12  ascites         142 non-null    int64  \n",
            " 13  varices         142 non-null    int64  \n",
            " 14  bilirubin       142 non-null    float64\n",
            " 15  alk_phosphate   142 non-null    int64  \n",
            " 16  sgot            142 non-null    int64  \n",
            " 17  albumin         142 non-null    float64\n",
            " 18  protime         142 non-null    int64  \n",
            " 19  histology       142 non-null    int64  \n",
            "dtypes: float64(2), int64(18)\n",
            "memory usage: 22.3 KB\n"
          ]
        }
      ],
      "source": [
        "df.info()"
      ]
    },
    {
      "cell_type": "code",
      "execution_count": 87,
      "metadata": {
        "colab": {
          "base_uri": "https://localhost:8080/"
        },
        "id": "dllCLkuWVd4Q",
        "outputId": "2fa3c275-00cd-4eea-a171-47094d97bb29"
      },
      "outputs": [
        {
          "output_type": "execute_result",
          "data": {
            "text/plain": [
              "3"
            ]
          },
          "metadata": {},
          "execution_count": 87
        }
      ],
      "source": [
        "df[\"class\"].unique().sum()"
      ]
    },
    {
      "cell_type": "code",
      "execution_count": 88,
      "metadata": {
        "colab": {
          "base_uri": "https://localhost:8080/"
        },
        "id": "Q0jVkVHQVxDC",
        "outputId": "ffbf44d4-e0af-425b-c9d3-0a85d5c3fc94"
      },
      "outputs": [
        {
          "output_type": "execute_result",
          "data": {
            "text/plain": [
              "array([2, 1])"
            ]
          },
          "metadata": {},
          "execution_count": 88
        }
      ],
      "source": [
        "df[\"sex\"].unique()"
      ]
    },
    {
      "cell_type": "code",
      "execution_count": 89,
      "metadata": {
        "colab": {
          "base_uri": "https://localhost:8080/"
        },
        "id": "QcUIZFaZZ_Jj",
        "outputId": "3a7018d0-b2e4-4a97-c711-8e6b62fa2c61"
      },
      "outputs": [
        {
          "output_type": "execute_result",
          "data": {
            "text/plain": [
              "Index(['class', 'age', 'sex', 'steroid', 'antivirals', 'fatigue', 'malaise',\n",
              "       'anorexia', 'liver_big', 'liver_firm', 'spleen_palable', 'spiders',\n",
              "       'ascites', 'varices', 'bilirubin', 'alk_phosphate', 'sgot', 'albumin',\n",
              "       'protime', 'histology'],\n",
              "      dtype='object')"
            ]
          },
          "metadata": {},
          "execution_count": 89
        }
      ],
      "source": [
        "df.columns"
      ]
    },
    {
      "cell_type": "code",
      "execution_count": 90,
      "metadata": {
        "id": "VsONnACHZ4eK"
      },
      "outputs": [],
      "source": [
        "df_0 = df.drop(['class', 'age', 'sex', 'steroid', 'antivirals', 'fatigue', 'malaise',\n",
        "       'anorexia', 'liver_big', 'liver_firm', 'spleen_palable', 'spiders',\n",
        "       'ascites', 'varices','histology'], axis = 1)"
      ]
    },
    {
      "cell_type": "code",
      "execution_count": 91,
      "metadata": {
        "id": "sB8Mo7ZdXEDS"
      },
      "outputs": [],
      "source": [
        "df_1 = df.drop([\"bilirubin\",\"alk_phosphate\",\"sgot\",\"albumin\",\"protime\"],axis = 1)"
      ]
    },
    {
      "cell_type": "code",
      "execution_count": 92,
      "metadata": {
        "colab": {
          "base_uri": "https://localhost:8080/",
          "height": 423
        },
        "id": "mgfIOMjSXzFx",
        "outputId": "ff6e2ca0-f4a3-43c3-d779-97f0decd7e40"
      },
      "outputs": [
        {
          "output_type": "execute_result",
          "data": {
            "text/plain": [
              "     class  age  sex  steroid  antivirals  fatigue  malaise  anorexia  \\\n",
              "0        2   30    2        1           2        2        2         2   \n",
              "1        2   50    1        1           2        1        2         2   \n",
              "2        2   78    1        2           2        1        2         2   \n",
              "3        2   34    1        2           2        2        2         2   \n",
              "4        2   34    1        2           2        2        2         2   \n",
              "..     ...  ...  ...      ...         ...      ...      ...       ...   \n",
              "137      1   46    1        2           2        1        1         1   \n",
              "138      2   44    1        2           2        1        2         2   \n",
              "139      2   61    1        1           2        1        1         2   \n",
              "140      2   53    2        1           2        1        2         2   \n",
              "141      1   43    1        2           2        1        2         2   \n",
              "\n",
              "     liver_big  liver_firm  spleen_palable  spiders  ascites  varices  \\\n",
              "0            1           2               2        2        2        2   \n",
              "1            1           2               2        2        2        2   \n",
              "2            2           2               2        2        2        2   \n",
              "3            2           2               2        2        2        2   \n",
              "4            2           2               2        2        2        2   \n",
              "..         ...         ...             ...      ...      ...      ...   \n",
              "137          2           1               2        1        1        1   \n",
              "138          2           1               2        2        2        2   \n",
              "139          1           2               2        1        2        2   \n",
              "140          2           2               1        1        2        1   \n",
              "141          2           2               1        1        1        2   \n",
              "\n",
              "     histology  \n",
              "0            1  \n",
              "1            1  \n",
              "2            1  \n",
              "3            1  \n",
              "4            1  \n",
              "..         ...  \n",
              "137          2  \n",
              "138          2  \n",
              "139          2  \n",
              "140          2  \n",
              "141          2  \n",
              "\n",
              "[142 rows x 15 columns]"
            ],
            "text/html": [
              "\n",
              "  <div id=\"df-b462843d-04a8-4833-813d-d5e7d91f8269\">\n",
              "    <div class=\"colab-df-container\">\n",
              "      <div>\n",
              "<style scoped>\n",
              "    .dataframe tbody tr th:only-of-type {\n",
              "        vertical-align: middle;\n",
              "    }\n",
              "\n",
              "    .dataframe tbody tr th {\n",
              "        vertical-align: top;\n",
              "    }\n",
              "\n",
              "    .dataframe thead th {\n",
              "        text-align: right;\n",
              "    }\n",
              "</style>\n",
              "<table border=\"1\" class=\"dataframe\">\n",
              "  <thead>\n",
              "    <tr style=\"text-align: right;\">\n",
              "      <th></th>\n",
              "      <th>class</th>\n",
              "      <th>age</th>\n",
              "      <th>sex</th>\n",
              "      <th>steroid</th>\n",
              "      <th>antivirals</th>\n",
              "      <th>fatigue</th>\n",
              "      <th>malaise</th>\n",
              "      <th>anorexia</th>\n",
              "      <th>liver_big</th>\n",
              "      <th>liver_firm</th>\n",
              "      <th>spleen_palable</th>\n",
              "      <th>spiders</th>\n",
              "      <th>ascites</th>\n",
              "      <th>varices</th>\n",
              "      <th>histology</th>\n",
              "    </tr>\n",
              "  </thead>\n",
              "  <tbody>\n",
              "    <tr>\n",
              "      <th>0</th>\n",
              "      <td>2</td>\n",
              "      <td>30</td>\n",
              "      <td>2</td>\n",
              "      <td>1</td>\n",
              "      <td>2</td>\n",
              "      <td>2</td>\n",
              "      <td>2</td>\n",
              "      <td>2</td>\n",
              "      <td>1</td>\n",
              "      <td>2</td>\n",
              "      <td>2</td>\n",
              "      <td>2</td>\n",
              "      <td>2</td>\n",
              "      <td>2</td>\n",
              "      <td>1</td>\n",
              "    </tr>\n",
              "    <tr>\n",
              "      <th>1</th>\n",
              "      <td>2</td>\n",
              "      <td>50</td>\n",
              "      <td>1</td>\n",
              "      <td>1</td>\n",
              "      <td>2</td>\n",
              "      <td>1</td>\n",
              "      <td>2</td>\n",
              "      <td>2</td>\n",
              "      <td>1</td>\n",
              "      <td>2</td>\n",
              "      <td>2</td>\n",
              "      <td>2</td>\n",
              "      <td>2</td>\n",
              "      <td>2</td>\n",
              "      <td>1</td>\n",
              "    </tr>\n",
              "    <tr>\n",
              "      <th>2</th>\n",
              "      <td>2</td>\n",
              "      <td>78</td>\n",
              "      <td>1</td>\n",
              "      <td>2</td>\n",
              "      <td>2</td>\n",
              "      <td>1</td>\n",
              "      <td>2</td>\n",
              "      <td>2</td>\n",
              "      <td>2</td>\n",
              "      <td>2</td>\n",
              "      <td>2</td>\n",
              "      <td>2</td>\n",
              "      <td>2</td>\n",
              "      <td>2</td>\n",
              "      <td>1</td>\n",
              "    </tr>\n",
              "    <tr>\n",
              "      <th>3</th>\n",
              "      <td>2</td>\n",
              "      <td>34</td>\n",
              "      <td>1</td>\n",
              "      <td>2</td>\n",
              "      <td>2</td>\n",
              "      <td>2</td>\n",
              "      <td>2</td>\n",
              "      <td>2</td>\n",
              "      <td>2</td>\n",
              "      <td>2</td>\n",
              "      <td>2</td>\n",
              "      <td>2</td>\n",
              "      <td>2</td>\n",
              "      <td>2</td>\n",
              "      <td>1</td>\n",
              "    </tr>\n",
              "    <tr>\n",
              "      <th>4</th>\n",
              "      <td>2</td>\n",
              "      <td>34</td>\n",
              "      <td>1</td>\n",
              "      <td>2</td>\n",
              "      <td>2</td>\n",
              "      <td>2</td>\n",
              "      <td>2</td>\n",
              "      <td>2</td>\n",
              "      <td>2</td>\n",
              "      <td>2</td>\n",
              "      <td>2</td>\n",
              "      <td>2</td>\n",
              "      <td>2</td>\n",
              "      <td>2</td>\n",
              "      <td>1</td>\n",
              "    </tr>\n",
              "    <tr>\n",
              "      <th>...</th>\n",
              "      <td>...</td>\n",
              "      <td>...</td>\n",
              "      <td>...</td>\n",
              "      <td>...</td>\n",
              "      <td>...</td>\n",
              "      <td>...</td>\n",
              "      <td>...</td>\n",
              "      <td>...</td>\n",
              "      <td>...</td>\n",
              "      <td>...</td>\n",
              "      <td>...</td>\n",
              "      <td>...</td>\n",
              "      <td>...</td>\n",
              "      <td>...</td>\n",
              "      <td>...</td>\n",
              "    </tr>\n",
              "    <tr>\n",
              "      <th>137</th>\n",
              "      <td>1</td>\n",
              "      <td>46</td>\n",
              "      <td>1</td>\n",
              "      <td>2</td>\n",
              "      <td>2</td>\n",
              "      <td>1</td>\n",
              "      <td>1</td>\n",
              "      <td>1</td>\n",
              "      <td>2</td>\n",
              "      <td>1</td>\n",
              "      <td>2</td>\n",
              "      <td>1</td>\n",
              "      <td>1</td>\n",
              "      <td>1</td>\n",
              "      <td>2</td>\n",
              "    </tr>\n",
              "    <tr>\n",
              "      <th>138</th>\n",
              "      <td>2</td>\n",
              "      <td>44</td>\n",
              "      <td>1</td>\n",
              "      <td>2</td>\n",
              "      <td>2</td>\n",
              "      <td>1</td>\n",
              "      <td>2</td>\n",
              "      <td>2</td>\n",
              "      <td>2</td>\n",
              "      <td>1</td>\n",
              "      <td>2</td>\n",
              "      <td>2</td>\n",
              "      <td>2</td>\n",
              "      <td>2</td>\n",
              "      <td>2</td>\n",
              "    </tr>\n",
              "    <tr>\n",
              "      <th>139</th>\n",
              "      <td>2</td>\n",
              "      <td>61</td>\n",
              "      <td>1</td>\n",
              "      <td>1</td>\n",
              "      <td>2</td>\n",
              "      <td>1</td>\n",
              "      <td>1</td>\n",
              "      <td>2</td>\n",
              "      <td>1</td>\n",
              "      <td>2</td>\n",
              "      <td>2</td>\n",
              "      <td>1</td>\n",
              "      <td>2</td>\n",
              "      <td>2</td>\n",
              "      <td>2</td>\n",
              "    </tr>\n",
              "    <tr>\n",
              "      <th>140</th>\n",
              "      <td>2</td>\n",
              "      <td>53</td>\n",
              "      <td>2</td>\n",
              "      <td>1</td>\n",
              "      <td>2</td>\n",
              "      <td>1</td>\n",
              "      <td>2</td>\n",
              "      <td>2</td>\n",
              "      <td>2</td>\n",
              "      <td>2</td>\n",
              "      <td>1</td>\n",
              "      <td>1</td>\n",
              "      <td>2</td>\n",
              "      <td>1</td>\n",
              "      <td>2</td>\n",
              "    </tr>\n",
              "    <tr>\n",
              "      <th>141</th>\n",
              "      <td>1</td>\n",
              "      <td>43</td>\n",
              "      <td>1</td>\n",
              "      <td>2</td>\n",
              "      <td>2</td>\n",
              "      <td>1</td>\n",
              "      <td>2</td>\n",
              "      <td>2</td>\n",
              "      <td>2</td>\n",
              "      <td>2</td>\n",
              "      <td>1</td>\n",
              "      <td>1</td>\n",
              "      <td>1</td>\n",
              "      <td>2</td>\n",
              "      <td>2</td>\n",
              "    </tr>\n",
              "  </tbody>\n",
              "</table>\n",
              "<p>142 rows × 15 columns</p>\n",
              "</div>\n",
              "      <button class=\"colab-df-convert\" onclick=\"convertToInteractive('df-b462843d-04a8-4833-813d-d5e7d91f8269')\"\n",
              "              title=\"Convert this dataframe to an interactive table.\"\n",
              "              style=\"display:none;\">\n",
              "        \n",
              "  <svg xmlns=\"http://www.w3.org/2000/svg\" height=\"24px\"viewBox=\"0 0 24 24\"\n",
              "       width=\"24px\">\n",
              "    <path d=\"M0 0h24v24H0V0z\" fill=\"none\"/>\n",
              "    <path d=\"M18.56 5.44l.94 2.06.94-2.06 2.06-.94-2.06-.94-.94-2.06-.94 2.06-2.06.94zm-11 1L8.5 8.5l.94-2.06 2.06-.94-2.06-.94L8.5 2.5l-.94 2.06-2.06.94zm10 10l.94 2.06.94-2.06 2.06-.94-2.06-.94-.94-2.06-.94 2.06-2.06.94z\"/><path d=\"M17.41 7.96l-1.37-1.37c-.4-.4-.92-.59-1.43-.59-.52 0-1.04.2-1.43.59L10.3 9.45l-7.72 7.72c-.78.78-.78 2.05 0 2.83L4 21.41c.39.39.9.59 1.41.59.51 0 1.02-.2 1.41-.59l7.78-7.78 2.81-2.81c.8-.78.8-2.07 0-2.86zM5.41 20L4 18.59l7.72-7.72 1.47 1.35L5.41 20z\"/>\n",
              "  </svg>\n",
              "      </button>\n",
              "      \n",
              "  <style>\n",
              "    .colab-df-container {\n",
              "      display:flex;\n",
              "      flex-wrap:wrap;\n",
              "      gap: 12px;\n",
              "    }\n",
              "\n",
              "    .colab-df-convert {\n",
              "      background-color: #E8F0FE;\n",
              "      border: none;\n",
              "      border-radius: 50%;\n",
              "      cursor: pointer;\n",
              "      display: none;\n",
              "      fill: #1967D2;\n",
              "      height: 32px;\n",
              "      padding: 0 0 0 0;\n",
              "      width: 32px;\n",
              "    }\n",
              "\n",
              "    .colab-df-convert:hover {\n",
              "      background-color: #E2EBFA;\n",
              "      box-shadow: 0px 1px 2px rgba(60, 64, 67, 0.3), 0px 1px 3px 1px rgba(60, 64, 67, 0.15);\n",
              "      fill: #174EA6;\n",
              "    }\n",
              "\n",
              "    [theme=dark] .colab-df-convert {\n",
              "      background-color: #3B4455;\n",
              "      fill: #D2E3FC;\n",
              "    }\n",
              "\n",
              "    [theme=dark] .colab-df-convert:hover {\n",
              "      background-color: #434B5C;\n",
              "      box-shadow: 0px 1px 3px 1px rgba(0, 0, 0, 0.15);\n",
              "      filter: drop-shadow(0px 1px 2px rgba(0, 0, 0, 0.3));\n",
              "      fill: #FFFFFF;\n",
              "    }\n",
              "  </style>\n",
              "\n",
              "      <script>\n",
              "        const buttonEl =\n",
              "          document.querySelector('#df-b462843d-04a8-4833-813d-d5e7d91f8269 button.colab-df-convert');\n",
              "        buttonEl.style.display =\n",
              "          google.colab.kernel.accessAllowed ? 'block' : 'none';\n",
              "\n",
              "        async function convertToInteractive(key) {\n",
              "          const element = document.querySelector('#df-b462843d-04a8-4833-813d-d5e7d91f8269');\n",
              "          const dataTable =\n",
              "            await google.colab.kernel.invokeFunction('convertToInteractive',\n",
              "                                                     [key], {});\n",
              "          if (!dataTable) return;\n",
              "\n",
              "          const docLinkHtml = 'Like what you see? Visit the ' +\n",
              "            '<a target=\"_blank\" href=https://colab.research.google.com/notebooks/data_table.ipynb>data table notebook</a>'\n",
              "            + ' to learn more about interactive tables.';\n",
              "          element.innerHTML = '';\n",
              "          dataTable['output_type'] = 'display_data';\n",
              "          await google.colab.output.renderOutput(dataTable, element);\n",
              "          const docLink = document.createElement('div');\n",
              "          docLink.innerHTML = docLinkHtml;\n",
              "          element.appendChild(docLink);\n",
              "        }\n",
              "      </script>\n",
              "    </div>\n",
              "  </div>\n",
              "  "
            ]
          },
          "metadata": {},
          "execution_count": 92
        }
      ],
      "source": [
        "df_1"
      ]
    },
    {
      "cell_type": "code",
      "execution_count": 93,
      "metadata": {
        "id": "IRuDuryjTvBA"
      },
      "outputs": [],
      "source": [
        "df_2 = df_1.replace({1:0,2:1})"
      ]
    },
    {
      "cell_type": "code",
      "execution_count": 94,
      "metadata": {
        "colab": {
          "base_uri": "https://localhost:8080/",
          "height": 423
        },
        "id": "fZrvE40wcAAj",
        "outputId": "e49ddb07-588b-4966-a85a-8f1b683040cc"
      },
      "outputs": [
        {
          "output_type": "execute_result",
          "data": {
            "text/plain": [
              "     class  age  sex  steroid  antivirals  fatigue  malaise  anorexia  \\\n",
              "0        1   30    1        0           1        1        1         1   \n",
              "1        1   50    0        0           1        0        1         1   \n",
              "2        1   78    0        1           1        0        1         1   \n",
              "3        1   34    0        1           1        1        1         1   \n",
              "4        1   34    0        1           1        1        1         1   \n",
              "..     ...  ...  ...      ...         ...      ...      ...       ...   \n",
              "137      0   46    0        1           1        0        0         0   \n",
              "138      1   44    0        1           1        0        1         1   \n",
              "139      1   61    0        0           1        0        0         1   \n",
              "140      1   53    1        0           1        0        1         1   \n",
              "141      0   43    0        1           1        0        1         1   \n",
              "\n",
              "     liver_big  liver_firm  spleen_palable  spiders  ascites  varices  \\\n",
              "0            0           1               1        1        1        1   \n",
              "1            0           1               1        1        1        1   \n",
              "2            1           1               1        1        1        1   \n",
              "3            1           1               1        1        1        1   \n",
              "4            1           1               1        1        1        1   \n",
              "..         ...         ...             ...      ...      ...      ...   \n",
              "137          1           0               1        0        0        0   \n",
              "138          1           0               1        1        1        1   \n",
              "139          0           1               1        0        1        1   \n",
              "140          1           1               0        0        1        0   \n",
              "141          1           1               0        0        0        1   \n",
              "\n",
              "     histology  \n",
              "0            0  \n",
              "1            0  \n",
              "2            0  \n",
              "3            0  \n",
              "4            0  \n",
              "..         ...  \n",
              "137          1  \n",
              "138          1  \n",
              "139          1  \n",
              "140          1  \n",
              "141          1  \n",
              "\n",
              "[142 rows x 15 columns]"
            ],
            "text/html": [
              "\n",
              "  <div id=\"df-1d7a0b3e-8409-4f72-8079-a99b5b3ad56e\">\n",
              "    <div class=\"colab-df-container\">\n",
              "      <div>\n",
              "<style scoped>\n",
              "    .dataframe tbody tr th:only-of-type {\n",
              "        vertical-align: middle;\n",
              "    }\n",
              "\n",
              "    .dataframe tbody tr th {\n",
              "        vertical-align: top;\n",
              "    }\n",
              "\n",
              "    .dataframe thead th {\n",
              "        text-align: right;\n",
              "    }\n",
              "</style>\n",
              "<table border=\"1\" class=\"dataframe\">\n",
              "  <thead>\n",
              "    <tr style=\"text-align: right;\">\n",
              "      <th></th>\n",
              "      <th>class</th>\n",
              "      <th>age</th>\n",
              "      <th>sex</th>\n",
              "      <th>steroid</th>\n",
              "      <th>antivirals</th>\n",
              "      <th>fatigue</th>\n",
              "      <th>malaise</th>\n",
              "      <th>anorexia</th>\n",
              "      <th>liver_big</th>\n",
              "      <th>liver_firm</th>\n",
              "      <th>spleen_palable</th>\n",
              "      <th>spiders</th>\n",
              "      <th>ascites</th>\n",
              "      <th>varices</th>\n",
              "      <th>histology</th>\n",
              "    </tr>\n",
              "  </thead>\n",
              "  <tbody>\n",
              "    <tr>\n",
              "      <th>0</th>\n",
              "      <td>1</td>\n",
              "      <td>30</td>\n",
              "      <td>1</td>\n",
              "      <td>0</td>\n",
              "      <td>1</td>\n",
              "      <td>1</td>\n",
              "      <td>1</td>\n",
              "      <td>1</td>\n",
              "      <td>0</td>\n",
              "      <td>1</td>\n",
              "      <td>1</td>\n",
              "      <td>1</td>\n",
              "      <td>1</td>\n",
              "      <td>1</td>\n",
              "      <td>0</td>\n",
              "    </tr>\n",
              "    <tr>\n",
              "      <th>1</th>\n",
              "      <td>1</td>\n",
              "      <td>50</td>\n",
              "      <td>0</td>\n",
              "      <td>0</td>\n",
              "      <td>1</td>\n",
              "      <td>0</td>\n",
              "      <td>1</td>\n",
              "      <td>1</td>\n",
              "      <td>0</td>\n",
              "      <td>1</td>\n",
              "      <td>1</td>\n",
              "      <td>1</td>\n",
              "      <td>1</td>\n",
              "      <td>1</td>\n",
              "      <td>0</td>\n",
              "    </tr>\n",
              "    <tr>\n",
              "      <th>2</th>\n",
              "      <td>1</td>\n",
              "      <td>78</td>\n",
              "      <td>0</td>\n",
              "      <td>1</td>\n",
              "      <td>1</td>\n",
              "      <td>0</td>\n",
              "      <td>1</td>\n",
              "      <td>1</td>\n",
              "      <td>1</td>\n",
              "      <td>1</td>\n",
              "      <td>1</td>\n",
              "      <td>1</td>\n",
              "      <td>1</td>\n",
              "      <td>1</td>\n",
              "      <td>0</td>\n",
              "    </tr>\n",
              "    <tr>\n",
              "      <th>3</th>\n",
              "      <td>1</td>\n",
              "      <td>34</td>\n",
              "      <td>0</td>\n",
              "      <td>1</td>\n",
              "      <td>1</td>\n",
              "      <td>1</td>\n",
              "      <td>1</td>\n",
              "      <td>1</td>\n",
              "      <td>1</td>\n",
              "      <td>1</td>\n",
              "      <td>1</td>\n",
              "      <td>1</td>\n",
              "      <td>1</td>\n",
              "      <td>1</td>\n",
              "      <td>0</td>\n",
              "    </tr>\n",
              "    <tr>\n",
              "      <th>4</th>\n",
              "      <td>1</td>\n",
              "      <td>34</td>\n",
              "      <td>0</td>\n",
              "      <td>1</td>\n",
              "      <td>1</td>\n",
              "      <td>1</td>\n",
              "      <td>1</td>\n",
              "      <td>1</td>\n",
              "      <td>1</td>\n",
              "      <td>1</td>\n",
              "      <td>1</td>\n",
              "      <td>1</td>\n",
              "      <td>1</td>\n",
              "      <td>1</td>\n",
              "      <td>0</td>\n",
              "    </tr>\n",
              "    <tr>\n",
              "      <th>...</th>\n",
              "      <td>...</td>\n",
              "      <td>...</td>\n",
              "      <td>...</td>\n",
              "      <td>...</td>\n",
              "      <td>...</td>\n",
              "      <td>...</td>\n",
              "      <td>...</td>\n",
              "      <td>...</td>\n",
              "      <td>...</td>\n",
              "      <td>...</td>\n",
              "      <td>...</td>\n",
              "      <td>...</td>\n",
              "      <td>...</td>\n",
              "      <td>...</td>\n",
              "      <td>...</td>\n",
              "    </tr>\n",
              "    <tr>\n",
              "      <th>137</th>\n",
              "      <td>0</td>\n",
              "      <td>46</td>\n",
              "      <td>0</td>\n",
              "      <td>1</td>\n",
              "      <td>1</td>\n",
              "      <td>0</td>\n",
              "      <td>0</td>\n",
              "      <td>0</td>\n",
              "      <td>1</td>\n",
              "      <td>0</td>\n",
              "      <td>1</td>\n",
              "      <td>0</td>\n",
              "      <td>0</td>\n",
              "      <td>0</td>\n",
              "      <td>1</td>\n",
              "    </tr>\n",
              "    <tr>\n",
              "      <th>138</th>\n",
              "      <td>1</td>\n",
              "      <td>44</td>\n",
              "      <td>0</td>\n",
              "      <td>1</td>\n",
              "      <td>1</td>\n",
              "      <td>0</td>\n",
              "      <td>1</td>\n",
              "      <td>1</td>\n",
              "      <td>1</td>\n",
              "      <td>0</td>\n",
              "      <td>1</td>\n",
              "      <td>1</td>\n",
              "      <td>1</td>\n",
              "      <td>1</td>\n",
              "      <td>1</td>\n",
              "    </tr>\n",
              "    <tr>\n",
              "      <th>139</th>\n",
              "      <td>1</td>\n",
              "      <td>61</td>\n",
              "      <td>0</td>\n",
              "      <td>0</td>\n",
              "      <td>1</td>\n",
              "      <td>0</td>\n",
              "      <td>0</td>\n",
              "      <td>1</td>\n",
              "      <td>0</td>\n",
              "      <td>1</td>\n",
              "      <td>1</td>\n",
              "      <td>0</td>\n",
              "      <td>1</td>\n",
              "      <td>1</td>\n",
              "      <td>1</td>\n",
              "    </tr>\n",
              "    <tr>\n",
              "      <th>140</th>\n",
              "      <td>1</td>\n",
              "      <td>53</td>\n",
              "      <td>1</td>\n",
              "      <td>0</td>\n",
              "      <td>1</td>\n",
              "      <td>0</td>\n",
              "      <td>1</td>\n",
              "      <td>1</td>\n",
              "      <td>1</td>\n",
              "      <td>1</td>\n",
              "      <td>0</td>\n",
              "      <td>0</td>\n",
              "      <td>1</td>\n",
              "      <td>0</td>\n",
              "      <td>1</td>\n",
              "    </tr>\n",
              "    <tr>\n",
              "      <th>141</th>\n",
              "      <td>0</td>\n",
              "      <td>43</td>\n",
              "      <td>0</td>\n",
              "      <td>1</td>\n",
              "      <td>1</td>\n",
              "      <td>0</td>\n",
              "      <td>1</td>\n",
              "      <td>1</td>\n",
              "      <td>1</td>\n",
              "      <td>1</td>\n",
              "      <td>0</td>\n",
              "      <td>0</td>\n",
              "      <td>0</td>\n",
              "      <td>1</td>\n",
              "      <td>1</td>\n",
              "    </tr>\n",
              "  </tbody>\n",
              "</table>\n",
              "<p>142 rows × 15 columns</p>\n",
              "</div>\n",
              "      <button class=\"colab-df-convert\" onclick=\"convertToInteractive('df-1d7a0b3e-8409-4f72-8079-a99b5b3ad56e')\"\n",
              "              title=\"Convert this dataframe to an interactive table.\"\n",
              "              style=\"display:none;\">\n",
              "        \n",
              "  <svg xmlns=\"http://www.w3.org/2000/svg\" height=\"24px\"viewBox=\"0 0 24 24\"\n",
              "       width=\"24px\">\n",
              "    <path d=\"M0 0h24v24H0V0z\" fill=\"none\"/>\n",
              "    <path d=\"M18.56 5.44l.94 2.06.94-2.06 2.06-.94-2.06-.94-.94-2.06-.94 2.06-2.06.94zm-11 1L8.5 8.5l.94-2.06 2.06-.94-2.06-.94L8.5 2.5l-.94 2.06-2.06.94zm10 10l.94 2.06.94-2.06 2.06-.94-2.06-.94-.94-2.06-.94 2.06-2.06.94z\"/><path d=\"M17.41 7.96l-1.37-1.37c-.4-.4-.92-.59-1.43-.59-.52 0-1.04.2-1.43.59L10.3 9.45l-7.72 7.72c-.78.78-.78 2.05 0 2.83L4 21.41c.39.39.9.59 1.41.59.51 0 1.02-.2 1.41-.59l7.78-7.78 2.81-2.81c.8-.78.8-2.07 0-2.86zM5.41 20L4 18.59l7.72-7.72 1.47 1.35L5.41 20z\"/>\n",
              "  </svg>\n",
              "      </button>\n",
              "      \n",
              "  <style>\n",
              "    .colab-df-container {\n",
              "      display:flex;\n",
              "      flex-wrap:wrap;\n",
              "      gap: 12px;\n",
              "    }\n",
              "\n",
              "    .colab-df-convert {\n",
              "      background-color: #E8F0FE;\n",
              "      border: none;\n",
              "      border-radius: 50%;\n",
              "      cursor: pointer;\n",
              "      display: none;\n",
              "      fill: #1967D2;\n",
              "      height: 32px;\n",
              "      padding: 0 0 0 0;\n",
              "      width: 32px;\n",
              "    }\n",
              "\n",
              "    .colab-df-convert:hover {\n",
              "      background-color: #E2EBFA;\n",
              "      box-shadow: 0px 1px 2px rgba(60, 64, 67, 0.3), 0px 1px 3px 1px rgba(60, 64, 67, 0.15);\n",
              "      fill: #174EA6;\n",
              "    }\n",
              "\n",
              "    [theme=dark] .colab-df-convert {\n",
              "      background-color: #3B4455;\n",
              "      fill: #D2E3FC;\n",
              "    }\n",
              "\n",
              "    [theme=dark] .colab-df-convert:hover {\n",
              "      background-color: #434B5C;\n",
              "      box-shadow: 0px 1px 3px 1px rgba(0, 0, 0, 0.15);\n",
              "      filter: drop-shadow(0px 1px 2px rgba(0, 0, 0, 0.3));\n",
              "      fill: #FFFFFF;\n",
              "    }\n",
              "  </style>\n",
              "\n",
              "      <script>\n",
              "        const buttonEl =\n",
              "          document.querySelector('#df-1d7a0b3e-8409-4f72-8079-a99b5b3ad56e button.colab-df-convert');\n",
              "        buttonEl.style.display =\n",
              "          google.colab.kernel.accessAllowed ? 'block' : 'none';\n",
              "\n",
              "        async function convertToInteractive(key) {\n",
              "          const element = document.querySelector('#df-1d7a0b3e-8409-4f72-8079-a99b5b3ad56e');\n",
              "          const dataTable =\n",
              "            await google.colab.kernel.invokeFunction('convertToInteractive',\n",
              "                                                     [key], {});\n",
              "          if (!dataTable) return;\n",
              "\n",
              "          const docLinkHtml = 'Like what you see? Visit the ' +\n",
              "            '<a target=\"_blank\" href=https://colab.research.google.com/notebooks/data_table.ipynb>data table notebook</a>'\n",
              "            + ' to learn more about interactive tables.';\n",
              "          element.innerHTML = '';\n",
              "          dataTable['output_type'] = 'display_data';\n",
              "          await google.colab.output.renderOutput(dataTable, element);\n",
              "          const docLink = document.createElement('div');\n",
              "          docLink.innerHTML = docLinkHtml;\n",
              "          element.appendChild(docLink);\n",
              "        }\n",
              "      </script>\n",
              "    </div>\n",
              "  </div>\n",
              "  "
            ]
          },
          "metadata": {},
          "execution_count": 94
        }
      ],
      "source": [
        "df_2"
      ]
    },
    {
      "cell_type": "code",
      "execution_count": 95,
      "metadata": {
        "id": "Faxku_MFVby5"
      },
      "outputs": [],
      "source": [
        "df_3 = df_1.append(df_0,ignore_index = True)"
      ]
    },
    {
      "cell_type": "code",
      "execution_count": 96,
      "metadata": {
        "id": "-x5LFep6bwzL"
      },
      "outputs": [],
      "source": [
        "frames =[df_2,df_0]"
      ]
    },
    {
      "cell_type": "code",
      "execution_count": 97,
      "metadata": {
        "id": "tkz6BVCdcBHU"
      },
      "outputs": [],
      "source": [
        "df_4 =pd.concat(frames, axis =1, ignore_index = False)"
      ]
    },
    {
      "cell_type": "code",
      "execution_count": 98,
      "metadata": {
        "colab": {
          "base_uri": "https://localhost:8080/",
          "height": 423
        },
        "id": "uKU6zMPyatDq",
        "outputId": "22ccb105-4aaf-4c66-f4b1-d6fae879bda4"
      },
      "outputs": [
        {
          "output_type": "execute_result",
          "data": {
            "text/plain": [
              "     class  age  sex  steroid  antivirals  fatigue  malaise  anorexia  \\\n",
              "0        1   30    1        0           1        1        1         1   \n",
              "1        1   50    0        0           1        0        1         1   \n",
              "2        1   78    0        1           1        0        1         1   \n",
              "3        1   34    0        1           1        1        1         1   \n",
              "4        1   34    0        1           1        1        1         1   \n",
              "..     ...  ...  ...      ...         ...      ...      ...       ...   \n",
              "137      0   46    0        1           1        0        0         0   \n",
              "138      1   44    0        1           1        0        1         1   \n",
              "139      1   61    0        0           1        0        0         1   \n",
              "140      1   53    1        0           1        0        1         1   \n",
              "141      0   43    0        1           1        0        1         1   \n",
              "\n",
              "     liver_big  liver_firm  spleen_palable  spiders  ascites  varices  \\\n",
              "0            0           1               1        1        1        1   \n",
              "1            0           1               1        1        1        1   \n",
              "2            1           1               1        1        1        1   \n",
              "3            1           1               1        1        1        1   \n",
              "4            1           1               1        1        1        1   \n",
              "..         ...         ...             ...      ...      ...      ...   \n",
              "137          1           0               1        0        0        0   \n",
              "138          1           0               1        1        1        1   \n",
              "139          0           1               1        0        1        1   \n",
              "140          1           1               0        0        1        0   \n",
              "141          1           1               0        0        0        1   \n",
              "\n",
              "     histology  bilirubin  alk_phosphate  sgot  albumin  protime  \n",
              "0            0        1.0             85    18      4.0       61  \n",
              "1            0        0.9            135    42      3.5       61  \n",
              "2            0        0.7             96    32      4.0       61  \n",
              "3            0        1.0            105   200      4.0       61  \n",
              "4            0        0.9             95    28      4.0       75  \n",
              "..         ...        ...            ...   ...      ...      ...  \n",
              "137          1        7.6            105   242      3.3       50  \n",
              "138          1        0.9            126   142      4.3       61  \n",
              "139          1        0.8             75    20      4.1       61  \n",
              "140          1        1.5             81    19      4.1       48  \n",
              "141          1        1.2            100    19      3.1       42  \n",
              "\n",
              "[142 rows x 20 columns]"
            ],
            "text/html": [
              "\n",
              "  <div id=\"df-5b84a0f7-ae04-47b0-b377-53d39acb19cb\">\n",
              "    <div class=\"colab-df-container\">\n",
              "      <div>\n",
              "<style scoped>\n",
              "    .dataframe tbody tr th:only-of-type {\n",
              "        vertical-align: middle;\n",
              "    }\n",
              "\n",
              "    .dataframe tbody tr th {\n",
              "        vertical-align: top;\n",
              "    }\n",
              "\n",
              "    .dataframe thead th {\n",
              "        text-align: right;\n",
              "    }\n",
              "</style>\n",
              "<table border=\"1\" class=\"dataframe\">\n",
              "  <thead>\n",
              "    <tr style=\"text-align: right;\">\n",
              "      <th></th>\n",
              "      <th>class</th>\n",
              "      <th>age</th>\n",
              "      <th>sex</th>\n",
              "      <th>steroid</th>\n",
              "      <th>antivirals</th>\n",
              "      <th>fatigue</th>\n",
              "      <th>malaise</th>\n",
              "      <th>anorexia</th>\n",
              "      <th>liver_big</th>\n",
              "      <th>liver_firm</th>\n",
              "      <th>spleen_palable</th>\n",
              "      <th>spiders</th>\n",
              "      <th>ascites</th>\n",
              "      <th>varices</th>\n",
              "      <th>histology</th>\n",
              "      <th>bilirubin</th>\n",
              "      <th>alk_phosphate</th>\n",
              "      <th>sgot</th>\n",
              "      <th>albumin</th>\n",
              "      <th>protime</th>\n",
              "    </tr>\n",
              "  </thead>\n",
              "  <tbody>\n",
              "    <tr>\n",
              "      <th>0</th>\n",
              "      <td>1</td>\n",
              "      <td>30</td>\n",
              "      <td>1</td>\n",
              "      <td>0</td>\n",
              "      <td>1</td>\n",
              "      <td>1</td>\n",
              "      <td>1</td>\n",
              "      <td>1</td>\n",
              "      <td>0</td>\n",
              "      <td>1</td>\n",
              "      <td>1</td>\n",
              "      <td>1</td>\n",
              "      <td>1</td>\n",
              "      <td>1</td>\n",
              "      <td>0</td>\n",
              "      <td>1.0</td>\n",
              "      <td>85</td>\n",
              "      <td>18</td>\n",
              "      <td>4.0</td>\n",
              "      <td>61</td>\n",
              "    </tr>\n",
              "    <tr>\n",
              "      <th>1</th>\n",
              "      <td>1</td>\n",
              "      <td>50</td>\n",
              "      <td>0</td>\n",
              "      <td>0</td>\n",
              "      <td>1</td>\n",
              "      <td>0</td>\n",
              "      <td>1</td>\n",
              "      <td>1</td>\n",
              "      <td>0</td>\n",
              "      <td>1</td>\n",
              "      <td>1</td>\n",
              "      <td>1</td>\n",
              "      <td>1</td>\n",
              "      <td>1</td>\n",
              "      <td>0</td>\n",
              "      <td>0.9</td>\n",
              "      <td>135</td>\n",
              "      <td>42</td>\n",
              "      <td>3.5</td>\n",
              "      <td>61</td>\n",
              "    </tr>\n",
              "    <tr>\n",
              "      <th>2</th>\n",
              "      <td>1</td>\n",
              "      <td>78</td>\n",
              "      <td>0</td>\n",
              "      <td>1</td>\n",
              "      <td>1</td>\n",
              "      <td>0</td>\n",
              "      <td>1</td>\n",
              "      <td>1</td>\n",
              "      <td>1</td>\n",
              "      <td>1</td>\n",
              "      <td>1</td>\n",
              "      <td>1</td>\n",
              "      <td>1</td>\n",
              "      <td>1</td>\n",
              "      <td>0</td>\n",
              "      <td>0.7</td>\n",
              "      <td>96</td>\n",
              "      <td>32</td>\n",
              "      <td>4.0</td>\n",
              "      <td>61</td>\n",
              "    </tr>\n",
              "    <tr>\n",
              "      <th>3</th>\n",
              "      <td>1</td>\n",
              "      <td>34</td>\n",
              "      <td>0</td>\n",
              "      <td>1</td>\n",
              "      <td>1</td>\n",
              "      <td>1</td>\n",
              "      <td>1</td>\n",
              "      <td>1</td>\n",
              "      <td>1</td>\n",
              "      <td>1</td>\n",
              "      <td>1</td>\n",
              "      <td>1</td>\n",
              "      <td>1</td>\n",
              "      <td>1</td>\n",
              "      <td>0</td>\n",
              "      <td>1.0</td>\n",
              "      <td>105</td>\n",
              "      <td>200</td>\n",
              "      <td>4.0</td>\n",
              "      <td>61</td>\n",
              "    </tr>\n",
              "    <tr>\n",
              "      <th>4</th>\n",
              "      <td>1</td>\n",
              "      <td>34</td>\n",
              "      <td>0</td>\n",
              "      <td>1</td>\n",
              "      <td>1</td>\n",
              "      <td>1</td>\n",
              "      <td>1</td>\n",
              "      <td>1</td>\n",
              "      <td>1</td>\n",
              "      <td>1</td>\n",
              "      <td>1</td>\n",
              "      <td>1</td>\n",
              "      <td>1</td>\n",
              "      <td>1</td>\n",
              "      <td>0</td>\n",
              "      <td>0.9</td>\n",
              "      <td>95</td>\n",
              "      <td>28</td>\n",
              "      <td>4.0</td>\n",
              "      <td>75</td>\n",
              "    </tr>\n",
              "    <tr>\n",
              "      <th>...</th>\n",
              "      <td>...</td>\n",
              "      <td>...</td>\n",
              "      <td>...</td>\n",
              "      <td>...</td>\n",
              "      <td>...</td>\n",
              "      <td>...</td>\n",
              "      <td>...</td>\n",
              "      <td>...</td>\n",
              "      <td>...</td>\n",
              "      <td>...</td>\n",
              "      <td>...</td>\n",
              "      <td>...</td>\n",
              "      <td>...</td>\n",
              "      <td>...</td>\n",
              "      <td>...</td>\n",
              "      <td>...</td>\n",
              "      <td>...</td>\n",
              "      <td>...</td>\n",
              "      <td>...</td>\n",
              "      <td>...</td>\n",
              "    </tr>\n",
              "    <tr>\n",
              "      <th>137</th>\n",
              "      <td>0</td>\n",
              "      <td>46</td>\n",
              "      <td>0</td>\n",
              "      <td>1</td>\n",
              "      <td>1</td>\n",
              "      <td>0</td>\n",
              "      <td>0</td>\n",
              "      <td>0</td>\n",
              "      <td>1</td>\n",
              "      <td>0</td>\n",
              "      <td>1</td>\n",
              "      <td>0</td>\n",
              "      <td>0</td>\n",
              "      <td>0</td>\n",
              "      <td>1</td>\n",
              "      <td>7.6</td>\n",
              "      <td>105</td>\n",
              "      <td>242</td>\n",
              "      <td>3.3</td>\n",
              "      <td>50</td>\n",
              "    </tr>\n",
              "    <tr>\n",
              "      <th>138</th>\n",
              "      <td>1</td>\n",
              "      <td>44</td>\n",
              "      <td>0</td>\n",
              "      <td>1</td>\n",
              "      <td>1</td>\n",
              "      <td>0</td>\n",
              "      <td>1</td>\n",
              "      <td>1</td>\n",
              "      <td>1</td>\n",
              "      <td>0</td>\n",
              "      <td>1</td>\n",
              "      <td>1</td>\n",
              "      <td>1</td>\n",
              "      <td>1</td>\n",
              "      <td>1</td>\n",
              "      <td>0.9</td>\n",
              "      <td>126</td>\n",
              "      <td>142</td>\n",
              "      <td>4.3</td>\n",
              "      <td>61</td>\n",
              "    </tr>\n",
              "    <tr>\n",
              "      <th>139</th>\n",
              "      <td>1</td>\n",
              "      <td>61</td>\n",
              "      <td>0</td>\n",
              "      <td>0</td>\n",
              "      <td>1</td>\n",
              "      <td>0</td>\n",
              "      <td>0</td>\n",
              "      <td>1</td>\n",
              "      <td>0</td>\n",
              "      <td>1</td>\n",
              "      <td>1</td>\n",
              "      <td>0</td>\n",
              "      <td>1</td>\n",
              "      <td>1</td>\n",
              "      <td>1</td>\n",
              "      <td>0.8</td>\n",
              "      <td>75</td>\n",
              "      <td>20</td>\n",
              "      <td>4.1</td>\n",
              "      <td>61</td>\n",
              "    </tr>\n",
              "    <tr>\n",
              "      <th>140</th>\n",
              "      <td>1</td>\n",
              "      <td>53</td>\n",
              "      <td>1</td>\n",
              "      <td>0</td>\n",
              "      <td>1</td>\n",
              "      <td>0</td>\n",
              "      <td>1</td>\n",
              "      <td>1</td>\n",
              "      <td>1</td>\n",
              "      <td>1</td>\n",
              "      <td>0</td>\n",
              "      <td>0</td>\n",
              "      <td>1</td>\n",
              "      <td>0</td>\n",
              "      <td>1</td>\n",
              "      <td>1.5</td>\n",
              "      <td>81</td>\n",
              "      <td>19</td>\n",
              "      <td>4.1</td>\n",
              "      <td>48</td>\n",
              "    </tr>\n",
              "    <tr>\n",
              "      <th>141</th>\n",
              "      <td>0</td>\n",
              "      <td>43</td>\n",
              "      <td>0</td>\n",
              "      <td>1</td>\n",
              "      <td>1</td>\n",
              "      <td>0</td>\n",
              "      <td>1</td>\n",
              "      <td>1</td>\n",
              "      <td>1</td>\n",
              "      <td>1</td>\n",
              "      <td>0</td>\n",
              "      <td>0</td>\n",
              "      <td>0</td>\n",
              "      <td>1</td>\n",
              "      <td>1</td>\n",
              "      <td>1.2</td>\n",
              "      <td>100</td>\n",
              "      <td>19</td>\n",
              "      <td>3.1</td>\n",
              "      <td>42</td>\n",
              "    </tr>\n",
              "  </tbody>\n",
              "</table>\n",
              "<p>142 rows × 20 columns</p>\n",
              "</div>\n",
              "      <button class=\"colab-df-convert\" onclick=\"convertToInteractive('df-5b84a0f7-ae04-47b0-b377-53d39acb19cb')\"\n",
              "              title=\"Convert this dataframe to an interactive table.\"\n",
              "              style=\"display:none;\">\n",
              "        \n",
              "  <svg xmlns=\"http://www.w3.org/2000/svg\" height=\"24px\"viewBox=\"0 0 24 24\"\n",
              "       width=\"24px\">\n",
              "    <path d=\"M0 0h24v24H0V0z\" fill=\"none\"/>\n",
              "    <path d=\"M18.56 5.44l.94 2.06.94-2.06 2.06-.94-2.06-.94-.94-2.06-.94 2.06-2.06.94zm-11 1L8.5 8.5l.94-2.06 2.06-.94-2.06-.94L8.5 2.5l-.94 2.06-2.06.94zm10 10l.94 2.06.94-2.06 2.06-.94-2.06-.94-.94-2.06-.94 2.06-2.06.94z\"/><path d=\"M17.41 7.96l-1.37-1.37c-.4-.4-.92-.59-1.43-.59-.52 0-1.04.2-1.43.59L10.3 9.45l-7.72 7.72c-.78.78-.78 2.05 0 2.83L4 21.41c.39.39.9.59 1.41.59.51 0 1.02-.2 1.41-.59l7.78-7.78 2.81-2.81c.8-.78.8-2.07 0-2.86zM5.41 20L4 18.59l7.72-7.72 1.47 1.35L5.41 20z\"/>\n",
              "  </svg>\n",
              "      </button>\n",
              "      \n",
              "  <style>\n",
              "    .colab-df-container {\n",
              "      display:flex;\n",
              "      flex-wrap:wrap;\n",
              "      gap: 12px;\n",
              "    }\n",
              "\n",
              "    .colab-df-convert {\n",
              "      background-color: #E8F0FE;\n",
              "      border: none;\n",
              "      border-radius: 50%;\n",
              "      cursor: pointer;\n",
              "      display: none;\n",
              "      fill: #1967D2;\n",
              "      height: 32px;\n",
              "      padding: 0 0 0 0;\n",
              "      width: 32px;\n",
              "    }\n",
              "\n",
              "    .colab-df-convert:hover {\n",
              "      background-color: #E2EBFA;\n",
              "      box-shadow: 0px 1px 2px rgba(60, 64, 67, 0.3), 0px 1px 3px 1px rgba(60, 64, 67, 0.15);\n",
              "      fill: #174EA6;\n",
              "    }\n",
              "\n",
              "    [theme=dark] .colab-df-convert {\n",
              "      background-color: #3B4455;\n",
              "      fill: #D2E3FC;\n",
              "    }\n",
              "\n",
              "    [theme=dark] .colab-df-convert:hover {\n",
              "      background-color: #434B5C;\n",
              "      box-shadow: 0px 1px 3px 1px rgba(0, 0, 0, 0.15);\n",
              "      filter: drop-shadow(0px 1px 2px rgba(0, 0, 0, 0.3));\n",
              "      fill: #FFFFFF;\n",
              "    }\n",
              "  </style>\n",
              "\n",
              "      <script>\n",
              "        const buttonEl =\n",
              "          document.querySelector('#df-5b84a0f7-ae04-47b0-b377-53d39acb19cb button.colab-df-convert');\n",
              "        buttonEl.style.display =\n",
              "          google.colab.kernel.accessAllowed ? 'block' : 'none';\n",
              "\n",
              "        async function convertToInteractive(key) {\n",
              "          const element = document.querySelector('#df-5b84a0f7-ae04-47b0-b377-53d39acb19cb');\n",
              "          const dataTable =\n",
              "            await google.colab.kernel.invokeFunction('convertToInteractive',\n",
              "                                                     [key], {});\n",
              "          if (!dataTable) return;\n",
              "\n",
              "          const docLinkHtml = 'Like what you see? Visit the ' +\n",
              "            '<a target=\"_blank\" href=https://colab.research.google.com/notebooks/data_table.ipynb>data table notebook</a>'\n",
              "            + ' to learn more about interactive tables.';\n",
              "          element.innerHTML = '';\n",
              "          dataTable['output_type'] = 'display_data';\n",
              "          await google.colab.output.renderOutput(dataTable, element);\n",
              "          const docLink = document.createElement('div');\n",
              "          docLink.innerHTML = docLinkHtml;\n",
              "          element.appendChild(docLink);\n",
              "        }\n",
              "      </script>\n",
              "    </div>\n",
              "  </div>\n",
              "  "
            ]
          },
          "metadata": {},
          "execution_count": 98
        }
      ],
      "source": [
        "df_4"
      ]
    },
    {
      "cell_type": "code",
      "execution_count": 99,
      "metadata": {
        "colab": {
          "base_uri": "https://localhost:8080/"
        },
        "id": "B4mPKtltpecf",
        "outputId": "def1f8ab-a16c-4335-e66f-acfe81073f4f"
      },
      "outputs": [
        {
          "output_type": "stream",
          "name": "stdout",
          "text": [
            "<class 'pandas.core.frame.DataFrame'>\n",
            "RangeIndex: 142 entries, 0 to 141\n",
            "Data columns (total 20 columns):\n",
            " #   Column          Non-Null Count  Dtype  \n",
            "---  ------          --------------  -----  \n",
            " 0   class           142 non-null    int64  \n",
            " 1   age             142 non-null    int64  \n",
            " 2   sex             142 non-null    int64  \n",
            " 3   steroid         142 non-null    int64  \n",
            " 4   antivirals      142 non-null    int64  \n",
            " 5   fatigue         142 non-null    int64  \n",
            " 6   malaise         142 non-null    int64  \n",
            " 7   anorexia        142 non-null    int64  \n",
            " 8   liver_big       142 non-null    int64  \n",
            " 9   liver_firm      142 non-null    int64  \n",
            " 10  spleen_palable  142 non-null    int64  \n",
            " 11  spiders         142 non-null    int64  \n",
            " 12  ascites         142 non-null    int64  \n",
            " 13  varices         142 non-null    int64  \n",
            " 14  histology       142 non-null    int64  \n",
            " 15  bilirubin       142 non-null    float64\n",
            " 16  alk_phosphate   142 non-null    int64  \n",
            " 17  sgot            142 non-null    int64  \n",
            " 18  albumin         142 non-null    float64\n",
            " 19  protime         142 non-null    int64  \n",
            "dtypes: float64(2), int64(18)\n",
            "memory usage: 22.3 KB\n"
          ]
        }
      ],
      "source": [
        "df_4.info()"
      ]
    },
    {
      "cell_type": "markdown",
      "metadata": {
        "id": "rfCfO1fTJvZ6"
      },
      "source": [
        "### Graphs"
      ]
    },
    {
      "cell_type": "code",
      "execution_count": 100,
      "metadata": {
        "id": "NriWXiPKNZMc"
      },
      "outputs": [],
      "source": [
        "df_4.rename(columns = {'class':'classi'}, inplace = True)"
      ]
    },
    {
      "cell_type": "code",
      "execution_count": 101,
      "metadata": {
        "colab": {
          "base_uri": "https://localhost:8080/",
          "height": 423
        },
        "id": "4I-UzjMHNnBC",
        "outputId": "e0231a86-1eaa-410c-b92d-2635732a55e5"
      },
      "outputs": [
        {
          "output_type": "execute_result",
          "data": {
            "text/plain": [
              "     classi  age  sex  steroid  antivirals  fatigue  malaise  anorexia  \\\n",
              "0         1   30    1        0           1        1        1         1   \n",
              "1         1   50    0        0           1        0        1         1   \n",
              "2         1   78    0        1           1        0        1         1   \n",
              "3         1   34    0        1           1        1        1         1   \n",
              "4         1   34    0        1           1        1        1         1   \n",
              "..      ...  ...  ...      ...         ...      ...      ...       ...   \n",
              "137       0   46    0        1           1        0        0         0   \n",
              "138       1   44    0        1           1        0        1         1   \n",
              "139       1   61    0        0           1        0        0         1   \n",
              "140       1   53    1        0           1        0        1         1   \n",
              "141       0   43    0        1           1        0        1         1   \n",
              "\n",
              "     liver_big  liver_firm  spleen_palable  spiders  ascites  varices  \\\n",
              "0            0           1               1        1        1        1   \n",
              "1            0           1               1        1        1        1   \n",
              "2            1           1               1        1        1        1   \n",
              "3            1           1               1        1        1        1   \n",
              "4            1           1               1        1        1        1   \n",
              "..         ...         ...             ...      ...      ...      ...   \n",
              "137          1           0               1        0        0        0   \n",
              "138          1           0               1        1        1        1   \n",
              "139          0           1               1        0        1        1   \n",
              "140          1           1               0        0        1        0   \n",
              "141          1           1               0        0        0        1   \n",
              "\n",
              "     histology  bilirubin  alk_phosphate  sgot  albumin  protime  \n",
              "0            0        1.0             85    18      4.0       61  \n",
              "1            0        0.9            135    42      3.5       61  \n",
              "2            0        0.7             96    32      4.0       61  \n",
              "3            0        1.0            105   200      4.0       61  \n",
              "4            0        0.9             95    28      4.0       75  \n",
              "..         ...        ...            ...   ...      ...      ...  \n",
              "137          1        7.6            105   242      3.3       50  \n",
              "138          1        0.9            126   142      4.3       61  \n",
              "139          1        0.8             75    20      4.1       61  \n",
              "140          1        1.5             81    19      4.1       48  \n",
              "141          1        1.2            100    19      3.1       42  \n",
              "\n",
              "[142 rows x 20 columns]"
            ],
            "text/html": [
              "\n",
              "  <div id=\"df-8267f91d-29ab-4f95-91dc-33aabd00e7d7\">\n",
              "    <div class=\"colab-df-container\">\n",
              "      <div>\n",
              "<style scoped>\n",
              "    .dataframe tbody tr th:only-of-type {\n",
              "        vertical-align: middle;\n",
              "    }\n",
              "\n",
              "    .dataframe tbody tr th {\n",
              "        vertical-align: top;\n",
              "    }\n",
              "\n",
              "    .dataframe thead th {\n",
              "        text-align: right;\n",
              "    }\n",
              "</style>\n",
              "<table border=\"1\" class=\"dataframe\">\n",
              "  <thead>\n",
              "    <tr style=\"text-align: right;\">\n",
              "      <th></th>\n",
              "      <th>classi</th>\n",
              "      <th>age</th>\n",
              "      <th>sex</th>\n",
              "      <th>steroid</th>\n",
              "      <th>antivirals</th>\n",
              "      <th>fatigue</th>\n",
              "      <th>malaise</th>\n",
              "      <th>anorexia</th>\n",
              "      <th>liver_big</th>\n",
              "      <th>liver_firm</th>\n",
              "      <th>spleen_palable</th>\n",
              "      <th>spiders</th>\n",
              "      <th>ascites</th>\n",
              "      <th>varices</th>\n",
              "      <th>histology</th>\n",
              "      <th>bilirubin</th>\n",
              "      <th>alk_phosphate</th>\n",
              "      <th>sgot</th>\n",
              "      <th>albumin</th>\n",
              "      <th>protime</th>\n",
              "    </tr>\n",
              "  </thead>\n",
              "  <tbody>\n",
              "    <tr>\n",
              "      <th>0</th>\n",
              "      <td>1</td>\n",
              "      <td>30</td>\n",
              "      <td>1</td>\n",
              "      <td>0</td>\n",
              "      <td>1</td>\n",
              "      <td>1</td>\n",
              "      <td>1</td>\n",
              "      <td>1</td>\n",
              "      <td>0</td>\n",
              "      <td>1</td>\n",
              "      <td>1</td>\n",
              "      <td>1</td>\n",
              "      <td>1</td>\n",
              "      <td>1</td>\n",
              "      <td>0</td>\n",
              "      <td>1.0</td>\n",
              "      <td>85</td>\n",
              "      <td>18</td>\n",
              "      <td>4.0</td>\n",
              "      <td>61</td>\n",
              "    </tr>\n",
              "    <tr>\n",
              "      <th>1</th>\n",
              "      <td>1</td>\n",
              "      <td>50</td>\n",
              "      <td>0</td>\n",
              "      <td>0</td>\n",
              "      <td>1</td>\n",
              "      <td>0</td>\n",
              "      <td>1</td>\n",
              "      <td>1</td>\n",
              "      <td>0</td>\n",
              "      <td>1</td>\n",
              "      <td>1</td>\n",
              "      <td>1</td>\n",
              "      <td>1</td>\n",
              "      <td>1</td>\n",
              "      <td>0</td>\n",
              "      <td>0.9</td>\n",
              "      <td>135</td>\n",
              "      <td>42</td>\n",
              "      <td>3.5</td>\n",
              "      <td>61</td>\n",
              "    </tr>\n",
              "    <tr>\n",
              "      <th>2</th>\n",
              "      <td>1</td>\n",
              "      <td>78</td>\n",
              "      <td>0</td>\n",
              "      <td>1</td>\n",
              "      <td>1</td>\n",
              "      <td>0</td>\n",
              "      <td>1</td>\n",
              "      <td>1</td>\n",
              "      <td>1</td>\n",
              "      <td>1</td>\n",
              "      <td>1</td>\n",
              "      <td>1</td>\n",
              "      <td>1</td>\n",
              "      <td>1</td>\n",
              "      <td>0</td>\n",
              "      <td>0.7</td>\n",
              "      <td>96</td>\n",
              "      <td>32</td>\n",
              "      <td>4.0</td>\n",
              "      <td>61</td>\n",
              "    </tr>\n",
              "    <tr>\n",
              "      <th>3</th>\n",
              "      <td>1</td>\n",
              "      <td>34</td>\n",
              "      <td>0</td>\n",
              "      <td>1</td>\n",
              "      <td>1</td>\n",
              "      <td>1</td>\n",
              "      <td>1</td>\n",
              "      <td>1</td>\n",
              "      <td>1</td>\n",
              "      <td>1</td>\n",
              "      <td>1</td>\n",
              "      <td>1</td>\n",
              "      <td>1</td>\n",
              "      <td>1</td>\n",
              "      <td>0</td>\n",
              "      <td>1.0</td>\n",
              "      <td>105</td>\n",
              "      <td>200</td>\n",
              "      <td>4.0</td>\n",
              "      <td>61</td>\n",
              "    </tr>\n",
              "    <tr>\n",
              "      <th>4</th>\n",
              "      <td>1</td>\n",
              "      <td>34</td>\n",
              "      <td>0</td>\n",
              "      <td>1</td>\n",
              "      <td>1</td>\n",
              "      <td>1</td>\n",
              "      <td>1</td>\n",
              "      <td>1</td>\n",
              "      <td>1</td>\n",
              "      <td>1</td>\n",
              "      <td>1</td>\n",
              "      <td>1</td>\n",
              "      <td>1</td>\n",
              "      <td>1</td>\n",
              "      <td>0</td>\n",
              "      <td>0.9</td>\n",
              "      <td>95</td>\n",
              "      <td>28</td>\n",
              "      <td>4.0</td>\n",
              "      <td>75</td>\n",
              "    </tr>\n",
              "    <tr>\n",
              "      <th>...</th>\n",
              "      <td>...</td>\n",
              "      <td>...</td>\n",
              "      <td>...</td>\n",
              "      <td>...</td>\n",
              "      <td>...</td>\n",
              "      <td>...</td>\n",
              "      <td>...</td>\n",
              "      <td>...</td>\n",
              "      <td>...</td>\n",
              "      <td>...</td>\n",
              "      <td>...</td>\n",
              "      <td>...</td>\n",
              "      <td>...</td>\n",
              "      <td>...</td>\n",
              "      <td>...</td>\n",
              "      <td>...</td>\n",
              "      <td>...</td>\n",
              "      <td>...</td>\n",
              "      <td>...</td>\n",
              "      <td>...</td>\n",
              "    </tr>\n",
              "    <tr>\n",
              "      <th>137</th>\n",
              "      <td>0</td>\n",
              "      <td>46</td>\n",
              "      <td>0</td>\n",
              "      <td>1</td>\n",
              "      <td>1</td>\n",
              "      <td>0</td>\n",
              "      <td>0</td>\n",
              "      <td>0</td>\n",
              "      <td>1</td>\n",
              "      <td>0</td>\n",
              "      <td>1</td>\n",
              "      <td>0</td>\n",
              "      <td>0</td>\n",
              "      <td>0</td>\n",
              "      <td>1</td>\n",
              "      <td>7.6</td>\n",
              "      <td>105</td>\n",
              "      <td>242</td>\n",
              "      <td>3.3</td>\n",
              "      <td>50</td>\n",
              "    </tr>\n",
              "    <tr>\n",
              "      <th>138</th>\n",
              "      <td>1</td>\n",
              "      <td>44</td>\n",
              "      <td>0</td>\n",
              "      <td>1</td>\n",
              "      <td>1</td>\n",
              "      <td>0</td>\n",
              "      <td>1</td>\n",
              "      <td>1</td>\n",
              "      <td>1</td>\n",
              "      <td>0</td>\n",
              "      <td>1</td>\n",
              "      <td>1</td>\n",
              "      <td>1</td>\n",
              "      <td>1</td>\n",
              "      <td>1</td>\n",
              "      <td>0.9</td>\n",
              "      <td>126</td>\n",
              "      <td>142</td>\n",
              "      <td>4.3</td>\n",
              "      <td>61</td>\n",
              "    </tr>\n",
              "    <tr>\n",
              "      <th>139</th>\n",
              "      <td>1</td>\n",
              "      <td>61</td>\n",
              "      <td>0</td>\n",
              "      <td>0</td>\n",
              "      <td>1</td>\n",
              "      <td>0</td>\n",
              "      <td>0</td>\n",
              "      <td>1</td>\n",
              "      <td>0</td>\n",
              "      <td>1</td>\n",
              "      <td>1</td>\n",
              "      <td>0</td>\n",
              "      <td>1</td>\n",
              "      <td>1</td>\n",
              "      <td>1</td>\n",
              "      <td>0.8</td>\n",
              "      <td>75</td>\n",
              "      <td>20</td>\n",
              "      <td>4.1</td>\n",
              "      <td>61</td>\n",
              "    </tr>\n",
              "    <tr>\n",
              "      <th>140</th>\n",
              "      <td>1</td>\n",
              "      <td>53</td>\n",
              "      <td>1</td>\n",
              "      <td>0</td>\n",
              "      <td>1</td>\n",
              "      <td>0</td>\n",
              "      <td>1</td>\n",
              "      <td>1</td>\n",
              "      <td>1</td>\n",
              "      <td>1</td>\n",
              "      <td>0</td>\n",
              "      <td>0</td>\n",
              "      <td>1</td>\n",
              "      <td>0</td>\n",
              "      <td>1</td>\n",
              "      <td>1.5</td>\n",
              "      <td>81</td>\n",
              "      <td>19</td>\n",
              "      <td>4.1</td>\n",
              "      <td>48</td>\n",
              "    </tr>\n",
              "    <tr>\n",
              "      <th>141</th>\n",
              "      <td>0</td>\n",
              "      <td>43</td>\n",
              "      <td>0</td>\n",
              "      <td>1</td>\n",
              "      <td>1</td>\n",
              "      <td>0</td>\n",
              "      <td>1</td>\n",
              "      <td>1</td>\n",
              "      <td>1</td>\n",
              "      <td>1</td>\n",
              "      <td>0</td>\n",
              "      <td>0</td>\n",
              "      <td>0</td>\n",
              "      <td>1</td>\n",
              "      <td>1</td>\n",
              "      <td>1.2</td>\n",
              "      <td>100</td>\n",
              "      <td>19</td>\n",
              "      <td>3.1</td>\n",
              "      <td>42</td>\n",
              "    </tr>\n",
              "  </tbody>\n",
              "</table>\n",
              "<p>142 rows × 20 columns</p>\n",
              "</div>\n",
              "      <button class=\"colab-df-convert\" onclick=\"convertToInteractive('df-8267f91d-29ab-4f95-91dc-33aabd00e7d7')\"\n",
              "              title=\"Convert this dataframe to an interactive table.\"\n",
              "              style=\"display:none;\">\n",
              "        \n",
              "  <svg xmlns=\"http://www.w3.org/2000/svg\" height=\"24px\"viewBox=\"0 0 24 24\"\n",
              "       width=\"24px\">\n",
              "    <path d=\"M0 0h24v24H0V0z\" fill=\"none\"/>\n",
              "    <path d=\"M18.56 5.44l.94 2.06.94-2.06 2.06-.94-2.06-.94-.94-2.06-.94 2.06-2.06.94zm-11 1L8.5 8.5l.94-2.06 2.06-.94-2.06-.94L8.5 2.5l-.94 2.06-2.06.94zm10 10l.94 2.06.94-2.06 2.06-.94-2.06-.94-.94-2.06-.94 2.06-2.06.94z\"/><path d=\"M17.41 7.96l-1.37-1.37c-.4-.4-.92-.59-1.43-.59-.52 0-1.04.2-1.43.59L10.3 9.45l-7.72 7.72c-.78.78-.78 2.05 0 2.83L4 21.41c.39.39.9.59 1.41.59.51 0 1.02-.2 1.41-.59l7.78-7.78 2.81-2.81c.8-.78.8-2.07 0-2.86zM5.41 20L4 18.59l7.72-7.72 1.47 1.35L5.41 20z\"/>\n",
              "  </svg>\n",
              "      </button>\n",
              "      \n",
              "  <style>\n",
              "    .colab-df-container {\n",
              "      display:flex;\n",
              "      flex-wrap:wrap;\n",
              "      gap: 12px;\n",
              "    }\n",
              "\n",
              "    .colab-df-convert {\n",
              "      background-color: #E8F0FE;\n",
              "      border: none;\n",
              "      border-radius: 50%;\n",
              "      cursor: pointer;\n",
              "      display: none;\n",
              "      fill: #1967D2;\n",
              "      height: 32px;\n",
              "      padding: 0 0 0 0;\n",
              "      width: 32px;\n",
              "    }\n",
              "\n",
              "    .colab-df-convert:hover {\n",
              "      background-color: #E2EBFA;\n",
              "      box-shadow: 0px 1px 2px rgba(60, 64, 67, 0.3), 0px 1px 3px 1px rgba(60, 64, 67, 0.15);\n",
              "      fill: #174EA6;\n",
              "    }\n",
              "\n",
              "    [theme=dark] .colab-df-convert {\n",
              "      background-color: #3B4455;\n",
              "      fill: #D2E3FC;\n",
              "    }\n",
              "\n",
              "    [theme=dark] .colab-df-convert:hover {\n",
              "      background-color: #434B5C;\n",
              "      box-shadow: 0px 1px 3px 1px rgba(0, 0, 0, 0.15);\n",
              "      filter: drop-shadow(0px 1px 2px rgba(0, 0, 0, 0.3));\n",
              "      fill: #FFFFFF;\n",
              "    }\n",
              "  </style>\n",
              "\n",
              "      <script>\n",
              "        const buttonEl =\n",
              "          document.querySelector('#df-8267f91d-29ab-4f95-91dc-33aabd00e7d7 button.colab-df-convert');\n",
              "        buttonEl.style.display =\n",
              "          google.colab.kernel.accessAllowed ? 'block' : 'none';\n",
              "\n",
              "        async function convertToInteractive(key) {\n",
              "          const element = document.querySelector('#df-8267f91d-29ab-4f95-91dc-33aabd00e7d7');\n",
              "          const dataTable =\n",
              "            await google.colab.kernel.invokeFunction('convertToInteractive',\n",
              "                                                     [key], {});\n",
              "          if (!dataTable) return;\n",
              "\n",
              "          const docLinkHtml = 'Like what you see? Visit the ' +\n",
              "            '<a target=\"_blank\" href=https://colab.research.google.com/notebooks/data_table.ipynb>data table notebook</a>'\n",
              "            + ' to learn more about interactive tables.';\n",
              "          element.innerHTML = '';\n",
              "          dataTable['output_type'] = 'display_data';\n",
              "          await google.colab.output.renderOutput(dataTable, element);\n",
              "          const docLink = document.createElement('div');\n",
              "          docLink.innerHTML = docLinkHtml;\n",
              "          element.appendChild(docLink);\n",
              "        }\n",
              "      </script>\n",
              "    </div>\n",
              "  </div>\n",
              "  "
            ]
          },
          "metadata": {},
          "execution_count": 101
        }
      ],
      "source": [
        "df_4"
      ]
    },
    {
      "cell_type": "code",
      "execution_count": 102,
      "metadata": {
        "colab": {
          "base_uri": "https://localhost:8080/",
          "height": 382
        },
        "id": "JfroBmOIMeNM",
        "outputId": "80d4b02b-5c63-4efe-f673-93efe69a8bf4"
      },
      "outputs": [
        {
          "output_type": "display_data",
          "data": {
            "text/plain": [
              "<Figure size 432x288 with 1 Axes>"
            ],
            "image/png": "[encoded data removed]"
          },
          "metadata": {}
        }
      ],
      "source": [
        "label = df_4.classi.value_counts().index\n",
        "label_count = df_4.classi.value_counts().values\n",
        "plt.pie(data=df_4, x=label_count, labels=label, autopct='%1.1f%%', shadow=True, radius=2)\n",
        "plt.show()"
      ]
    },
    {
      "cell_type": "code",
      "execution_count": 103,
      "metadata": {
        "colab": {
          "base_uri": "https://localhost:8080/",
          "height": 283
        },
        "id": "-ExiPr4_N0iL",
        "outputId": "71083913-9709-47cc-e496-c3fb74e6e5a8"
      },
      "outputs": [
        {
          "output_type": "execute_result",
          "data": {
            "text/plain": [
              "<matplotlib.axes._subplots.AxesSubplot at 0x7f6267bdab20>"
            ]
          },
          "metadata": {},
          "execution_count": 103
        },
        {
          "output_type": "display_data",
          "data": {
            "text/plain": [
              "<Figure size 432x288 with 1 Axes>"
            ],
            "image/png": "[encoded data removed]"
          },
          "metadata": {
            "needs_background": "light"
          }
        }
      ],
      "source": [
        "df_4[\"age\"].hist()"
      ]
    },
    {
      "cell_type": "code",
      "execution_count": 104,
      "metadata": {
        "colab": {
          "base_uri": "https://localhost:8080/",
          "height": 1000
        },
        "id": "zYmO7n6dQ6cz",
        "outputId": "97d8cef4-c910-4293-d25c-e92f0721250d"
      },
      "outputs": [
        {
          "output_type": "display_data",
          "data": {
            "text/plain": [
              "<Figure size 432x288 with 1 Axes>"
            ],
            "image/png": "[encoded data removed]"
          },
          "metadata": {
            "needs_background": "light"
          }
        },
        {
          "output_type": "display_data",
          "data": {
            "text/plain": [
              "<Figure size 432x288 with 1 Axes>"
            ],
            "image/png": "[encoded data removed]"
          },
          "metadata": {
            "needs_background": "light"
          }
        },
        {
          "output_type": "display_data",
          "data": {
            "text/plain": [
              "<Figure size 432x288 with 1 Axes>"
            ],
            "image/png": "[encoded data removed]"
          },
          "metadata": {
            "needs_background": "light"
          }
        },
        {
          "output_type": "display_data",
          "data": {
            "text/plain": [
              "<Figure size 432x288 with 1 Axes>"
            ],
            "image/png": "[encoded data removed]"
          },
          "metadata": {
            "needs_background": "light"
          }
        },
        {
          "output_type": "display_data",
          "data": {
            "text/plain": [
              "<Figure size 432x288 with 1 Axes>"
            ],
            "image/png": "[encoded data removed]"
          },
          "metadata": {
            "needs_background": "light"
          }
        },
        {
          "output_type": "display_data",
          "data": {
            "text/plain": [
              "<Figure size 432x288 with 1 Axes>"
            ],
            "image/png": "[encoded data removed]"
          },
          "metadata": {
            "needs_background": "light"
          }
        },
        {
          "output_type": "display_data",
          "data": {
            "text/plain": [
              "<Figure size 432x288 with 1 Axes>"
            ],
            "image/png": "[encoded data removed]"
          },
          "metadata": {
            "needs_background": "light"
          }
        },
        {
          "output_type": "display_data",
          "data": {
            "text/plain": [
              "<Figure size 432x288 with 1 Axes>"
            ],
            "image/png": "[encoded data removed]"
          },
          "metadata": {
            "needs_background": "light"
          }
        },
        {
          "output_type": "display_data",
          "data": {
            "text/plain": [
              "<Figure size 432x288 with 1 Axes>"
            ],
            "image/png": "[encoded data removed]"
          },
          "metadata": {
            "needs_background": "light"
          }
        },
        {
          "output_type": "display_data",
          "data": {
            "text/plain": [
              "<Figure size 432x288 with 1 Axes>"
            ],
            "image/png": "[encoded data removed]"
          },
          "metadata": {
            "needs_background": "light"
          }
        },
        {
          "output_type": "display_data",
          "data": {
            "text/plain": [
              "<Figure size 432x288 with 1 Axes>"
            ],
            "image/png": "[encoded data removed]"
          },
          "metadata": {
            "needs_background": "light"
          }
        },
        {
          "output_type": "display_data",
          "data": {
            "text/plain": [
              "<Figure size 432x288 with 1 Axes>"
            ],
            "image/png": "[encoded data removed]"
          },
          "metadata": {
            "needs_background": "light"
          }
        },
        {
          "output_type": "display_data",
          "data": {
            "text/plain": [
              "<Figure size 432x288 with 1 Axes>"
            ],
            "image/png": "[encoded data removed]"
          },
          "metadata": {
            "needs_background": "light"
          }
        },
        {
          "output_type": "display_data",
          "data": {
            "text/plain": [
              "<Figure size 432x288 with 1 Axes>"
            ],
            "image/png": "[encoded data removed]"
          },
          "metadata": {
            "needs_background": "light"
          }
        },
        {
          "output_type": "display_data",
          "data": {
            "text/plain": [
              "<Figure size 432x288 with 1 Axes>"
            ],
            "image/png": "[encoded data removed]"
          },
          "metadata": {
            "needs_background": "light"
          }
        },
        {
          "output_type": "display_data",
          "data": {
            "text/plain": [
              "<Figure size 432x288 with 1 Axes>"
            ],
            "image/png": "[encoded data removed]"
          },
          "metadata": {
            "needs_background": "light"
          }
        },
        {
          "output_type": "display_data",
          "data": {
            "text/plain": [
              "<Figure size 432x288 with 1 Axes>"
            ],
            "image/png": "[encoded data removed]"
          },
          "metadata": {
            "needs_background": "light"
          }
        },
        {
          "output_type": "display_data",
          "data": {
            "text/plain": [
              "<Figure size 432x288 with 1 Axes>"
            ],
            "image/png": "[encoded data removed]"
          },
          "metadata": {
            "needs_background": "light"
          }
        },
        {
          "output_type": "display_data",
          "data": {
            "text/plain": [
              "<Figure size 432x288 with 1 Axes>"
            ],
            "image/png": "[encoded data removed]"
          },
          "metadata": {
            "needs_background": "light"
          }
        },
        {
          "output_type": "display_data",
          "data": {
            "text/plain": [
              "<Figure size 432x288 with 1 Axes>"
            ],
            "image/png": "[encoded data removed]"
          },
          "metadata": {
            "needs_background": "light"
          }
        }
      ],
      "source": [
        "import matplotlib.pyplot as plt\n",
        "\n",
        "\n",
        "for i, col in enumerate(df_4.columns):\n",
        "    plt.figure(i)\n",
        "    sns.countplot(x=col, data=df_4,hue=\"classi\")"
      ]
    },
    {
      "cell_type": "markdown",
      "metadata": {
        "id": "F-noG0OEcuwq"
      },
      "source": [
        "## machine learning algorithms "
      ]
    },
    {
      "cell_type": "code",
      "execution_count": 105,
      "metadata": {
        "id": "dj3-SGA6cNc7"
      },
      "outputs": [],
      "source": [
        "x = df_4.drop(\"classi\", axis =1)\n",
        "y = df_4[\"classi\"]"
      ]
    },
    {
      "cell_type": "code",
      "execution_count": 106,
      "metadata": {
        "id": "g2hfJYEld11U"
      },
      "outputs": [],
      "source": [
        "from sklearn.model_selection import train_test_split\n",
        "x_train,x_test,y_train,y_test = train_test_split(x,y,test_size = 0.2, random_state = 42)"
      ]
    },
    {
      "cell_type": "code",
      "execution_count": 107,
      "metadata": {
        "id": "jUde5M4Ml7Wt"
      },
      "outputs": [],
      "source": [
        "import tensorflow as tf "
      ]
    },
    {
      "cell_type": "code",
      "execution_count": 108,
      "metadata": {
        "colab": {
          "base_uri": "https://localhost:8080/"
        },
        "id": "D2TJrkZslKw-",
        "outputId": "a54d5fe5-4bce-4dcb-d014-df52e63c2785"
      },
      "outputs": [
        {
          "output_type": "stream",
          "name": "stderr",
          "text": [
            "/usr/local/lib/python3.8/dist-packages/keras/optimizers/optimizer_v2/adam.py:110: UserWarning: The `lr` argument is deprecated, use `learning_rate` instead.\n",
            "  super(Adam, self).__init__(name, **kwargs)\n"
          ]
        }
      ],
      "source": [
        "tf.random.set_seed(42)\n",
        "\n",
        "# STEP1: Creating the model\n",
        "\n",
        "model = tf.keras.Sequential([\n",
        "                            tf.keras.layers.Dense(10, activation='relu'),\n",
        "                            tf.keras.layers.Dense(7, activation='relu'),\n",
        "                            tf.keras.layers.Dense(5, activation='relu'),\n",
        "                            tf.keras.layers.Dense(1, activation='sigmoid')\n",
        "])\n",
        "\n",
        "# STEP2: Compiling the model\n",
        "\n",
        "model.compile(loss= tf.keras.losses.binary_crossentropy,\n",
        "              optimizer= tf.keras.optimizers.Adam(lr=0.005),\n",
        "              metrics= [tf.keras.metrics.BinaryAccuracy(name='accuracy'),\n",
        "                        tf.keras.metrics.Precision(name='precision'),\n",
        "                        tf.keras.metrics.Recall(name='a=recall')\n",
        "              ]\n",
        "              )\n",
        "\n",
        "\n"
      ]
    },
    {
      "cell_type": "code",
      "execution_count": 109,
      "metadata": {
        "colab": {
          "base_uri": "https://localhost:8080/"
        },
        "id": "QUnyrTX34LqA",
        "outputId": "2b66b7c9-176b-4120-a1ae-587458a9af89"
      },
      "outputs": [
        {
          "output_type": "stream",
          "name": "stdout",
          "text": [
            "Epoch 1/100\n",
            "4/4 [==============================] - 1s 4ms/step - loss: 3.4724 - accuracy: 0.5664 - precision: 0.8154 - a=recall: 0.5889\n",
            "Epoch 2/100\n",
            "4/4 [==============================] - 0s 3ms/step - loss: 1.8308 - accuracy: 0.7257 - precision: 0.8172 - a=recall: 0.8444\n",
            "Epoch 3/100\n",
            "4/4 [==============================] - 0s 4ms/step - loss: 1.6558 - accuracy: 0.7965 - precision: 0.7965 - a=recall: 1.0000\n",
            "Epoch 4/100\n",
            "4/4 [==============================] - 0s 5ms/step - loss: 1.1517 - accuracy: 0.7611 - precision: 0.7944 - a=recall: 0.9444\n",
            "Epoch 5/100\n",
            "4/4 [==============================] - 0s 3ms/step - loss: 0.9258 - accuracy: 0.6372 - precision: 0.8101 - a=recall: 0.7111\n",
            "Epoch 6/100\n",
            "4/4 [==============================] - 0s 3ms/step - loss: 0.6034 - accuracy: 0.7699 - precision: 0.8478 - a=recall: 0.8667\n",
            "Epoch 7/100\n",
            "4/4 [==============================] - 0s 3ms/step - loss: 0.6600 - accuracy: 0.7965 - precision: 0.7965 - a=recall: 1.0000\n",
            "Epoch 8/100\n",
            "4/4 [==============================] - 0s 5ms/step - loss: 0.5449 - accuracy: 0.7965 - precision: 0.7965 - a=recall: 1.0000\n",
            "Epoch 9/100\n",
            "4/4 [==============================] - 0s 4ms/step - loss: 0.5674 - accuracy: 0.6549 - precision: 0.8228 - a=recall: 0.7222\n",
            "Epoch 10/100\n",
            "4/4 [==============================] - 0s 4ms/step - loss: 0.4572 - accuracy: 0.7876 - precision: 0.8235 - a=recall: 0.9333\n",
            "Epoch 11/100\n",
            "4/4 [==============================] - 0s 3ms/step - loss: 0.4847 - accuracy: 0.7965 - precision: 0.7965 - a=recall: 1.0000\n",
            "Epoch 12/100\n",
            "4/4 [==============================] - 0s 3ms/step - loss: 0.4378 - accuracy: 0.8053 - precision: 0.8036 - a=recall: 1.0000\n",
            "Epoch 13/100\n",
            "4/4 [==============================] - 0s 3ms/step - loss: 0.4169 - accuracy: 0.8053 - precision: 0.8617 - a=recall: 0.9000\n",
            "Epoch 14/100\n",
            "4/4 [==============================] - 0s 3ms/step - loss: 0.4199 - accuracy: 0.8053 - precision: 0.8400 - a=recall: 0.9333\n",
            "Epoch 15/100\n",
            "4/4 [==============================] - 0s 3ms/step - loss: 0.4040 - accuracy: 0.8230 - precision: 0.8182 - a=recall: 1.0000\n",
            "Epoch 16/100\n",
            "4/4 [==============================] - 0s 3ms/step - loss: 0.3950 - accuracy: 0.8142 - precision: 0.8286 - a=recall: 0.9667\n",
            "Epoch 17/100\n",
            "4/4 [==============================] - 0s 4ms/step - loss: 0.3851 - accuracy: 0.8230 - precision: 0.8431 - a=recall: 0.9556\n",
            "Epoch 18/100\n",
            "4/4 [==============================] - 0s 3ms/step - loss: 0.3774 - accuracy: 0.8053 - precision: 0.8269 - a=recall: 0.9556\n",
            "Epoch 19/100\n",
            "4/4 [==============================] - 0s 5ms/step - loss: 0.3750 - accuracy: 0.8407 - precision: 0.8600 - a=recall: 0.9556\n",
            "Epoch 20/100\n",
            "4/4 [==============================] - 0s 4ms/step - loss: 0.3729 - accuracy: 0.8053 - precision: 0.8269 - a=recall: 0.9556\n",
            "Epoch 21/100\n",
            "4/4 [==============================] - 0s 3ms/step - loss: 0.3695 - accuracy: 0.8230 - precision: 0.8500 - a=recall: 0.9444\n",
            "Epoch 22/100\n",
            "4/4 [==============================] - 0s 4ms/step - loss: 0.3621 - accuracy: 0.8407 - precision: 0.8600 - a=recall: 0.9556\n",
            "Epoch 23/100\n",
            "4/4 [==============================] - 0s 4ms/step - loss: 0.3581 - accuracy: 0.8142 - precision: 0.8286 - a=recall: 0.9667\n",
            "Epoch 24/100\n",
            "4/4 [==============================] - 0s 4ms/step - loss: 0.3648 - accuracy: 0.8319 - precision: 0.8447 - a=recall: 0.9667\n",
            "Epoch 25/100\n",
            "4/4 [==============================] - 0s 3ms/step - loss: 0.3556 - accuracy: 0.8319 - precision: 0.8515 - a=recall: 0.9556\n",
            "Epoch 26/100\n",
            "4/4 [==============================] - 0s 5ms/step - loss: 0.3523 - accuracy: 0.8230 - precision: 0.8431 - a=recall: 0.9556\n",
            "Epoch 27/100\n",
            "4/4 [==============================] - 0s 4ms/step - loss: 0.3550 - accuracy: 0.8319 - precision: 0.8586 - a=recall: 0.9444\n",
            "Epoch 28/100\n",
            "4/4 [==============================] - 0s 4ms/step - loss: 0.3584 - accuracy: 0.8496 - precision: 0.8476 - a=recall: 0.9889\n",
            "Epoch 29/100\n",
            "4/4 [==============================] - 0s 4ms/step - loss: 0.3496 - accuracy: 0.8319 - precision: 0.8660 - a=recall: 0.9333\n",
            "Epoch 30/100\n",
            "4/4 [==============================] - 0s 4ms/step - loss: 0.3482 - accuracy: 0.8230 - precision: 0.8571 - a=recall: 0.9333\n",
            "Epoch 31/100\n",
            "4/4 [==============================] - 0s 4ms/step - loss: 0.3379 - accuracy: 0.8407 - precision: 0.8529 - a=recall: 0.9667\n",
            "Epoch 32/100\n",
            "4/4 [==============================] - 0s 4ms/step - loss: 0.3313 - accuracy: 0.8407 - precision: 0.8600 - a=recall: 0.9556\n",
            "Epoch 33/100\n",
            "4/4 [==============================] - 0s 4ms/step - loss: 0.3345 - accuracy: 0.8584 - precision: 0.8776 - a=recall: 0.9556\n",
            "Epoch 34/100\n",
            "4/4 [==============================] - 0s 4ms/step - loss: 0.3580 - accuracy: 0.8230 - precision: 0.8241 - a=recall: 0.9889\n",
            "Epoch 35/100\n",
            "4/4 [==============================] - 0s 4ms/step - loss: 0.3320 - accuracy: 0.8230 - precision: 0.8365 - a=recall: 0.9667\n",
            "Epoch 36/100\n",
            "4/4 [==============================] - 0s 4ms/step - loss: 0.3529 - accuracy: 0.8319 - precision: 0.8901 - a=recall: 0.9000\n",
            "Epoch 37/100\n",
            "4/4 [==============================] - 0s 4ms/step - loss: 0.3436 - accuracy: 0.8407 - precision: 0.8333 - a=recall: 1.0000\n",
            "Epoch 38/100\n",
            "4/4 [==============================] - 0s 4ms/step - loss: 0.3163 - accuracy: 0.8496 - precision: 0.8411 - a=recall: 1.0000\n",
            "Epoch 39/100\n",
            "4/4 [==============================] - 0s 4ms/step - loss: 0.3384 - accuracy: 0.8319 - precision: 0.8989 - a=recall: 0.8889\n",
            "Epoch 40/100\n",
            "4/4 [==============================] - 0s 4ms/step - loss: 0.3225 - accuracy: 0.8496 - precision: 0.8614 - a=recall: 0.9667\n",
            "Epoch 41/100\n",
            "4/4 [==============================] - 0s 4ms/step - loss: 0.3113 - accuracy: 0.8584 - precision: 0.8558 - a=recall: 0.9889\n",
            "Epoch 42/100\n",
            "4/4 [==============================] - 0s 3ms/step - loss: 0.3138 - accuracy: 0.8938 - precision: 0.9149 - a=recall: 0.9556\n",
            "Epoch 43/100\n",
            "4/4 [==============================] - 0s 3ms/step - loss: 0.3152 - accuracy: 0.8407 - precision: 0.8462 - a=recall: 0.9778\n",
            "Epoch 44/100\n",
            "4/4 [==============================] - 0s 4ms/step - loss: 0.2998 - accuracy: 0.8673 - precision: 0.8641 - a=recall: 0.9889\n",
            "Epoch 45/100\n",
            "4/4 [==============================] - 0s 3ms/step - loss: 0.3054 - accuracy: 0.8761 - precision: 0.9043 - a=recall: 0.9444\n",
            "Epoch 46/100\n",
            "4/4 [==============================] - 0s 3ms/step - loss: 0.3060 - accuracy: 0.8584 - precision: 0.8627 - a=recall: 0.9778\n",
            "Epoch 47/100\n",
            "4/4 [==============================] - 0s 3ms/step - loss: 0.3001 - accuracy: 0.8673 - precision: 0.8571 - a=recall: 1.0000\n",
            "Epoch 48/100\n",
            "4/4 [==============================] - 0s 4ms/step - loss: 0.2973 - accuracy: 0.8761 - precision: 0.9043 - a=recall: 0.9444\n",
            "Epoch 49/100\n",
            "4/4 [==============================] - 0s 3ms/step - loss: 0.2915 - accuracy: 0.8761 - precision: 0.9043 - a=recall: 0.9444\n",
            "Epoch 50/100\n",
            "4/4 [==============================] - 0s 4ms/step - loss: 0.2925 - accuracy: 0.8850 - precision: 0.8738 - a=recall: 1.0000\n",
            "Epoch 51/100\n",
            "4/4 [==============================] - 0s 3ms/step - loss: 0.2916 - accuracy: 0.8673 - precision: 0.8571 - a=recall: 1.0000\n",
            "Epoch 52/100\n",
            "4/4 [==============================] - 0s 4ms/step - loss: 0.2850 - accuracy: 0.8850 - precision: 0.8969 - a=recall: 0.9667\n",
            "Epoch 53/100\n",
            "4/4 [==============================] - 0s 3ms/step - loss: 0.2922 - accuracy: 0.8850 - precision: 0.9053 - a=recall: 0.9556\n",
            "Epoch 54/100\n",
            "4/4 [==============================] - 0s 6ms/step - loss: 0.2910 - accuracy: 0.8761 - precision: 0.9130 - a=recall: 0.9333\n",
            "Epoch 55/100\n",
            "4/4 [==============================] - 0s 4ms/step - loss: 0.3039 - accuracy: 0.8761 - precision: 0.8654 - a=recall: 1.0000\n",
            "Epoch 56/100\n",
            "4/4 [==============================] - 0s 3ms/step - loss: 0.3195 - accuracy: 0.8584 - precision: 0.8936 - a=recall: 0.9333\n",
            "Epoch 57/100\n",
            "4/4 [==============================] - 0s 3ms/step - loss: 0.3469 - accuracy: 0.8584 - precision: 0.8627 - a=recall: 0.9778\n",
            "Epoch 58/100\n",
            "4/4 [==============================] - 0s 3ms/step - loss: 0.3345 - accuracy: 0.8230 - precision: 0.8431 - a=recall: 0.9556\n",
            "Epoch 59/100\n",
            "4/4 [==============================] - 0s 4ms/step - loss: 0.2879 - accuracy: 0.8850 - precision: 0.9326 - a=recall: 0.9222\n",
            "Epoch 60/100\n",
            "4/4 [==============================] - 0s 4ms/step - loss: 0.3277 - accuracy: 0.8319 - precision: 0.8257 - a=recall: 1.0000\n",
            "Epoch 61/100\n",
            "4/4 [==============================] - 0s 3ms/step - loss: 0.2639 - accuracy: 0.9115 - precision: 0.9167 - a=recall: 0.9778\n",
            "Epoch 62/100\n",
            "4/4 [==============================] - 0s 4ms/step - loss: 0.2816 - accuracy: 0.8850 - precision: 0.9326 - a=recall: 0.9222\n",
            "Epoch 63/100\n",
            "4/4 [==============================] - 0s 4ms/step - loss: 0.2806 - accuracy: 0.8850 - precision: 0.8738 - a=recall: 1.0000\n",
            "Epoch 64/100\n",
            "4/4 [==============================] - 0s 4ms/step - loss: 0.2657 - accuracy: 0.8850 - precision: 0.9140 - a=recall: 0.9444\n",
            "Epoch 65/100\n",
            "4/4 [==============================] - 0s 3ms/step - loss: 0.2655 - accuracy: 0.8850 - precision: 0.9326 - a=recall: 0.9222\n",
            "Epoch 66/100\n",
            "4/4 [==============================] - 0s 4ms/step - loss: 0.2606 - accuracy: 0.9027 - precision: 0.8911 - a=recall: 1.0000\n",
            "Epoch 67/100\n",
            "4/4 [==============================] - 0s 3ms/step - loss: 0.2643 - accuracy: 0.8673 - precision: 0.8788 - a=recall: 0.9667\n",
            "Epoch 68/100\n",
            "4/4 [==============================] - 0s 4ms/step - loss: 0.2560 - accuracy: 0.8938 - precision: 0.9062 - a=recall: 0.9667\n",
            "Epoch 69/100\n",
            "4/4 [==============================] - 0s 3ms/step - loss: 0.2552 - accuracy: 0.9027 - precision: 0.8911 - a=recall: 1.0000\n",
            "Epoch 70/100\n",
            "4/4 [==============================] - 0s 4ms/step - loss: 0.2541 - accuracy: 0.8850 - precision: 0.9140 - a=recall: 0.9444\n",
            "Epoch 71/100\n",
            "4/4 [==============================] - 0s 4ms/step - loss: 0.2543 - accuracy: 0.8761 - precision: 0.9318 - a=recall: 0.9111\n",
            "Epoch 72/100\n",
            "4/4 [==============================] - 0s 4ms/step - loss: 0.2488 - accuracy: 0.8938 - precision: 0.8824 - a=recall: 1.0000\n",
            "Epoch 73/100\n",
            "4/4 [==============================] - 0s 3ms/step - loss: 0.2476 - accuracy: 0.9027 - precision: 0.9072 - a=recall: 0.9778\n",
            "Epoch 74/100\n",
            "4/4 [==============================] - 0s 3ms/step - loss: 0.2458 - accuracy: 0.8850 - precision: 0.9231 - a=recall: 0.9333\n",
            "Epoch 75/100\n",
            "4/4 [==============================] - 0s 4ms/step - loss: 0.2645 - accuracy: 0.8761 - precision: 0.8654 - a=recall: 1.0000\n",
            "Epoch 76/100\n",
            "4/4 [==============================] - 0s 3ms/step - loss: 0.2565 - accuracy: 0.9204 - precision: 0.9451 - a=recall: 0.9556\n",
            "Epoch 77/100\n",
            "4/4 [==============================] - 0s 3ms/step - loss: 0.2805 - accuracy: 0.8673 - precision: 0.8641 - a=recall: 0.9889\n",
            "Epoch 78/100\n",
            "4/4 [==============================] - 0s 3ms/step - loss: 0.2375 - accuracy: 0.8850 - precision: 0.8969 - a=recall: 0.9667\n",
            "Epoch 79/100\n",
            "4/4 [==============================] - 0s 4ms/step - loss: 0.2630 - accuracy: 0.8761 - precision: 0.9318 - a=recall: 0.9111\n",
            "Epoch 80/100\n",
            "4/4 [==============================] - 0s 4ms/step - loss: 0.2518 - accuracy: 0.8673 - precision: 0.8641 - a=recall: 0.9889\n",
            "Epoch 81/100\n",
            "4/4 [==============================] - 0s 4ms/step - loss: 0.2365 - accuracy: 0.9027 - precision: 0.9438 - a=recall: 0.9333\n",
            "Epoch 82/100\n",
            "4/4 [==============================] - 0s 4ms/step - loss: 0.2315 - accuracy: 0.9027 - precision: 0.9158 - a=recall: 0.9667\n",
            "Epoch 83/100\n",
            "4/4 [==============================] - 0s 4ms/step - loss: 0.2362 - accuracy: 0.8850 - precision: 0.8969 - a=recall: 0.9667\n",
            "Epoch 84/100\n",
            "4/4 [==============================] - 0s 3ms/step - loss: 0.2285 - accuracy: 0.9292 - precision: 0.9457 - a=recall: 0.9667\n",
            "Epoch 85/100\n",
            "4/4 [==============================] - 0s 4ms/step - loss: 0.2274 - accuracy: 0.8850 - precision: 0.8812 - a=recall: 0.9889\n",
            "Epoch 86/100\n",
            "4/4 [==============================] - 0s 3ms/step - loss: 0.2293 - accuracy: 0.8850 - precision: 0.8812 - a=recall: 0.9889\n",
            "Epoch 87/100\n",
            "4/4 [==============================] - 0s 4ms/step - loss: 0.2326 - accuracy: 0.9027 - precision: 0.9438 - a=recall: 0.9333\n",
            "Epoch 88/100\n",
            "4/4 [==============================] - 0s 3ms/step - loss: 0.2208 - accuracy: 0.9204 - precision: 0.9451 - a=recall: 0.9556\n",
            "Epoch 89/100\n",
            "4/4 [==============================] - 0s 5ms/step - loss: 0.2199 - accuracy: 0.9027 - precision: 0.9072 - a=recall: 0.9778\n",
            "Epoch 90/100\n",
            "4/4 [==============================] - 0s 4ms/step - loss: 0.2162 - accuracy: 0.9292 - precision: 0.9457 - a=recall: 0.9667\n",
            "Epoch 91/100\n",
            "4/4 [==============================] - 0s 3ms/step - loss: 0.2161 - accuracy: 0.9292 - precision: 0.9457 - a=recall: 0.9667\n",
            "Epoch 92/100\n",
            "4/4 [==============================] - 0s 3ms/step - loss: 0.2143 - accuracy: 0.9027 - precision: 0.9158 - a=recall: 0.9667\n",
            "Epoch 93/100\n",
            "4/4 [==============================] - 0s 3ms/step - loss: 0.2359 - accuracy: 0.9027 - precision: 0.9540 - a=recall: 0.9222\n",
            "Epoch 94/100\n",
            "4/4 [==============================] - 0s 3ms/step - loss: 0.2461 - accuracy: 0.8938 - precision: 0.8824 - a=recall: 1.0000\n",
            "Epoch 95/100\n",
            "4/4 [==============================] - 0s 3ms/step - loss: 0.2428 - accuracy: 0.8938 - precision: 0.9535 - a=recall: 0.9111\n",
            "Epoch 96/100\n",
            "4/4 [==============================] - 0s 3ms/step - loss: 0.2431 - accuracy: 0.8761 - precision: 0.8800 - a=recall: 0.9778\n",
            "Epoch 97/100\n",
            "4/4 [==============================] - 0s 3ms/step - loss: 0.2192 - accuracy: 0.8938 - precision: 0.8900 - a=recall: 0.9889\n",
            "Epoch 98/100\n",
            "4/4 [==============================] - 0s 4ms/step - loss: 0.2482 - accuracy: 0.8761 - precision: 0.9222 - a=recall: 0.9222\n",
            "Epoch 99/100\n",
            "4/4 [==============================] - 0s 3ms/step - loss: 0.2172 - accuracy: 0.9027 - precision: 0.9072 - a=recall: 0.9778\n",
            "Epoch 100/100\n",
            "4/4 [==============================] - 0s 3ms/step - loss: 0.2339 - accuracy: 0.9027 - precision: 0.9647 - a=recall: 0.9111\n"
          ]
        }
      ],
      "source": [
        "mod = model.fit(x_train,y_train, epochs  = 100 )"
      ]
    },
    {
      "cell_type": "code",
      "execution_count": 110,
      "metadata": {
        "colab": {
          "base_uri": "https://localhost:8080/"
        },
        "id": "3exB63xshE2X",
        "outputId": "70ae7250-8440-4da1-f639-934d767208d4"
      },
      "outputs": [
        {
          "output_type": "stream",
          "name": "stderr",
          "text": [
            "/usr/local/lib/python3.8/dist-packages/keras/optimizers/optimizer_v2/adam.py:110: UserWarning: The `lr` argument is deprecated, use `learning_rate` instead.\n",
            "  super(Adam, self).__init__(name, **kwargs)\n"
          ]
        }
      ],
      "source": [
        "tf.random.set_seed(42)\n",
        "\n",
        "# STEP1: Creating the model\n",
        "\n",
        "kit = tf.keras.Sequential([\n",
        "                            tf.keras.layers.Dense(10, activation='relu'),\n",
        "                            tf.keras.layers.Dense(7, activation='relu'),\n",
        "                            tf.keras.layers.Dense(5, activation='relu'),\n",
        "                            tf.keras.layers.Dense(1, activation='sigmoid')\n",
        "])\n",
        "\n",
        "# STEP2: Compiling the model\n",
        "\n",
        "kit.compile(loss= tf.keras.losses.binary_crossentropy,\n",
        "              optimizer= tf.keras.optimizers.Adam(lr=0.005),\n",
        "              metrics= [tf.keras.metrics.BinaryAccuracy(name='accuracy'),\n",
        "              ]\n",
        "              )\n",
        "\n"
      ]
    },
    {
      "cell_type": "code",
      "execution_count": 111,
      "metadata": {
        "colab": {
          "base_uri": "https://localhost:8080/"
        },
        "id": "AgKviroMi6vr",
        "outputId": "f6c45ad9-2e3f-417d-8100-27422e178c7c"
      },
      "outputs": [
        {
          "output_type": "stream",
          "name": "stdout",
          "text": [
            "Epoch 1/20\n",
            "4/4 [==============================] - 1s 3ms/step - loss: 3.4724 - accuracy: 0.5664\n",
            "Epoch 2/20\n",
            "4/4 [==============================] - 0s 3ms/step - loss: 1.8308 - accuracy: 0.7257\n",
            "Epoch 3/20\n",
            "4/4 [==============================] - 0s 3ms/step - loss: 1.6558 - accuracy: 0.7965\n",
            "Epoch 4/20\n",
            "4/4 [==============================] - 0s 3ms/step - loss: 1.1517 - accuracy: 0.7611\n",
            "Epoch 5/20\n",
            "4/4 [==============================] - 0s 4ms/step - loss: 0.9258 - accuracy: 0.6372\n",
            "Epoch 6/20\n",
            "4/4 [==============================] - 0s 3ms/step - loss: 0.6034 - accuracy: 0.7699\n",
            "Epoch 7/20\n",
            "4/4 [==============================] - 0s 3ms/step - loss: 0.6600 - accuracy: 0.7965\n",
            "Epoch 8/20\n",
            "4/4 [==============================] - 0s 3ms/step - loss: 0.5449 - accuracy: 0.7965\n",
            "Epoch 9/20\n",
            "4/4 [==============================] - 0s 3ms/step - loss: 0.5674 - accuracy: 0.6549\n",
            "Epoch 10/20\n",
            "4/4 [==============================] - 0s 3ms/step - loss: 0.4572 - accuracy: 0.7876\n",
            "Epoch 11/20\n",
            "4/4 [==============================] - 0s 3ms/step - loss: 0.4847 - accuracy: 0.7965\n",
            "Epoch 12/20\n",
            "4/4 [==============================] - 0s 3ms/step - loss: 0.4378 - accuracy: 0.8053\n",
            "Epoch 13/20\n",
            "4/4 [==============================] - 0s 3ms/step - loss: 0.4169 - accuracy: 0.8053\n",
            "Epoch 14/20\n",
            "4/4 [==============================] - 0s 3ms/step - loss: 0.4199 - accuracy: 0.8053\n",
            "Epoch 15/20\n",
            "4/4 [==============================] - 0s 5ms/step - loss: 0.4040 - accuracy: 0.8230\n",
            "Epoch 16/20\n",
            "4/4 [==============================] - 0s 3ms/step - loss: 0.3950 - accuracy: 0.8142\n",
            "Epoch 17/20\n",
            "4/4 [==============================] - 0s 3ms/step - loss: 0.3851 - accuracy: 0.8230\n",
            "Epoch 18/20\n",
            "4/4 [==============================] - 0s 3ms/step - loss: 0.3774 - accuracy: 0.8053\n",
            "Epoch 19/20\n",
            "4/4 [==============================] - 0s 4ms/step - loss: 0.3750 - accuracy: 0.8407\n",
            "Epoch 20/20\n",
            "4/4 [==============================] - 0s 3ms/step - loss: 0.3729 - accuracy: 0.8053\n"
          ]
        }
      ],
      "source": [
        "kite  =  kit.fit(x_train,y_train, epochs = 20)"
      ]
    },
    {
      "cell_type": "code",
      "execution_count": 112,
      "metadata": {
        "colab": {
          "base_uri": "https://localhost:8080/",
          "height": 283
        },
        "id": "ByMzZ6iQjT_S",
        "outputId": "47c8d2b4-5849-45cc-acf2-fe6003f565c5"
      },
      "outputs": [
        {
          "output_type": "execute_result",
          "data": {
            "text/plain": [
              "<matplotlib.axes._subplots.AxesSubplot at 0x7f6266db3be0>"
            ]
          },
          "metadata": {},
          "execution_count": 112
        },
        {
          "output_type": "display_data",
          "data": {
            "text/plain": [
              "<Figure size 432x288 with 1 Axes>"
            ],
            "image/png": "[encoded data removed]"
          },
          "metadata": {
            "needs_background": "light"
          }
        }
      ],
      "source": [
        "pd.DataFrame(kite.history).plot()"
      ]
    },
    {
      "cell_type": "code",
      "execution_count": 113,
      "metadata": {
        "id": "mezjCpxYovsN",
        "colab": {
          "base_uri": "https://localhost:8080/"
        },
        "outputId": "694690ea-2ee1-45fb-99b5-4a0d08089b63"
      },
      "outputs": [
        {
          "output_type": "stream",
          "name": "stdout",
          "text": [
            "Epoch 1/200\n",
            "4/4 [==============================] - 0s 3ms/step - loss: 0.2399 - accuracy: 0.8850 - precision: 0.8812 - a=recall: 0.9889\n",
            "Epoch 2/200\n",
            "4/4 [==============================] - 0s 3ms/step - loss: 0.2153 - accuracy: 0.9292 - precision: 0.9457 - a=recall: 0.9667\n",
            "Epoch 3/200\n",
            "4/4 [==============================] - 0s 3ms/step - loss: 0.2324 - accuracy: 0.8850 - precision: 0.9231 - a=recall: 0.9333\n",
            "Epoch 4/200\n",
            "4/4 [==============================] - 0s 4ms/step - loss: 0.2193 - accuracy: 0.9204 - precision: 0.9263 - a=recall: 0.9778\n",
            "Epoch 5/200\n",
            "4/4 [==============================] - 0s 3ms/step - loss: 0.2002 - accuracy: 0.9204 - precision: 0.9551 - a=recall: 0.9444\n",
            "Epoch 6/200\n",
            "4/4 [==============================] - 0s 3ms/step - loss: 0.2322 - accuracy: 0.9115 - precision: 0.9082 - a=recall: 0.9889\n",
            "Epoch 7/200\n",
            "4/4 [==============================] - 0s 3ms/step - loss: 0.2077 - accuracy: 0.9115 - precision: 0.9444 - a=recall: 0.9444\n",
            "Epoch 8/200\n",
            "4/4 [==============================] - 0s 3ms/step - loss: 0.2022 - accuracy: 0.9115 - precision: 0.9545 - a=recall: 0.9333\n",
            "Epoch 9/200\n",
            "4/4 [==============================] - 0s 3ms/step - loss: 0.1932 - accuracy: 0.9381 - precision: 0.9462 - a=recall: 0.9778\n",
            "Epoch 10/200\n",
            "4/4 [==============================] - 0s 4ms/step - loss: 0.1986 - accuracy: 0.9292 - precision: 0.9556 - a=recall: 0.9556\n",
            "Epoch 11/200\n",
            "4/4 [==============================] - 0s 4ms/step - loss: 0.2002 - accuracy: 0.9204 - precision: 0.9263 - a=recall: 0.9778\n",
            "Epoch 12/200\n",
            "4/4 [==============================] - 0s 4ms/step - loss: 0.2052 - accuracy: 0.9292 - precision: 0.9556 - a=recall: 0.9556\n",
            "Epoch 13/200\n",
            "4/4 [==============================] - 0s 3ms/step - loss: 0.2015 - accuracy: 0.9115 - precision: 0.9348 - a=recall: 0.9556\n",
            "Epoch 14/200\n",
            "4/4 [==============================] - 0s 4ms/step - loss: 0.1826 - accuracy: 0.9381 - precision: 0.9560 - a=recall: 0.9667\n",
            "Epoch 15/200\n",
            "4/4 [==============================] - 0s 4ms/step - loss: 0.1920 - accuracy: 0.9204 - precision: 0.9551 - a=recall: 0.9444\n",
            "Epoch 16/200\n",
            "4/4 [==============================] - 0s 3ms/step - loss: 0.1849 - accuracy: 0.9381 - precision: 0.9462 - a=recall: 0.9778\n",
            "Epoch 17/200\n",
            "4/4 [==============================] - 0s 4ms/step - loss: 0.1848 - accuracy: 0.9381 - precision: 0.9462 - a=recall: 0.9778\n",
            "Epoch 18/200\n",
            "4/4 [==============================] - 0s 6ms/step - loss: 0.1857 - accuracy: 0.9204 - precision: 0.9551 - a=recall: 0.9444\n",
            "Epoch 19/200\n",
            "4/4 [==============================] - 0s 4ms/step - loss: 0.1833 - accuracy: 0.9381 - precision: 0.9462 - a=recall: 0.9778\n",
            "Epoch 20/200\n",
            "4/4 [==============================] - 0s 4ms/step - loss: 0.1840 - accuracy: 0.9204 - precision: 0.9551 - a=recall: 0.9444\n",
            "Epoch 21/200\n",
            "4/4 [==============================] - 0s 3ms/step - loss: 0.1767 - accuracy: 0.9204 - precision: 0.9551 - a=recall: 0.9444\n",
            "Epoch 22/200\n",
            "4/4 [==============================] - 0s 3ms/step - loss: 0.1973 - accuracy: 0.9115 - precision: 0.9082 - a=recall: 0.9889\n",
            "Epoch 23/200\n",
            "4/4 [==============================] - 0s 3ms/step - loss: 0.1800 - accuracy: 0.9204 - precision: 0.9551 - a=recall: 0.9444\n",
            "Epoch 24/200\n",
            "4/4 [==============================] - 0s 3ms/step - loss: 0.1779 - accuracy: 0.9381 - precision: 0.9560 - a=recall: 0.9667\n",
            "Epoch 25/200\n",
            "4/4 [==============================] - 0s 4ms/step - loss: 0.1716 - accuracy: 0.9469 - precision: 0.9565 - a=recall: 0.9778\n",
            "Epoch 26/200\n",
            "4/4 [==============================] - 0s 3ms/step - loss: 0.1724 - accuracy: 0.9381 - precision: 0.9560 - a=recall: 0.9667\n",
            "Epoch 27/200\n",
            "4/4 [==============================] - 0s 3ms/step - loss: 0.1896 - accuracy: 0.9292 - precision: 0.9362 - a=recall: 0.9778\n",
            "Epoch 28/200\n",
            "4/4 [==============================] - 0s 4ms/step - loss: 0.1799 - accuracy: 0.9381 - precision: 0.9462 - a=recall: 0.9778\n",
            "Epoch 29/200\n",
            "4/4 [==============================] - 0s 3ms/step - loss: 0.1821 - accuracy: 0.9292 - precision: 0.9659 - a=recall: 0.9444\n",
            "Epoch 30/200\n",
            "4/4 [==============================] - 0s 3ms/step - loss: 0.1803 - accuracy: 0.9115 - precision: 0.9255 - a=recall: 0.9667\n",
            "Epoch 31/200\n",
            "4/4 [==============================] - 0s 5ms/step - loss: 0.1754 - accuracy: 0.9204 - precision: 0.9551 - a=recall: 0.9444\n",
            "Epoch 32/200\n",
            "4/4 [==============================] - 0s 3ms/step - loss: 0.1647 - accuracy: 0.9381 - precision: 0.9560 - a=recall: 0.9667\n",
            "Epoch 33/200\n",
            "4/4 [==============================] - 0s 3ms/step - loss: 0.1718 - accuracy: 0.9204 - precision: 0.9551 - a=recall: 0.9444\n",
            "Epoch 34/200\n",
            "4/4 [==============================] - 0s 3ms/step - loss: 0.2530 - accuracy: 0.8496 - precision: 0.8544 - a=recall: 0.9778\n",
            "Epoch 35/200\n",
            "4/4 [==============================] - 0s 4ms/step - loss: 0.1974 - accuracy: 0.9292 - precision: 0.9881 - a=recall: 0.9222\n",
            "Epoch 36/200\n",
            "4/4 [==============================] - 0s 5ms/step - loss: 0.1581 - accuracy: 0.9381 - precision: 0.9462 - a=recall: 0.9778\n",
            "Epoch 37/200\n",
            "4/4 [==============================] - 0s 4ms/step - loss: 0.1806 - accuracy: 0.9115 - precision: 0.9167 - a=recall: 0.9778\n",
            "Epoch 38/200\n",
            "4/4 [==============================] - 0s 3ms/step - loss: 0.1841 - accuracy: 0.9204 - precision: 0.9551 - a=recall: 0.9444\n",
            "Epoch 39/200\n",
            "4/4 [==============================] - 0s 3ms/step - loss: 0.1554 - accuracy: 0.9558 - precision: 0.9670 - a=recall: 0.9778\n",
            "Epoch 40/200\n",
            "4/4 [==============================] - 0s 5ms/step - loss: 0.1698 - accuracy: 0.9381 - precision: 0.9663 - a=recall: 0.9556\n",
            "Epoch 41/200\n",
            "4/4 [==============================] - 0s 3ms/step - loss: 0.1555 - accuracy: 0.9381 - precision: 0.9560 - a=recall: 0.9667\n",
            "Epoch 42/200\n",
            "4/4 [==============================] - 0s 4ms/step - loss: 0.1595 - accuracy: 0.9292 - precision: 0.9556 - a=recall: 0.9556\n",
            "Epoch 43/200\n",
            "4/4 [==============================] - 0s 3ms/step - loss: 0.1564 - accuracy: 0.9292 - precision: 0.9556 - a=recall: 0.9556\n",
            "Epoch 44/200\n",
            "4/4 [==============================] - 0s 4ms/step - loss: 0.1586 - accuracy: 0.9204 - precision: 0.9551 - a=recall: 0.9444\n",
            "Epoch 45/200\n",
            "4/4 [==============================] - 0s 4ms/step - loss: 0.1601 - accuracy: 0.9204 - precision: 0.9551 - a=recall: 0.9444\n",
            "Epoch 46/200\n",
            "4/4 [==============================] - 0s 4ms/step - loss: 0.1589 - accuracy: 0.9469 - precision: 0.9565 - a=recall: 0.9778\n",
            "Epoch 47/200\n",
            "4/4 [==============================] - 0s 3ms/step - loss: 0.1595 - accuracy: 0.9204 - precision: 0.9551 - a=recall: 0.9444\n",
            "Epoch 48/200\n",
            "4/4 [==============================] - 0s 3ms/step - loss: 0.1489 - accuracy: 0.9381 - precision: 0.9560 - a=recall: 0.9667\n",
            "Epoch 49/200\n",
            "4/4 [==============================] - 0s 4ms/step - loss: 0.1491 - accuracy: 0.9381 - precision: 0.9663 - a=recall: 0.9556\n",
            "Epoch 50/200\n",
            "4/4 [==============================] - 0s 4ms/step - loss: 0.1506 - accuracy: 0.9381 - precision: 0.9462 - a=recall: 0.9778\n",
            "Epoch 51/200\n",
            "4/4 [==============================] - 0s 5ms/step - loss: 0.1458 - accuracy: 0.9381 - precision: 0.9462 - a=recall: 0.9778\n",
            "Epoch 52/200\n",
            "4/4 [==============================] - 0s 3ms/step - loss: 0.1502 - accuracy: 0.9381 - precision: 0.9663 - a=recall: 0.9556\n",
            "Epoch 53/200\n",
            "4/4 [==============================] - 0s 4ms/step - loss: 0.1510 - accuracy: 0.9381 - precision: 0.9663 - a=recall: 0.9556\n",
            "Epoch 54/200\n",
            "4/4 [==============================] - 0s 3ms/step - loss: 0.1459 - accuracy: 0.9292 - precision: 0.9556 - a=recall: 0.9556\n",
            "Epoch 55/200\n",
            "4/4 [==============================] - 0s 4ms/step - loss: 0.1474 - accuracy: 0.9469 - precision: 0.9565 - a=recall: 0.9778\n",
            "Epoch 56/200\n",
            "4/4 [==============================] - 0s 4ms/step - loss: 0.1662 - accuracy: 0.9381 - precision: 0.9770 - a=recall: 0.9444\n",
            "Epoch 57/200\n",
            "4/4 [==============================] - 0s 5ms/step - loss: 0.2910 - accuracy: 0.8496 - precision: 0.8476 - a=recall: 0.9889\n",
            "Epoch 58/200\n",
            "4/4 [==============================] - 0s 3ms/step - loss: 0.3710 - accuracy: 0.8496 - precision: 0.9740 - a=recall: 0.8333\n",
            "Epoch 59/200\n",
            "4/4 [==============================] - 0s 3ms/step - loss: 0.2583 - accuracy: 0.8850 - precision: 0.8738 - a=recall: 1.0000\n",
            "Epoch 60/200\n",
            "4/4 [==============================] - 0s 3ms/step - loss: 0.2568 - accuracy: 0.8850 - precision: 0.9053 - a=recall: 0.9556\n",
            "Epoch 61/200\n",
            "4/4 [==============================] - 0s 4ms/step - loss: 0.1870 - accuracy: 0.8850 - precision: 0.9326 - a=recall: 0.9222\n",
            "Epoch 62/200\n",
            "4/4 [==============================] - 0s 4ms/step - loss: 0.1681 - accuracy: 0.9115 - precision: 0.9082 - a=recall: 0.9889\n",
            "Epoch 63/200\n",
            "4/4 [==============================] - 0s 3ms/step - loss: 0.1723 - accuracy: 0.9204 - precision: 0.9551 - a=recall: 0.9444\n",
            "Epoch 64/200\n",
            "4/4 [==============================] - 0s 4ms/step - loss: 0.1398 - accuracy: 0.9381 - precision: 0.9462 - a=recall: 0.9778\n",
            "Epoch 65/200\n",
            "4/4 [==============================] - 0s 6ms/step - loss: 0.1463 - accuracy: 0.9292 - precision: 0.9556 - a=recall: 0.9556\n",
            "Epoch 66/200\n",
            "4/4 [==============================] - 0s 3ms/step - loss: 0.1418 - accuracy: 0.9381 - precision: 0.9663 - a=recall: 0.9556\n",
            "Epoch 67/200\n",
            "4/4 [==============================] - 0s 3ms/step - loss: 0.1417 - accuracy: 0.9292 - precision: 0.9362 - a=recall: 0.9778\n",
            "Epoch 68/200\n",
            "4/4 [==============================] - 0s 3ms/step - loss: 0.1425 - accuracy: 0.9381 - precision: 0.9560 - a=recall: 0.9667\n",
            "Epoch 69/200\n",
            "4/4 [==============================] - 0s 3ms/step - loss: 0.1382 - accuracy: 0.9381 - precision: 0.9462 - a=recall: 0.9778\n",
            "Epoch 70/200\n",
            "4/4 [==============================] - 0s 3ms/step - loss: 0.1329 - accuracy: 0.9558 - precision: 0.9670 - a=recall: 0.9778\n",
            "Epoch 71/200\n",
            "4/4 [==============================] - 0s 4ms/step - loss: 0.1352 - accuracy: 0.9469 - precision: 0.9773 - a=recall: 0.9556\n",
            "Epoch 72/200\n",
            "4/4 [==============================] - 0s 4ms/step - loss: 0.1388 - accuracy: 0.9381 - precision: 0.9462 - a=recall: 0.9778\n",
            "Epoch 73/200\n",
            "4/4 [==============================] - 0s 6ms/step - loss: 0.1374 - accuracy: 0.9292 - precision: 0.9659 - a=recall: 0.9444\n",
            "Epoch 74/200\n",
            "4/4 [==============================] - 0s 4ms/step - loss: 0.1325 - accuracy: 0.9469 - precision: 0.9565 - a=recall: 0.9778\n",
            "Epoch 75/200\n",
            "4/4 [==============================] - 0s 3ms/step - loss: 0.1414 - accuracy: 0.9292 - precision: 0.9362 - a=recall: 0.9778\n",
            "Epoch 76/200\n",
            "4/4 [==============================] - 0s 4ms/step - loss: 0.1358 - accuracy: 0.9558 - precision: 0.9775 - a=recall: 0.9667\n",
            "Epoch 77/200\n",
            "4/4 [==============================] - 0s 4ms/step - loss: 0.1426 - accuracy: 0.9292 - precision: 0.9362 - a=recall: 0.9778\n",
            "Epoch 78/200\n",
            "4/4 [==============================] - 0s 4ms/step - loss: 0.1274 - accuracy: 0.9469 - precision: 0.9667 - a=recall: 0.9667\n",
            "Epoch 79/200\n",
            "4/4 [==============================] - 0s 4ms/step - loss: 0.1371 - accuracy: 0.9381 - precision: 0.9770 - a=recall: 0.9444\n",
            "Epoch 80/200\n",
            "4/4 [==============================] - 0s 4ms/step - loss: 0.1321 - accuracy: 0.9292 - precision: 0.9556 - a=recall: 0.9556\n",
            "Epoch 81/200\n",
            "4/4 [==============================] - 0s 4ms/step - loss: 0.1291 - accuracy: 0.9469 - precision: 0.9565 - a=recall: 0.9778\n",
            "Epoch 82/200\n",
            "4/4 [==============================] - 0s 3ms/step - loss: 0.1376 - accuracy: 0.9469 - precision: 0.9667 - a=recall: 0.9667\n",
            "Epoch 83/200\n",
            "4/4 [==============================] - 0s 4ms/step - loss: 0.1254 - accuracy: 0.9558 - precision: 0.9775 - a=recall: 0.9667\n",
            "Epoch 84/200\n",
            "4/4 [==============================] - 0s 4ms/step - loss: 0.1264 - accuracy: 0.9292 - precision: 0.9362 - a=recall: 0.9778\n",
            "Epoch 85/200\n",
            "4/4 [==============================] - 0s 4ms/step - loss: 0.1238 - accuracy: 0.9469 - precision: 0.9565 - a=recall: 0.9778\n",
            "Epoch 86/200\n",
            "4/4 [==============================] - 0s 4ms/step - loss: 0.1420 - accuracy: 0.9292 - precision: 0.9362 - a=recall: 0.9778\n",
            "Epoch 87/200\n",
            "4/4 [==============================] - 0s 3ms/step - loss: 0.1239 - accuracy: 0.9469 - precision: 0.9773 - a=recall: 0.9556\n",
            "Epoch 88/200\n",
            "4/4 [==============================] - 0s 3ms/step - loss: 0.1204 - accuracy: 0.9469 - precision: 0.9773 - a=recall: 0.9556\n",
            "Epoch 89/200\n",
            "4/4 [==============================] - 0s 4ms/step - loss: 0.1192 - accuracy: 0.9558 - precision: 0.9670 - a=recall: 0.9778\n",
            "Epoch 90/200\n",
            "4/4 [==============================] - 0s 3ms/step - loss: 0.1150 - accuracy: 0.9646 - precision: 0.9778 - a=recall: 0.9778\n",
            "Epoch 91/200\n",
            "4/4 [==============================] - 0s 3ms/step - loss: 0.1166 - accuracy: 0.9558 - precision: 0.9775 - a=recall: 0.9667\n",
            "Epoch 92/200\n",
            "4/4 [==============================] - 0s 3ms/step - loss: 0.1197 - accuracy: 0.9469 - precision: 0.9565 - a=recall: 0.9778\n",
            "Epoch 93/200\n",
            "4/4 [==============================] - 0s 4ms/step - loss: 0.1535 - accuracy: 0.9381 - precision: 0.9770 - a=recall: 0.9444\n",
            "Epoch 94/200\n",
            "4/4 [==============================] - 0s 4ms/step - loss: 0.1485 - accuracy: 0.9204 - precision: 0.9175 - a=recall: 0.9889\n",
            "Epoch 95/200\n",
            "4/4 [==============================] - 0s 3ms/step - loss: 0.1344 - accuracy: 0.9558 - precision: 0.9885 - a=recall: 0.9556\n",
            "Epoch 96/200\n",
            "4/4 [==============================] - 0s 6ms/step - loss: 0.1408 - accuracy: 0.9381 - precision: 0.9462 - a=recall: 0.9778\n",
            "Epoch 97/200\n",
            "4/4 [==============================] - 0s 4ms/step - loss: 0.1119 - accuracy: 0.9381 - precision: 0.9462 - a=recall: 0.9778\n",
            "Epoch 98/200\n",
            "4/4 [==============================] - 0s 5ms/step - loss: 0.1482 - accuracy: 0.9381 - precision: 0.9770 - a=recall: 0.9444\n",
            "Epoch 99/200\n",
            "4/4 [==============================] - 0s 4ms/step - loss: 0.1289 - accuracy: 0.9381 - precision: 0.9560 - a=recall: 0.9667\n",
            "Epoch 100/200\n",
            "4/4 [==============================] - 0s 4ms/step - loss: 0.1193 - accuracy: 0.9558 - precision: 0.9885 - a=recall: 0.9556\n",
            "Epoch 101/200\n",
            "4/4 [==============================] - 0s 4ms/step - loss: 0.2029 - accuracy: 0.8850 - precision: 0.8738 - a=recall: 1.0000\n",
            "Epoch 102/200\n",
            "4/4 [==============================] - 0s 4ms/step - loss: 0.2746 - accuracy: 0.8761 - precision: 0.9750 - a=recall: 0.8667\n",
            "Epoch 103/200\n",
            "4/4 [==============================] - 0s 4ms/step - loss: 0.1756 - accuracy: 0.9204 - precision: 0.9355 - a=recall: 0.9667\n",
            "Epoch 104/200\n",
            "4/4 [==============================] - 0s 4ms/step - loss: 0.1552 - accuracy: 0.9292 - precision: 0.9362 - a=recall: 0.9778\n",
            "Epoch 105/200\n",
            "4/4 [==============================] - 0s 3ms/step - loss: 0.1368 - accuracy: 0.9381 - precision: 0.9770 - a=recall: 0.9444\n",
            "Epoch 106/200\n",
            "4/4 [==============================] - 0s 4ms/step - loss: 0.1354 - accuracy: 0.9381 - precision: 0.9462 - a=recall: 0.9778\n",
            "Epoch 107/200\n",
            "4/4 [==============================] - 0s 4ms/step - loss: 0.1293 - accuracy: 0.9469 - precision: 0.9884 - a=recall: 0.9444\n",
            "Epoch 108/200\n",
            "4/4 [==============================] - 0s 5ms/step - loss: 0.0985 - accuracy: 0.9646 - precision: 0.9674 - a=recall: 0.9889\n",
            "Epoch 109/200\n",
            "4/4 [==============================] - 0s 4ms/step - loss: 0.1400 - accuracy: 0.9204 - precision: 0.9263 - a=recall: 0.9778\n",
            "Epoch 110/200\n",
            "4/4 [==============================] - 0s 6ms/step - loss: 0.1430 - accuracy: 0.9558 - precision: 1.0000 - a=recall: 0.9444\n",
            "Epoch 111/200\n",
            "4/4 [==============================] - 0s 3ms/step - loss: 0.1470 - accuracy: 0.9204 - precision: 0.9175 - a=recall: 0.9889\n",
            "Epoch 112/200\n",
            "4/4 [==============================] - 0s 4ms/step - loss: 0.1027 - accuracy: 0.9381 - precision: 0.9560 - a=recall: 0.9667\n",
            "Epoch 113/200\n",
            "4/4 [==============================] - 0s 4ms/step - loss: 0.1656 - accuracy: 0.9115 - precision: 0.9545 - a=recall: 0.9333\n",
            "Epoch 114/200\n",
            "4/4 [==============================] - 0s 4ms/step - loss: 0.1210 - accuracy: 0.9558 - precision: 0.9670 - a=recall: 0.9778\n",
            "Epoch 115/200\n",
            "4/4 [==============================] - 0s 4ms/step - loss: 0.1130 - accuracy: 0.9469 - precision: 0.9667 - a=recall: 0.9667\n",
            "Epoch 116/200\n",
            "4/4 [==============================] - 0s 4ms/step - loss: 0.1147 - accuracy: 0.9469 - precision: 0.9565 - a=recall: 0.9778\n",
            "Epoch 117/200\n",
            "4/4 [==============================] - 0s 4ms/step - loss: 0.0965 - accuracy: 0.9735 - precision: 0.9888 - a=recall: 0.9778\n",
            "Epoch 118/200\n",
            "4/4 [==============================] - 0s 4ms/step - loss: 0.1150 - accuracy: 0.9469 - precision: 0.9565 - a=recall: 0.9778\n",
            "Epoch 119/200\n",
            "4/4 [==============================] - 0s 4ms/step - loss: 0.1037 - accuracy: 0.9646 - precision: 0.9778 - a=recall: 0.9778\n",
            "Epoch 120/200\n",
            "4/4 [==============================] - 0s 4ms/step - loss: 0.1058 - accuracy: 0.9646 - precision: 0.9886 - a=recall: 0.9667\n",
            "Epoch 121/200\n",
            "4/4 [==============================] - 0s 4ms/step - loss: 0.1044 - accuracy: 0.9469 - precision: 0.9565 - a=recall: 0.9778\n",
            "Epoch 122/200\n",
            "4/4 [==============================] - 0s 3ms/step - loss: 0.0983 - accuracy: 0.9735 - precision: 0.9888 - a=recall: 0.9778\n",
            "Epoch 123/200\n",
            "4/4 [==============================] - 0s 4ms/step - loss: 0.1012 - accuracy: 0.9735 - precision: 0.9888 - a=recall: 0.9778\n",
            "Epoch 124/200\n",
            "4/4 [==============================] - 0s 4ms/step - loss: 0.0974 - accuracy: 0.9558 - precision: 0.9670 - a=recall: 0.9778\n",
            "Epoch 125/200\n",
            "4/4 [==============================] - 0s 4ms/step - loss: 0.1135 - accuracy: 0.9646 - precision: 0.9778 - a=recall: 0.9778\n",
            "Epoch 126/200\n",
            "4/4 [==============================] - 0s 4ms/step - loss: 0.1046 - accuracy: 0.9646 - precision: 0.9778 - a=recall: 0.9778\n",
            "Epoch 127/200\n",
            "4/4 [==============================] - 0s 3ms/step - loss: 0.1028 - accuracy: 0.9381 - precision: 0.9462 - a=recall: 0.9778\n",
            "Epoch 128/200\n",
            "4/4 [==============================] - 0s 3ms/step - loss: 0.1111 - accuracy: 0.9735 - precision: 1.0000 - a=recall: 0.9667\n",
            "Epoch 129/200\n",
            "4/4 [==============================] - 0s 4ms/step - loss: 0.1043 - accuracy: 0.9469 - precision: 0.9565 - a=recall: 0.9778\n",
            "Epoch 130/200\n",
            "4/4 [==============================] - 0s 4ms/step - loss: 0.1010 - accuracy: 0.9735 - precision: 0.9888 - a=recall: 0.9778\n",
            "Epoch 131/200\n",
            "4/4 [==============================] - 0s 4ms/step - loss: 0.0942 - accuracy: 0.9558 - precision: 0.9670 - a=recall: 0.9778\n",
            "Epoch 132/200\n",
            "4/4 [==============================] - 0s 4ms/step - loss: 0.0895 - accuracy: 0.9646 - precision: 0.9778 - a=recall: 0.9778\n",
            "Epoch 133/200\n",
            "4/4 [==============================] - 0s 4ms/step - loss: 0.0957 - accuracy: 0.9735 - precision: 1.0000 - a=recall: 0.9667\n",
            "Epoch 134/200\n",
            "4/4 [==============================] - 0s 4ms/step - loss: 0.0931 - accuracy: 0.9469 - precision: 0.9565 - a=recall: 0.9778\n",
            "Epoch 135/200\n",
            "4/4 [==============================] - 0s 4ms/step - loss: 0.0937 - accuracy: 0.9646 - precision: 0.9886 - a=recall: 0.9667\n",
            "Epoch 136/200\n",
            "4/4 [==============================] - 0s 4ms/step - loss: 0.0852 - accuracy: 0.9735 - precision: 0.9888 - a=recall: 0.9778\n",
            "Epoch 137/200\n",
            "4/4 [==============================] - 0s 4ms/step - loss: 0.0988 - accuracy: 0.9558 - precision: 0.9670 - a=recall: 0.9778\n",
            "Epoch 138/200\n",
            "4/4 [==============================] - 0s 4ms/step - loss: 0.1124 - accuracy: 0.9646 - precision: 1.0000 - a=recall: 0.9556\n",
            "Epoch 139/200\n",
            "4/4 [==============================] - 0s 4ms/step - loss: 0.1235 - accuracy: 0.9381 - precision: 0.9462 - a=recall: 0.9778\n",
            "Epoch 140/200\n",
            "4/4 [==============================] - 0s 5ms/step - loss: 0.1078 - accuracy: 0.9558 - precision: 0.9885 - a=recall: 0.9556\n",
            "Epoch 141/200\n",
            "4/4 [==============================] - 0s 5ms/step - loss: 0.0903 - accuracy: 0.9646 - precision: 0.9778 - a=recall: 0.9778\n",
            "Epoch 142/200\n",
            "4/4 [==============================] - 0s 4ms/step - loss: 0.0990 - accuracy: 0.9558 - precision: 0.9670 - a=recall: 0.9778\n",
            "Epoch 143/200\n",
            "4/4 [==============================] - 0s 5ms/step - loss: 0.1438 - accuracy: 0.9558 - precision: 0.9885 - a=recall: 0.9556\n",
            "Epoch 144/200\n",
            "4/4 [==============================] - 0s 4ms/step - loss: 0.0955 - accuracy: 0.9558 - precision: 0.9670 - a=recall: 0.9778\n",
            "Epoch 145/200\n",
            "4/4 [==============================] - 0s 4ms/step - loss: 0.0835 - accuracy: 0.9823 - precision: 1.0000 - a=recall: 0.9778\n",
            "Epoch 146/200\n",
            "4/4 [==============================] - 0s 4ms/step - loss: 0.0913 - accuracy: 0.9646 - precision: 0.9778 - a=recall: 0.9778\n",
            "Epoch 147/200\n",
            "4/4 [==============================] - 0s 4ms/step - loss: 0.0775 - accuracy: 0.9735 - precision: 0.9888 - a=recall: 0.9778\n",
            "Epoch 148/200\n",
            "4/4 [==============================] - 0s 4ms/step - loss: 0.0866 - accuracy: 0.9735 - precision: 1.0000 - a=recall: 0.9667\n",
            "Epoch 149/200\n",
            "4/4 [==============================] - 0s 4ms/step - loss: 0.0828 - accuracy: 0.9735 - precision: 0.9888 - a=recall: 0.9778\n",
            "Epoch 150/200\n",
            "4/4 [==============================] - 0s 3ms/step - loss: 0.0840 - accuracy: 0.9558 - precision: 0.9670 - a=recall: 0.9778\n",
            "Epoch 151/200\n",
            "4/4 [==============================] - 0s 3ms/step - loss: 0.1232 - accuracy: 0.9558 - precision: 1.0000 - a=recall: 0.9444\n",
            "Epoch 152/200\n",
            "4/4 [==============================] - 0s 4ms/step - loss: 0.1271 - accuracy: 0.9204 - precision: 0.9263 - a=recall: 0.9778\n",
            "Epoch 153/200\n",
            "4/4 [==============================] - 0s 4ms/step - loss: 0.1052 - accuracy: 0.9469 - precision: 0.9565 - a=recall: 0.9778\n",
            "Epoch 154/200\n",
            "4/4 [==============================] - 0s 5ms/step - loss: 0.1269 - accuracy: 0.9646 - precision: 1.0000 - a=recall: 0.9556\n",
            "Epoch 155/200\n",
            "4/4 [==============================] - 0s 3ms/step - loss: 0.1174 - accuracy: 0.9469 - precision: 0.9565 - a=recall: 0.9778\n",
            "Epoch 156/200\n",
            "4/4 [==============================] - 0s 3ms/step - loss: 0.0865 - accuracy: 0.9823 - precision: 1.0000 - a=recall: 0.9778\n",
            "Epoch 157/200\n",
            "4/4 [==============================] - 0s 3ms/step - loss: 0.0923 - accuracy: 0.9469 - precision: 0.9565 - a=recall: 0.9778\n",
            "Epoch 158/200\n",
            "4/4 [==============================] - 0s 4ms/step - loss: 0.1051 - accuracy: 0.9558 - precision: 0.9885 - a=recall: 0.9556\n",
            "Epoch 159/200\n",
            "4/4 [==============================] - 0s 3ms/step - loss: 0.1273 - accuracy: 0.9469 - precision: 0.9468 - a=recall: 0.9889\n",
            "Epoch 160/200\n",
            "4/4 [==============================] - 0s 4ms/step - loss: 0.0889 - accuracy: 0.9469 - precision: 0.9884 - a=recall: 0.9444\n",
            "Epoch 161/200\n",
            "4/4 [==============================] - 0s 4ms/step - loss: 0.0790 - accuracy: 0.9646 - precision: 0.9778 - a=recall: 0.9778\n",
            "Epoch 162/200\n",
            "4/4 [==============================] - 0s 4ms/step - loss: 0.0954 - accuracy: 0.9469 - precision: 0.9468 - a=recall: 0.9889\n",
            "Epoch 163/200\n",
            "4/4 [==============================] - 0s 4ms/step - loss: 0.1074 - accuracy: 0.9646 - precision: 1.0000 - a=recall: 0.9556\n",
            "Epoch 164/200\n",
            "4/4 [==============================] - 0s 3ms/step - loss: 0.0986 - accuracy: 0.9646 - precision: 0.9674 - a=recall: 0.9889\n",
            "Epoch 165/200\n",
            "4/4 [==============================] - 0s 3ms/step - loss: 0.0840 - accuracy: 0.9735 - precision: 1.0000 - a=recall: 0.9667\n",
            "Epoch 166/200\n",
            "4/4 [==============================] - 0s 3ms/step - loss: 0.0705 - accuracy: 0.9735 - precision: 0.9888 - a=recall: 0.9778\n",
            "Epoch 167/200\n",
            "4/4 [==============================] - 0s 4ms/step - loss: 0.0905 - accuracy: 0.9469 - precision: 0.9468 - a=recall: 0.9889\n",
            "Epoch 168/200\n",
            "4/4 [==============================] - 0s 4ms/step - loss: 0.0877 - accuracy: 0.9735 - precision: 1.0000 - a=recall: 0.9667\n",
            "Epoch 169/200\n",
            "4/4 [==============================] - 0s 4ms/step - loss: 0.0811 - accuracy: 0.9469 - precision: 0.9565 - a=recall: 0.9778\n",
            "Epoch 170/200\n",
            "4/4 [==============================] - 0s 3ms/step - loss: 0.0751 - accuracy: 0.9735 - precision: 0.9888 - a=recall: 0.9778\n",
            "Epoch 171/200\n",
            "4/4 [==============================] - 0s 4ms/step - loss: 0.0741 - accuracy: 0.9735 - precision: 0.9888 - a=recall: 0.9778\n",
            "Epoch 172/200\n",
            "4/4 [==============================] - 0s 3ms/step - loss: 0.0742 - accuracy: 0.9646 - precision: 0.9778 - a=recall: 0.9778\n",
            "Epoch 173/200\n",
            "4/4 [==============================] - 0s 4ms/step - loss: 0.0694 - accuracy: 0.9735 - precision: 0.9888 - a=recall: 0.9778\n",
            "Epoch 174/200\n",
            "4/4 [==============================] - 0s 5ms/step - loss: 0.0664 - accuracy: 0.9735 - precision: 0.9888 - a=recall: 0.9778\n",
            "Epoch 175/200\n",
            "4/4 [==============================] - 0s 3ms/step - loss: 0.0693 - accuracy: 0.9823 - precision: 1.0000 - a=recall: 0.9778\n",
            "Epoch 176/200\n",
            "4/4 [==============================] - 0s 4ms/step - loss: 0.0709 - accuracy: 0.9646 - precision: 0.9778 - a=recall: 0.9778\n",
            "Epoch 177/200\n",
            "4/4 [==============================] - 0s 4ms/step - loss: 0.0818 - accuracy: 0.9558 - precision: 0.9570 - a=recall: 0.9889\n",
            "Epoch 178/200\n",
            "4/4 [==============================] - 0s 4ms/step - loss: 0.0786 - accuracy: 0.9735 - precision: 1.0000 - a=recall: 0.9667\n",
            "Epoch 179/200\n",
            "4/4 [==============================] - 0s 4ms/step - loss: 0.0669 - accuracy: 0.9735 - precision: 0.9888 - a=recall: 0.9778\n",
            "Epoch 180/200\n",
            "4/4 [==============================] - 0s 4ms/step - loss: 0.0649 - accuracy: 0.9735 - precision: 0.9888 - a=recall: 0.9778\n",
            "Epoch 181/200\n",
            "4/4 [==============================] - 0s 5ms/step - loss: 0.0691 - accuracy: 0.9735 - precision: 0.9888 - a=recall: 0.9778\n",
            "Epoch 182/200\n",
            "4/4 [==============================] - 0s 3ms/step - loss: 0.0671 - accuracy: 0.9735 - precision: 0.9888 - a=recall: 0.9778\n",
            "Epoch 183/200\n",
            "4/4 [==============================] - 0s 4ms/step - loss: 0.0620 - accuracy: 0.9735 - precision: 0.9888 - a=recall: 0.9778\n",
            "Epoch 184/200\n",
            "4/4 [==============================] - 0s 4ms/step - loss: 0.0719 - accuracy: 0.9646 - precision: 0.9778 - a=recall: 0.9778\n",
            "Epoch 185/200\n",
            "4/4 [==============================] - 0s 4ms/step - loss: 0.0599 - accuracy: 0.9823 - precision: 1.0000 - a=recall: 0.9778\n",
            "Epoch 186/200\n",
            "4/4 [==============================] - 0s 4ms/step - loss: 0.0744 - accuracy: 0.9646 - precision: 0.9674 - a=recall: 0.9889\n",
            "Epoch 187/200\n",
            "4/4 [==============================] - 0s 4ms/step - loss: 0.1218 - accuracy: 0.9469 - precision: 1.0000 - a=recall: 0.9333\n",
            "Epoch 188/200\n",
            "4/4 [==============================] - 0s 4ms/step - loss: 0.1689 - accuracy: 0.9292 - precision: 0.9184 - a=recall: 1.0000\n",
            "Epoch 189/200\n",
            "4/4 [==============================] - 0s 5ms/step - loss: 0.1756 - accuracy: 0.9558 - precision: 1.0000 - a=recall: 0.9444\n",
            "Epoch 190/200\n",
            "4/4 [==============================] - 0s 5ms/step - loss: 0.1432 - accuracy: 0.9292 - precision: 0.9362 - a=recall: 0.9778\n",
            "Epoch 191/200\n",
            "4/4 [==============================] - 0s 4ms/step - loss: 0.0760 - accuracy: 0.9735 - precision: 0.9677 - a=recall: 1.0000\n",
            "Epoch 192/200\n",
            "4/4 [==============================] - 0s 4ms/step - loss: 0.0956 - accuracy: 0.9735 - precision: 1.0000 - a=recall: 0.9667\n",
            "Epoch 193/200\n",
            "4/4 [==============================] - 0s 4ms/step - loss: 0.1612 - accuracy: 0.9292 - precision: 0.9184 - a=recall: 1.0000\n",
            "Epoch 194/200\n",
            "4/4 [==============================] - 0s 4ms/step - loss: 0.1593 - accuracy: 0.9558 - precision: 1.0000 - a=recall: 0.9444\n",
            "Epoch 195/200\n",
            "4/4 [==============================] - 0s 4ms/step - loss: 0.2278 - accuracy: 0.9027 - precision: 0.8990 - a=recall: 0.9889\n",
            "Epoch 196/200\n",
            "4/4 [==============================] - 0s 4ms/step - loss: 0.1018 - accuracy: 0.9558 - precision: 0.9885 - a=recall: 0.9556\n",
            "Epoch 197/200\n",
            "4/4 [==============================] - 0s 4ms/step - loss: 0.0931 - accuracy: 0.9646 - precision: 1.0000 - a=recall: 0.9556\n",
            "Epoch 198/200\n",
            "4/4 [==============================] - 0s 4ms/step - loss: 0.1202 - accuracy: 0.9381 - precision: 0.9278 - a=recall: 1.0000\n",
            "Epoch 199/200\n",
            "4/4 [==============================] - 0s 4ms/step - loss: 0.1169 - accuracy: 0.9558 - precision: 1.0000 - a=recall: 0.9444\n",
            "Epoch 200/200\n",
            "4/4 [==============================] - 0s 4ms/step - loss: 0.0678 - accuracy: 0.9646 - precision: 0.9778 - a=recall: 0.9778\n"
          ]
        }
      ],
      "source": [
        "history= model.fit(x_train, y_train, epochs= 200)"
      ]
    },
    {
      "cell_type": "code",
      "execution_count": 114,
      "metadata": {
        "id": "QGQXgAR1NVO6",
        "colab": {
          "base_uri": "https://localhost:8080/",
          "height": 283
        },
        "outputId": "e9cf053d-eb69-4085-ddd0-208745a2bafa"
      },
      "outputs": [
        {
          "output_type": "execute_result",
          "data": {
            "text/plain": [
              "<matplotlib.axes._subplots.AxesSubplot at 0x7f6268b92670>"
            ]
          },
          "metadata": {},
          "execution_count": 114
        },
        {
          "output_type": "display_data",
          "data": {
            "text/plain": [
              "<Figure size 432x288 with 1 Axes>"
            ],
            "image/png": "[encoded data removed]"
          },
          "metadata": {
            "needs_background": "light"
          }
        }
      ],
      "source": [
        "pd.DataFrame(history.history).plot()"
      ]
    },
    {
      "cell_type": "code",
      "execution_count": 115,
      "metadata": {
        "id": "AmH8MrPjksh2",
        "colab": {
          "base_uri": "https://localhost:8080/",
          "height": 283
        },
        "outputId": "f16c4afc-c9aa-4f29-94bc-96a10f752fe0"
      },
      "outputs": [
        {
          "output_type": "execute_result",
          "data": {
            "text/plain": [
              "<matplotlib.axes._subplots.AxesSubplot at 0x7f6268b926d0>"
            ]
          },
          "metadata": {},
          "execution_count": 115
        },
        {
          "output_type": "display_data",
          "data": {
            "text/plain": [
              "<Figure size 432x288 with 1 Axes>"
            ],
            "image/png": "[encoded data removed]"
          },
          "metadata": {
            "needs_background": "light"
          }
        }
      ],
      "source": [
        "pd.DataFrame(history.history).plot()"
      ]
    },
    {
      "cell_type": "markdown",
      "metadata": {
        "id": "_ZuUmniXQDBK"
      },
      "source": [
        "## testing cases"
      ]
    },
    {
      "cell_type": "code",
      "execution_count": 116,
      "metadata": {
        "id": "D45uUM8HQMkW"
      },
      "outputs": [],
      "source": [
        "import tensorflow as tf "
      ]
    },
    {
      "cell_type": "markdown",
      "metadata": {
        "id": "sejMMRamQSTO"
      },
      "source": [
        "### Test size 0.2 "
      ]
    },
    {
      "cell_type": "code",
      "execution_count": 117,
      "metadata": {
        "id": "RlTEAv3fQOaf"
      },
      "outputs": [],
      "source": [
        "from sklearn.model_selection import train_test_split\n",
        "x_train,x_test,y_train,y_test = train_test_split(x,y,test_size = 0.2, random_state = 42)"
      ]
    },
    {
      "cell_type": "code",
      "execution_count": 118,
      "metadata": {
        "id": "PiK0utl9QB_H",
        "colab": {
          "base_uri": "https://localhost:8080/"
        },
        "outputId": "a5536c7e-9d45-4fb9-cab1-033d8ed5cc2f"
      },
      "outputs": [
        {
          "output_type": "stream",
          "name": "stderr",
          "text": [
            "/usr/local/lib/python3.8/dist-packages/keras/optimizers/optimizer_v2/adam.py:110: UserWarning: The `lr` argument is deprecated, use `learning_rate` instead.\n",
            "  super(Adam, self).__init__(name, **kwargs)\n"
          ]
        }
      ],
      "source": [
        "tf.random.set_seed(42)\n",
        "\n",
        "# STEP1: Creating the model\n",
        "\n",
        "model = tf.keras.Sequential([\n",
        "                            tf.keras.layers.Dense(10, activation='relu'),\n",
        "                            tf.keras.layers.Dense(7, activation='relu'),\n",
        "                            tf.keras.layers.Dense(5, activation='relu'),\n",
        "                            tf.keras.layers.Dense(1, activation='sigmoid')\n",
        "])\n",
        "\n",
        "# STEP2: Compiling the model\n",
        "\n",
        "model.compile(loss= tf.keras.losses.binary_crossentropy,\n",
        "              optimizer= tf.keras.optimizers.Adam(lr=0.005),\n",
        "              metrics= [tf.keras.metrics.BinaryAccuracy(name='accuracy'),\n",
        "                        tf.keras.metrics.Precision(name='precision')\n",
        "              ]\n",
        "              )\n"
      ]
    },
    {
      "cell_type": "code",
      "execution_count": 119,
      "metadata": {
        "id": "XG-W1WpgQfRm",
        "colab": {
          "base_uri": "https://localhost:8080/"
        },
        "outputId": "ed43915f-5b49-4832-f643-10924ca1a900"
      },
      "outputs": [
        {
          "output_type": "stream",
          "name": "stdout",
          "text": [
            "Epoch 1/100\n",
            "4/4 [==============================] - 1s 4ms/step - loss: 3.4724 - accuracy: 0.5664 - precision: 0.8154\n",
            "Epoch 2/100\n",
            "4/4 [==============================] - 0s 4ms/step - loss: 1.8308 - accuracy: 0.7257 - precision: 0.8172\n",
            "Epoch 3/100\n",
            "4/4 [==============================] - 0s 3ms/step - loss: 1.6558 - accuracy: 0.7965 - precision: 0.7965\n",
            "Epoch 4/100\n",
            "4/4 [==============================] - 0s 4ms/step - loss: 1.1517 - accuracy: 0.7611 - precision: 0.7944\n",
            "Epoch 5/100\n",
            "4/4 [==============================] - 0s 3ms/step - loss: 0.9258 - accuracy: 0.6372 - precision: 0.8101\n",
            "Epoch 6/100\n",
            "4/4 [==============================] - 0s 3ms/step - loss: 0.6034 - accuracy: 0.7699 - precision: 0.8478\n",
            "Epoch 7/100\n",
            "4/4 [==============================] - 0s 3ms/step - loss: 0.6600 - accuracy: 0.7965 - precision: 0.7965\n",
            "Epoch 8/100\n",
            "4/4 [==============================] - 0s 4ms/step - loss: 0.5449 - accuracy: 0.7965 - precision: 0.7965\n",
            "Epoch 9/100\n",
            "4/4 [==============================] - 0s 4ms/step - loss: 0.5674 - accuracy: 0.6549 - precision: 0.8228\n",
            "Epoch 10/100\n",
            "4/4 [==============================] - 0s 4ms/step - loss: 0.4572 - accuracy: 0.7876 - precision: 0.8235\n",
            "Epoch 11/100\n",
            "4/4 [==============================] - 0s 4ms/step - loss: 0.4847 - accuracy: 0.7965 - precision: 0.7965\n",
            "Epoch 12/100\n",
            "4/4 [==============================] - 0s 3ms/step - loss: 0.4378 - accuracy: 0.8053 - precision: 0.8036\n",
            "Epoch 13/100\n",
            "4/4 [==============================] - 0s 4ms/step - loss: 0.4169 - accuracy: 0.8053 - precision: 0.8617\n",
            "Epoch 14/100\n",
            "4/4 [==============================] - 0s 3ms/step - loss: 0.4199 - accuracy: 0.8053 - precision: 0.8400\n",
            "Epoch 15/100\n",
            "4/4 [==============================] - 0s 3ms/step - loss: 0.4040 - accuracy: 0.8230 - precision: 0.8182\n",
            "Epoch 16/100\n",
            "4/4 [==============================] - 0s 3ms/step - loss: 0.3950 - accuracy: 0.8142 - precision: 0.8286\n",
            "Epoch 17/100\n",
            "4/4 [==============================] - 0s 4ms/step - loss: 0.3851 - accuracy: 0.8230 - precision: 0.8431\n",
            "Epoch 18/100\n",
            "4/4 [==============================] - 0s 4ms/step - loss: 0.3774 - accuracy: 0.8053 - precision: 0.8269\n",
            "Epoch 19/100\n",
            "4/4 [==============================] - 0s 3ms/step - loss: 0.3750 - accuracy: 0.8407 - precision: 0.8600\n",
            "Epoch 20/100\n",
            "4/4 [==============================] - 0s 3ms/step - loss: 0.3729 - accuracy: 0.8053 - precision: 0.8269\n",
            "Epoch 21/100\n",
            "4/4 [==============================] - 0s 4ms/step - loss: 0.3695 - accuracy: 0.8230 - precision: 0.8500\n",
            "Epoch 22/100\n",
            "4/4 [==============================] - 0s 4ms/step - loss: 0.3621 - accuracy: 0.8407 - precision: 0.8600\n",
            "Epoch 23/100\n",
            "4/4 [==============================] - 0s 5ms/step - loss: 0.3581 - accuracy: 0.8142 - precision: 0.8286\n",
            "Epoch 24/100\n",
            "4/4 [==============================] - 0s 4ms/step - loss: 0.3648 - accuracy: 0.8319 - precision: 0.8447\n",
            "Epoch 25/100\n",
            "4/4 [==============================] - 0s 4ms/step - loss: 0.3556 - accuracy: 0.8319 - precision: 0.8515\n",
            "Epoch 26/100\n",
            "4/4 [==============================] - 0s 3ms/step - loss: 0.3523 - accuracy: 0.8230 - precision: 0.8431\n",
            "Epoch 27/100\n",
            "4/4 [==============================] - 0s 3ms/step - loss: 0.3550 - accuracy: 0.8319 - precision: 0.8586\n",
            "Epoch 28/100\n",
            "4/4 [==============================] - 0s 4ms/step - loss: 0.3584 - accuracy: 0.8496 - precision: 0.8476\n",
            "Epoch 29/100\n",
            "4/4 [==============================] - 0s 4ms/step - loss: 0.3496 - accuracy: 0.8319 - precision: 0.8660\n",
            "Epoch 30/100\n",
            "4/4 [==============================] - 0s 3ms/step - loss: 0.3482 - accuracy: 0.8230 - precision: 0.8571\n",
            "Epoch 31/100\n",
            "4/4 [==============================] - 0s 4ms/step - loss: 0.3379 - accuracy: 0.8407 - precision: 0.8529\n",
            "Epoch 32/100\n",
            "4/4 [==============================] - 0s 3ms/step - loss: 0.3313 - accuracy: 0.8407 - precision: 0.8600\n",
            "Epoch 33/100\n",
            "4/4 [==============================] - 0s 3ms/step - loss: 0.3345 - accuracy: 0.8584 - precision: 0.8776\n",
            "Epoch 34/100\n",
            "4/4 [==============================] - 0s 4ms/step - loss: 0.3580 - accuracy: 0.8230 - precision: 0.8241\n",
            "Epoch 35/100\n",
            "4/4 [==============================] - 0s 3ms/step - loss: 0.3320 - accuracy: 0.8230 - precision: 0.8365\n",
            "Epoch 36/100\n",
            "4/4 [==============================] - 0s 4ms/step - loss: 0.3529 - accuracy: 0.8319 - precision: 0.8901\n",
            "Epoch 37/100\n",
            "4/4 [==============================] - 0s 3ms/step - loss: 0.3436 - accuracy: 0.8407 - precision: 0.8333\n",
            "Epoch 38/100\n",
            "4/4 [==============================] - 0s 3ms/step - loss: 0.3163 - accuracy: 0.8496 - precision: 0.8411\n",
            "Epoch 39/100\n",
            "4/4 [==============================] - 0s 3ms/step - loss: 0.3384 - accuracy: 0.8319 - precision: 0.8989\n",
            "Epoch 40/100\n",
            "4/4 [==============================] - 0s 3ms/step - loss: 0.3225 - accuracy: 0.8496 - precision: 0.8614\n",
            "Epoch 41/100\n",
            "4/4 [==============================] - 0s 4ms/step - loss: 0.3113 - accuracy: 0.8584 - precision: 0.8558\n",
            "Epoch 42/100\n",
            "4/4 [==============================] - 0s 4ms/step - loss: 0.3138 - accuracy: 0.8938 - precision: 0.9149\n",
            "Epoch 43/100\n",
            "4/4 [==============================] - 0s 3ms/step - loss: 0.3152 - accuracy: 0.8407 - precision: 0.8462\n",
            "Epoch 44/100\n",
            "4/4 [==============================] - 0s 3ms/step - loss: 0.2998 - accuracy: 0.8673 - precision: 0.8641\n",
            "Epoch 45/100\n",
            "4/4 [==============================] - 0s 3ms/step - loss: 0.3054 - accuracy: 0.8761 - precision: 0.9043\n",
            "Epoch 46/100\n",
            "4/4 [==============================] - 0s 3ms/step - loss: 0.3060 - accuracy: 0.8584 - precision: 0.8627\n",
            "Epoch 47/100\n",
            "4/4 [==============================] - 0s 3ms/step - loss: 0.3001 - accuracy: 0.8673 - precision: 0.8571\n",
            "Epoch 48/100\n",
            "4/4 [==============================] - 0s 3ms/step - loss: 0.2973 - accuracy: 0.8761 - precision: 0.9043\n",
            "Epoch 49/100\n",
            "4/4 [==============================] - 0s 4ms/step - loss: 0.2915 - accuracy: 0.8761 - precision: 0.9043\n",
            "Epoch 50/100\n",
            "4/4 [==============================] - 0s 3ms/step - loss: 0.2925 - accuracy: 0.8850 - precision: 0.8738\n",
            "Epoch 51/100\n",
            "4/4 [==============================] - 0s 4ms/step - loss: 0.2916 - accuracy: 0.8673 - precision: 0.8571\n",
            "Epoch 52/100\n",
            "4/4 [==============================] - 0s 4ms/step - loss: 0.2850 - accuracy: 0.8850 - precision: 0.8969\n",
            "Epoch 53/100\n",
            "4/4 [==============================] - 0s 4ms/step - loss: 0.2922 - accuracy: 0.8850 - precision: 0.9053\n",
            "Epoch 54/100\n",
            "4/4 [==============================] - 0s 3ms/step - loss: 0.2910 - accuracy: 0.8761 - precision: 0.9130\n",
            "Epoch 55/100\n",
            "4/4 [==============================] - 0s 4ms/step - loss: 0.3039 - accuracy: 0.8761 - precision: 0.8654\n",
            "Epoch 56/100\n",
            "4/4 [==============================] - 0s 3ms/step - loss: 0.3195 - accuracy: 0.8584 - precision: 0.8936\n",
            "Epoch 57/100\n",
            "4/4 [==============================] - 0s 4ms/step - loss: 0.3469 - accuracy: 0.8584 - precision: 0.8627\n",
            "Epoch 58/100\n",
            "4/4 [==============================] - 0s 4ms/step - loss: 0.3345 - accuracy: 0.8230 - precision: 0.8431\n",
            "Epoch 59/100\n",
            "4/4 [==============================] - 0s 4ms/step - loss: 0.2879 - accuracy: 0.8850 - precision: 0.9326\n",
            "Epoch 60/100\n",
            "4/4 [==============================] - 0s 3ms/step - loss: 0.3277 - accuracy: 0.8319 - precision: 0.8257\n",
            "Epoch 61/100\n",
            "4/4 [==============================] - 0s 3ms/step - loss: 0.2639 - accuracy: 0.9115 - precision: 0.9167\n",
            "Epoch 62/100\n",
            "4/4 [==============================] - 0s 3ms/step - loss: 0.2816 - accuracy: 0.8850 - precision: 0.9326\n",
            "Epoch 63/100\n",
            "4/4 [==============================] - 0s 3ms/step - loss: 0.2806 - accuracy: 0.8850 - precision: 0.8738\n",
            "Epoch 64/100\n",
            "4/4 [==============================] - 0s 3ms/step - loss: 0.2657 - accuracy: 0.8850 - precision: 0.9140\n",
            "Epoch 65/100\n",
            "4/4 [==============================] - 0s 3ms/step - loss: 0.2655 - accuracy: 0.8850 - precision: 0.9326\n",
            "Epoch 66/100\n",
            "4/4 [==============================] - 0s 4ms/step - loss: 0.2606 - accuracy: 0.9027 - precision: 0.8911\n",
            "Epoch 67/100\n",
            "4/4 [==============================] - 0s 4ms/step - loss: 0.2643 - accuracy: 0.8673 - precision: 0.8788\n",
            "Epoch 68/100\n",
            "4/4 [==============================] - 0s 3ms/step - loss: 0.2560 - accuracy: 0.8938 - precision: 0.9062\n",
            "Epoch 69/100\n",
            "4/4 [==============================] - 0s 3ms/step - loss: 0.2552 - accuracy: 0.9027 - precision: 0.8911\n",
            "Epoch 70/100\n",
            "4/4 [==============================] - 0s 3ms/step - loss: 0.2541 - accuracy: 0.8850 - precision: 0.9140\n",
            "Epoch 71/100\n",
            "4/4 [==============================] - 0s 4ms/step - loss: 0.2543 - accuracy: 0.8761 - precision: 0.9318\n",
            "Epoch 72/100\n",
            "4/4 [==============================] - 0s 4ms/step - loss: 0.2488 - accuracy: 0.8938 - precision: 0.8824\n",
            "Epoch 73/100\n",
            "4/4 [==============================] - 0s 5ms/step - loss: 0.2476 - accuracy: 0.9027 - precision: 0.9072\n",
            "Epoch 74/100\n",
            "4/4 [==============================] - 0s 4ms/step - loss: 0.2458 - accuracy: 0.8850 - precision: 0.9231\n",
            "Epoch 75/100\n",
            "4/4 [==============================] - 0s 3ms/step - loss: 0.2645 - accuracy: 0.8761 - precision: 0.8654\n",
            "Epoch 76/100\n",
            "4/4 [==============================] - 0s 4ms/step - loss: 0.2565 - accuracy: 0.9204 - precision: 0.9451\n",
            "Epoch 77/100\n",
            "4/4 [==============================] - 0s 4ms/step - loss: 0.2805 - accuracy: 0.8673 - precision: 0.8641\n",
            "Epoch 78/100\n",
            "4/4 [==============================] - 0s 4ms/step - loss: 0.2375 - accuracy: 0.8850 - precision: 0.8969\n",
            "Epoch 79/100\n",
            "4/4 [==============================] - 0s 3ms/step - loss: 0.2630 - accuracy: 0.8761 - precision: 0.9318\n",
            "Epoch 80/100\n",
            "4/4 [==============================] - 0s 4ms/step - loss: 0.2518 - accuracy: 0.8673 - precision: 0.8641\n",
            "Epoch 81/100\n",
            "4/4 [==============================] - 0s 4ms/step - loss: 0.2365 - accuracy: 0.9027 - precision: 0.9438\n",
            "Epoch 82/100\n",
            "4/4 [==============================] - 0s 3ms/step - loss: 0.2315 - accuracy: 0.9027 - precision: 0.9158\n",
            "Epoch 83/100\n",
            "4/4 [==============================] - 0s 4ms/step - loss: 0.2362 - accuracy: 0.8850 - precision: 0.8969\n",
            "Epoch 84/100\n",
            "4/4 [==============================] - 0s 4ms/step - loss: 0.2285 - accuracy: 0.9292 - precision: 0.9457\n",
            "Epoch 85/100\n",
            "4/4 [==============================] - 0s 3ms/step - loss: 0.2274 - accuracy: 0.8850 - precision: 0.8812\n",
            "Epoch 86/100\n",
            "4/4 [==============================] - 0s 3ms/step - loss: 0.2293 - accuracy: 0.8850 - precision: 0.8812\n",
            "Epoch 87/100\n",
            "4/4 [==============================] - 0s 4ms/step - loss: 0.2326 - accuracy: 0.9027 - precision: 0.9438\n",
            "Epoch 88/100\n",
            "4/4 [==============================] - 0s 3ms/step - loss: 0.2208 - accuracy: 0.9204 - precision: 0.9451\n",
            "Epoch 89/100\n",
            "4/4 [==============================] - 0s 4ms/step - loss: 0.2199 - accuracy: 0.9027 - precision: 0.9072\n",
            "Epoch 90/100\n",
            "4/4 [==============================] - 0s 3ms/step - loss: 0.2162 - accuracy: 0.9292 - precision: 0.9457\n",
            "Epoch 91/100\n",
            "4/4 [==============================] - 0s 3ms/step - loss: 0.2161 - accuracy: 0.9292 - precision: 0.9457\n",
            "Epoch 92/100\n",
            "4/4 [==============================] - 0s 3ms/step - loss: 0.2143 - accuracy: 0.9027 - precision: 0.9158\n",
            "Epoch 93/100\n",
            "4/4 [==============================] - 0s 4ms/step - loss: 0.2359 - accuracy: 0.9027 - precision: 0.9540\n",
            "Epoch 94/100\n",
            "4/4 [==============================] - 0s 4ms/step - loss: 0.2461 - accuracy: 0.8938 - precision: 0.8824\n",
            "Epoch 95/100\n",
            "4/4 [==============================] - 0s 6ms/step - loss: 0.2428 - accuracy: 0.8938 - precision: 0.9535\n",
            "Epoch 96/100\n",
            "4/4 [==============================] - 0s 3ms/step - loss: 0.2431 - accuracy: 0.8761 - precision: 0.8800\n",
            "Epoch 97/100\n",
            "4/4 [==============================] - 0s 4ms/step - loss: 0.2192 - accuracy: 0.8938 - precision: 0.8900\n",
            "Epoch 98/100\n",
            "4/4 [==============================] - 0s 3ms/step - loss: 0.2482 - accuracy: 0.8761 - precision: 0.9222\n",
            "Epoch 99/100\n",
            "4/4 [==============================] - 0s 3ms/step - loss: 0.2172 - accuracy: 0.9027 - precision: 0.9072\n",
            "Epoch 100/100\n",
            "4/4 [==============================] - 0s 3ms/step - loss: 0.2339 - accuracy: 0.9027 - precision: 0.9647\n"
          ]
        }
      ],
      "source": [
        "mod = model.fit(x_train,y_train, epochs = 100\n",
        "                )"
      ]
    },
    {
      "cell_type": "code",
      "execution_count": 120,
      "metadata": {
        "id": "aXEFCkMA7cSr",
        "colab": {
          "base_uri": "https://localhost:8080/",
          "height": 283
        },
        "outputId": "617bcbc4-793d-4e3b-b297-6f67b47f561f"
      },
      "outputs": [
        {
          "output_type": "execute_result",
          "data": {
            "text/plain": [
              "<matplotlib.axes._subplots.AxesSubplot at 0x7f626d274ee0>"
            ]
          },
          "metadata": {},
          "execution_count": 120
        },
        {
          "output_type": "display_data",
          "data": {
            "text/plain": [
              "<Figure size 432x288 with 1 Axes>"
            ],
            "image/png": "[encoded data removed]"
          },
          "metadata": {
            "needs_background": "light"
          }
        }
      ],
      "source": [
        "pd.DataFrame(mod.history).plot()"
      ]
    },
    {
      "cell_type": "code",
      "execution_count": 121,
      "metadata": {
        "id": "GgCSX2BfnQeq",
        "colab": {
          "base_uri": "https://localhost:8080/"
        },
        "outputId": "bdebad90-216a-4e1d-afa8-77ab152359ec"
      },
      "outputs": [
        {
          "output_type": "stream",
          "name": "stdout",
          "text": [
            "1/1 [==============================] - 0s 237ms/step - loss: 0.4844 - accuracy: 0.8966 - precision: 0.9600\n"
          ]
        },
        {
          "output_type": "execute_result",
          "data": {
            "text/plain": [
              "[0.4844009578227997, 0.8965517282485962, 0.9599999785423279]"
            ]
          },
          "metadata": {},
          "execution_count": 121
        }
      ],
      "source": [
        "model.evaluate(x_test,y_test)"
      ]
    },
    {
      "cell_type": "code",
      "execution_count": 122,
      "metadata": {
        "id": "qclT5egrRDam",
        "colab": {
          "base_uri": "https://localhost:8080/"
        },
        "outputId": "fa2ca59f-1c79-46c9-bfac-a335bb7a94b7"
      },
      "outputs": [
        {
          "output_type": "stream",
          "name": "stderr",
          "text": [
            "/usr/local/lib/python3.8/dist-packages/keras/optimizers/optimizer_v2/gradient_descent.py:108: UserWarning: The `lr` argument is deprecated, use `learning_rate` instead.\n",
            "  super(SGD, self).__init__(name, **kwargs)\n"
          ]
        }
      ],
      "source": [
        "tf.random.set_seed(42)\n",
        "\n",
        "# STEP1: Creating the model\n",
        "\n",
        "model_S= tf.keras.Sequential([\n",
        "                            tf.keras.layers.Dense(10, activation='relu'),\n",
        "                            tf.keras.layers.Dense(7, activation='relu'),\n",
        "                            tf.keras.layers.Dense(5, activation='relu'),\n",
        "                            tf.keras.layers.Dense(1, activation='sigmoid')\n",
        "])\n",
        "\n",
        "# STEP2: Compiling the model\n",
        "\n",
        "model_S.compile(loss= tf.keras.losses.binary_crossentropy,\n",
        "              optimizer= tf.keras.optimizers.SGD(lr=0.005),\n",
        "              metrics= [tf.keras.metrics.BinaryAccuracy(name='accuracy'),\n",
        "                        tf.keras.metrics.Precision(name='precision')\n",
        "              ]\n",
        "              )\n"
      ]
    },
    {
      "cell_type": "code",
      "execution_count": 123,
      "metadata": {
        "id": "EHgGMrMXQuS7",
        "colab": {
          "base_uri": "https://localhost:8080/"
        },
        "outputId": "3f6b7568-6506-4d22-a171-e5961cb72258"
      },
      "outputs": [
        {
          "output_type": "stream",
          "name": "stdout",
          "text": [
            "Epoch 1/100\n",
            "4/4 [==============================] - 1s 4ms/step - loss: 3.1975 - accuracy: 0.6372 - precision: 0.7952\n",
            "Epoch 2/100\n",
            "4/4 [==============================] - 0s 3ms/step - loss: 1.1577 - accuracy: 0.7257 - precision: 0.8105\n",
            "Epoch 3/100\n",
            "4/4 [==============================] - 0s 3ms/step - loss: 0.7178 - accuracy: 0.7611 - precision: 0.7944\n",
            "Epoch 4/100\n",
            "4/4 [==============================] - 0s 3ms/step - loss: 0.6925 - accuracy: 0.7168 - precision: 0.7959\n",
            "Epoch 5/100\n",
            "4/4 [==============================] - 0s 3ms/step - loss: 0.7131 - accuracy: 0.6991 - precision: 0.8256\n",
            "Epoch 6/100\n",
            "4/4 [==============================] - 0s 3ms/step - loss: 0.5905 - accuracy: 0.8053 - precision: 0.8036\n",
            "Epoch 7/100\n",
            "4/4 [==============================] - 0s 3ms/step - loss: 0.4924 - accuracy: 0.8230 - precision: 0.8302\n",
            "Epoch 8/100\n",
            "4/4 [==============================] - 0s 6ms/step - loss: 0.4519 - accuracy: 0.8230 - precision: 0.8241\n",
            "Epoch 9/100\n",
            "4/4 [==============================] - 0s 3ms/step - loss: 1.0866 - accuracy: 0.6106 - precision: 0.7738\n",
            "Epoch 10/100\n",
            "4/4 [==============================] - 0s 2ms/step - loss: 0.5170 - accuracy: 0.7788 - precision: 0.7982\n",
            "Epoch 11/100\n",
            "4/4 [==============================] - 0s 4ms/step - loss: 0.4941 - accuracy: 0.7876 - precision: 0.8000\n",
            "Epoch 12/100\n",
            "4/4 [==============================] - 0s 3ms/step - loss: 0.4811 - accuracy: 0.7965 - precision: 0.7965\n",
            "Epoch 13/100\n",
            "4/4 [==============================] - 0s 6ms/step - loss: 0.5238 - accuracy: 0.7611 - precision: 0.8182\n",
            "Epoch 14/100\n",
            "4/4 [==============================] - 0s 3ms/step - loss: 0.4340 - accuracy: 0.7965 - precision: 0.7965\n",
            "Epoch 15/100\n",
            "4/4 [==============================] - 0s 3ms/step - loss: 0.4694 - accuracy: 0.7876 - precision: 0.8173\n",
            "Epoch 16/100\n",
            "4/4 [==============================] - 0s 3ms/step - loss: 0.4733 - accuracy: 0.7611 - precision: 0.8000\n",
            "Epoch 17/100\n",
            "4/4 [==============================] - 0s 3ms/step - loss: 0.4321 - accuracy: 0.8230 - precision: 0.8241\n",
            "Epoch 18/100\n",
            "4/4 [==============================] - 0s 3ms/step - loss: 0.4589 - accuracy: 0.8142 - precision: 0.8224\n",
            "Epoch 19/100\n",
            "4/4 [==============================] - 0s 3ms/step - loss: 0.4810 - accuracy: 0.7611 - precision: 0.8182\n",
            "Epoch 20/100\n",
            "4/4 [==============================] - 0s 3ms/step - loss: 0.4256 - accuracy: 0.8053 - precision: 0.8091\n",
            "Epoch 21/100\n",
            "4/4 [==============================] - 0s 3ms/step - loss: 0.4745 - accuracy: 0.7876 - precision: 0.8511\n",
            "Epoch 22/100\n",
            "4/4 [==============================] - 0s 3ms/step - loss: 0.4142 - accuracy: 0.8230 - precision: 0.8302\n",
            "Epoch 23/100\n",
            "4/4 [==============================] - 0s 4ms/step - loss: 0.4649 - accuracy: 0.7876 - precision: 0.8173\n",
            "Epoch 24/100\n",
            "4/4 [==============================] - 0s 3ms/step - loss: 0.4260 - accuracy: 0.7965 - precision: 0.8317\n",
            "Epoch 25/100\n",
            "4/4 [==============================] - 0s 3ms/step - loss: 0.4295 - accuracy: 0.7965 - precision: 0.8018\n",
            "Epoch 26/100\n",
            "4/4 [==============================] - 0s 3ms/step - loss: 0.5354 - accuracy: 0.7611 - precision: 0.8247\n",
            "Epoch 27/100\n",
            "4/4 [==============================] - 0s 3ms/step - loss: 0.4397 - accuracy: 0.8142 - precision: 0.8350\n",
            "Epoch 28/100\n",
            "4/4 [==============================] - 0s 3ms/step - loss: 0.4231 - accuracy: 0.8319 - precision: 0.8257\n",
            "Epoch 29/100\n",
            "4/4 [==============================] - 0s 3ms/step - loss: 0.4315 - accuracy: 0.7788 - precision: 0.8155\n",
            "Epoch 30/100\n",
            "4/4 [==============================] - 0s 3ms/step - loss: 0.5203 - accuracy: 0.7876 - precision: 0.8367\n",
            "Epoch 31/100\n",
            "4/4 [==============================] - 0s 2ms/step - loss: 0.4192 - accuracy: 0.8053 - precision: 0.8208\n",
            "Epoch 32/100\n",
            "4/4 [==============================] - 0s 3ms/step - loss: 0.4635 - accuracy: 0.7611 - precision: 0.8182\n",
            "Epoch 33/100\n",
            "4/4 [==============================] - 0s 3ms/step - loss: 0.4804 - accuracy: 0.7699 - precision: 0.8200\n",
            "Epoch 34/100\n",
            "4/4 [==============================] - 0s 3ms/step - loss: 0.6388 - accuracy: 0.7788 - precision: 0.7982\n",
            "Epoch 35/100\n",
            "4/4 [==============================] - 0s 3ms/step - loss: 0.4501 - accuracy: 0.8053 - precision: 0.8148\n",
            "Epoch 36/100\n",
            "4/4 [==============================] - 0s 4ms/step - loss: 0.4166 - accuracy: 0.8053 - precision: 0.8400\n",
            "Epoch 37/100\n",
            "4/4 [==============================] - 0s 3ms/step - loss: 0.4136 - accuracy: 0.8053 - precision: 0.8333\n",
            "Epoch 38/100\n",
            "4/4 [==============================] - 0s 3ms/step - loss: 0.4172 - accuracy: 0.7876 - precision: 0.8000\n",
            "Epoch 39/100\n",
            "4/4 [==============================] - 0s 3ms/step - loss: 0.5595 - accuracy: 0.7434 - precision: 0.8352\n",
            "Epoch 40/100\n",
            "4/4 [==============================] - 0s 3ms/step - loss: 0.4185 - accuracy: 0.7965 - precision: 0.8317\n",
            "Epoch 41/100\n",
            "4/4 [==============================] - 0s 3ms/step - loss: 0.4200 - accuracy: 0.7876 - precision: 0.8113\n",
            "Epoch 42/100\n",
            "4/4 [==============================] - 0s 3ms/step - loss: 0.5117 - accuracy: 0.7788 - precision: 0.8218\n",
            "Epoch 43/100\n",
            "4/4 [==============================] - 0s 4ms/step - loss: 0.4134 - accuracy: 0.8053 - precision: 0.8148\n",
            "Epoch 44/100\n",
            "4/4 [==============================] - 0s 4ms/step - loss: 0.4286 - accuracy: 0.7965 - precision: 0.8317\n",
            "Epoch 45/100\n",
            "4/4 [==============================] - 0s 3ms/step - loss: 0.4139 - accuracy: 0.8142 - precision: 0.8416\n",
            "Epoch 46/100\n",
            "4/4 [==============================] - 0s 3ms/step - loss: 0.4426 - accuracy: 0.7788 - precision: 0.8095\n",
            "Epoch 47/100\n",
            "4/4 [==============================] - 0s 3ms/step - loss: 0.4394 - accuracy: 0.7965 - precision: 0.8073\n",
            "Epoch 48/100\n",
            "4/4 [==============================] - 0s 3ms/step - loss: 0.4106 - accuracy: 0.8053 - precision: 0.8208\n",
            "Epoch 49/100\n",
            "4/4 [==============================] - 0s 3ms/step - loss: 0.4296 - accuracy: 0.8230 - precision: 0.8500\n",
            "Epoch 50/100\n",
            "4/4 [==============================] - 0s 3ms/step - loss: 0.4768 - accuracy: 0.7699 - precision: 0.8137\n",
            "Epoch 51/100\n",
            "4/4 [==============================] - 0s 3ms/step - loss: 0.4869 - accuracy: 0.7965 - precision: 0.8073\n",
            "Epoch 52/100\n",
            "4/4 [==============================] - 0s 3ms/step - loss: 0.4288 - accuracy: 0.7876 - precision: 0.8173\n",
            "Epoch 53/100\n",
            "4/4 [==============================] - 0s 3ms/step - loss: 0.5258 - accuracy: 0.7699 - precision: 0.8137\n",
            "Epoch 54/100\n",
            "4/4 [==============================] - 0s 3ms/step - loss: 0.4487 - accuracy: 0.8496 - precision: 0.8763\n",
            "Epoch 55/100\n",
            "4/4 [==============================] - 0s 6ms/step - loss: 0.4055 - accuracy: 0.8053 - precision: 0.8148\n",
            "Epoch 56/100\n",
            "4/4 [==============================] - 0s 3ms/step - loss: 0.4112 - accuracy: 0.8142 - precision: 0.8416\n",
            "Epoch 57/100\n",
            "4/4 [==============================] - 0s 3ms/step - loss: 0.4075 - accuracy: 0.8230 - precision: 0.8241\n",
            "Epoch 58/100\n",
            "4/4 [==============================] - 0s 3ms/step - loss: 0.4462 - accuracy: 0.8053 - precision: 0.8469\n",
            "Epoch 59/100\n",
            "4/4 [==============================] - 0s 3ms/step - loss: 0.4127 - accuracy: 0.8142 - precision: 0.8350\n",
            "Epoch 60/100\n",
            "4/4 [==============================] - 0s 3ms/step - loss: 0.4055 - accuracy: 0.8230 - precision: 0.8431\n",
            "Epoch 61/100\n",
            "4/4 [==============================] - 0s 3ms/step - loss: 0.4169 - accuracy: 0.8230 - precision: 0.8302\n",
            "Epoch 62/100\n",
            "4/4 [==============================] - 0s 3ms/step - loss: 0.4279 - accuracy: 0.7788 - precision: 0.8283\n",
            "Epoch 63/100\n",
            "4/4 [==============================] - 0s 3ms/step - loss: 0.4164 - accuracy: 0.7965 - precision: 0.8131\n",
            "Epoch 64/100\n",
            "4/4 [==============================] - 0s 3ms/step - loss: 0.4198 - accuracy: 0.8053 - precision: 0.8269\n",
            "Epoch 65/100\n",
            "4/4 [==============================] - 0s 3ms/step - loss: 0.4266 - accuracy: 0.8053 - precision: 0.8542\n",
            "Epoch 66/100\n",
            "4/4 [==============================] - 0s 4ms/step - loss: 0.4473 - accuracy: 0.7611 - precision: 0.8058\n",
            "Epoch 67/100\n",
            "4/4 [==============================] - 0s 4ms/step - loss: 0.4344 - accuracy: 0.8053 - precision: 0.8148\n",
            "Epoch 68/100\n",
            "4/4 [==============================] - 0s 4ms/step - loss: 0.4022 - accuracy: 0.8230 - precision: 0.8365\n",
            "Epoch 69/100\n",
            "4/4 [==============================] - 0s 3ms/step - loss: 0.4279 - accuracy: 0.7965 - precision: 0.8131\n",
            "Epoch 70/100\n",
            "4/4 [==============================] - 0s 3ms/step - loss: 0.4231 - accuracy: 0.8053 - precision: 0.8333\n",
            "Epoch 71/100\n",
            "4/4 [==============================] - 0s 3ms/step - loss: 0.5627 - accuracy: 0.7434 - precision: 0.8081\n",
            "Epoch 72/100\n",
            "4/4 [==============================] - 0s 3ms/step - loss: 0.4178 - accuracy: 0.7965 - precision: 0.8384\n",
            "Epoch 73/100\n",
            "4/4 [==============================] - 0s 3ms/step - loss: 0.4475 - accuracy: 0.7876 - precision: 0.8173\n",
            "Epoch 74/100\n",
            "4/4 [==============================] - 0s 4ms/step - loss: 0.4084 - accuracy: 0.8319 - precision: 0.8381\n",
            "Epoch 75/100\n",
            "4/4 [==============================] - 0s 3ms/step - loss: 0.4119 - accuracy: 0.8053 - precision: 0.8208\n",
            "Epoch 76/100\n",
            "4/4 [==============================] - 0s 3ms/step - loss: 0.4050 - accuracy: 0.7965 - precision: 0.8252\n",
            "Epoch 77/100\n",
            "4/4 [==============================] - 0s 4ms/step - loss: 0.4450 - accuracy: 0.8053 - precision: 0.8148\n",
            "Epoch 78/100\n",
            "4/4 [==============================] - 0s 3ms/step - loss: 0.4085 - accuracy: 0.7876 - precision: 0.8113\n",
            "Epoch 79/100\n",
            "4/4 [==============================] - 0s 3ms/step - loss: 0.4336 - accuracy: 0.7965 - precision: 0.8252\n",
            "Epoch 80/100\n",
            "4/4 [==============================] - 0s 3ms/step - loss: 0.4250 - accuracy: 0.8142 - precision: 0.8485\n",
            "Epoch 81/100\n",
            "4/4 [==============================] - 0s 4ms/step - loss: 0.4337 - accuracy: 0.7965 - precision: 0.8131\n",
            "Epoch 82/100\n",
            "4/4 [==============================] - 0s 3ms/step - loss: 0.4277 - accuracy: 0.7788 - precision: 0.8155\n",
            "Epoch 83/100\n",
            "4/4 [==============================] - 0s 3ms/step - loss: 0.4242 - accuracy: 0.8053 - precision: 0.8208\n",
            "Epoch 84/100\n",
            "4/4 [==============================] - 0s 3ms/step - loss: 0.4293 - accuracy: 0.7699 - precision: 0.8333\n",
            "Epoch 85/100\n",
            "4/4 [==============================] - 0s 3ms/step - loss: 0.4238 - accuracy: 0.7965 - precision: 0.8073\n",
            "Epoch 86/100\n",
            "4/4 [==============================] - 0s 3ms/step - loss: 0.4101 - accuracy: 0.8230 - precision: 0.8241\n",
            "Epoch 87/100\n",
            "4/4 [==============================] - 0s 3ms/step - loss: 0.4880 - accuracy: 0.7522 - precision: 0.8298\n",
            "Epoch 88/100\n",
            "4/4 [==============================] - 0s 4ms/step - loss: 0.4179 - accuracy: 0.8407 - precision: 0.8462\n",
            "Epoch 89/100\n",
            "4/4 [==============================] - 0s 3ms/step - loss: 0.4047 - accuracy: 0.8142 - precision: 0.8286\n",
            "Epoch 90/100\n",
            "4/4 [==============================] - 0s 3ms/step - loss: 0.3994 - accuracy: 0.8230 - precision: 0.8500\n",
            "Epoch 91/100\n",
            "4/4 [==============================] - 0s 3ms/step - loss: 0.4063 - accuracy: 0.8053 - precision: 0.8269\n",
            "Epoch 92/100\n",
            "4/4 [==============================] - 0s 3ms/step - loss: 0.3976 - accuracy: 0.8230 - precision: 0.8365\n",
            "Epoch 93/100\n",
            "4/4 [==============================] - 0s 3ms/step - loss: 0.3999 - accuracy: 0.8319 - precision: 0.8586\n",
            "Epoch 94/100\n",
            "4/4 [==============================] - 0s 4ms/step - loss: 0.4035 - accuracy: 0.7965 - precision: 0.8131\n",
            "Epoch 95/100\n",
            "4/4 [==============================] - 0s 4ms/step - loss: 0.3985 - accuracy: 0.8319 - precision: 0.8586\n",
            "Epoch 96/100\n",
            "4/4 [==============================] - 0s 3ms/step - loss: 0.4315 - accuracy: 0.8053 - precision: 0.8208\n",
            "Epoch 97/100\n",
            "4/4 [==============================] - 0s 3ms/step - loss: 0.3962 - accuracy: 0.8230 - precision: 0.8500\n",
            "Epoch 98/100\n",
            "4/4 [==============================] - 0s 3ms/step - loss: 0.4008 - accuracy: 0.8230 - precision: 0.8241\n",
            "Epoch 99/100\n",
            "4/4 [==============================] - 0s 3ms/step - loss: 0.4055 - accuracy: 0.7788 - precision: 0.8283\n",
            "Epoch 100/100\n",
            "4/4 [==============================] - 0s 3ms/step - loss: 0.4090 - accuracy: 0.8053 - precision: 0.8269\n"
          ]
        }
      ],
      "source": [
        "mod_S  = model_S.fit(x_train,y_train, epochs = 100)"
      ]
    },
    {
      "cell_type": "code",
      "execution_count": 124,
      "metadata": {
        "id": "8RRAkIa3nVzD",
        "colab": {
          "base_uri": "https://localhost:8080/"
        },
        "outputId": "44e91100-ed28-4353-944f-ea68d2752c77"
      },
      "outputs": [
        {
          "output_type": "stream",
          "name": "stdout",
          "text": [
            "1/1 [==============================] - 0s 218ms/step - loss: 0.3913 - accuracy: 0.8276 - precision: 0.9200\n"
          ]
        },
        {
          "output_type": "execute_result",
          "data": {
            "text/plain": [
              "[0.39130789041519165, 0.8275862336158752, 0.9200000166893005]"
            ]
          },
          "metadata": {},
          "execution_count": 124
        }
      ],
      "source": [
        "model_S.evaluate(x_test,y_test)"
      ]
    },
    {
      "cell_type": "code",
      "execution_count": 125,
      "metadata": {
        "id": "2jSXPWzU6-lw",
        "colab": {
          "base_uri": "https://localhost:8080/",
          "height": 283
        },
        "outputId": "06746425-27d0-4441-f75b-bbea08986b69"
      },
      "outputs": [
        {
          "output_type": "execute_result",
          "data": {
            "text/plain": [
              "<matplotlib.axes._subplots.AxesSubplot at 0x7f6267558220>"
            ]
          },
          "metadata": {},
          "execution_count": 125
        },
        {
          "output_type": "display_data",
          "data": {
            "text/plain": [
              "<Figure size 432x288 with 1 Axes>"
            ],
            "image/png": "[encoded data removed]"
          },
          "metadata": {
            "needs_background": "light"
          }
        }
      ],
      "source": [
        "pd.DataFrame(mod_S.history).plot()"
      ]
    },
    {
      "cell_type": "markdown",
      "metadata": {
        "id": "nNIFWJjXRxbQ"
      },
      "source": [
        "### Test_size = 0.25"
      ]
    },
    {
      "cell_type": "code",
      "execution_count": 126,
      "metadata": {
        "id": "9tFFvUptR4Xu"
      },
      "outputs": [],
      "source": [
        "x_train,x_test,y_train,y_test = train_test_split(x,y,test_size = 0.25, random_state  =42)"
      ]
    },
    {
      "cell_type": "code",
      "execution_count": 127,
      "metadata": {
        "id": "ZPoIfPFaSO7P",
        "colab": {
          "base_uri": "https://localhost:8080/"
        },
        "outputId": "cc3f4a75-5ede-464b-9e55-8febe09cdf67"
      },
      "outputs": [
        {
          "output_type": "stream",
          "name": "stderr",
          "text": [
            "/usr/local/lib/python3.8/dist-packages/keras/optimizers/optimizer_v2/adam.py:110: UserWarning: The `lr` argument is deprecated, use `learning_rate` instead.\n",
            "  super(Adam, self).__init__(name, **kwargs)\n"
          ]
        }
      ],
      "source": [
        "tf.random.set_seed(42)\n",
        "\n",
        "# STEP1: Creating the model\n",
        "\n",
        "model_2= tf.keras.Sequential([\n",
        "                            tf.keras.layers.Dense(10, activation='relu'),\n",
        "                            tf.keras.layers.Dense(7, activation='relu'),\n",
        "                            tf.keras.layers.Dense(5, activation='relu'),\n",
        "                            tf.keras.layers.Dense(1, activation='sigmoid')\n",
        "])\n",
        "\n",
        "# STEP2: Compiling the model\n",
        "\n",
        "model_2.compile(loss= tf.keras.losses.binary_crossentropy,\n",
        "              optimizer= tf.keras.optimizers.Adam(lr=0.005),\n",
        "              metrics= [tf.keras.metrics.BinaryAccuracy(name='accuracy'),\n",
        "                        tf.keras.metrics.Precision(name='precision')\n",
        "              ]\n",
        "              )"
      ]
    },
    {
      "cell_type": "code",
      "execution_count": 128,
      "metadata": {
        "id": "agbGXQ4b48Xw",
        "colab": {
          "base_uri": "https://localhost:8080/"
        },
        "outputId": "90d7ce53-23a9-4ec8-b3e4-e06192f3bb48"
      },
      "outputs": [
        {
          "output_type": "stream",
          "name": "stdout",
          "text": [
            "Epoch 1/100\n",
            "4/4 [==============================] - 1s 4ms/step - loss: 2.9849 - accuracy: 0.6509 - precision: 0.8406\n",
            "Epoch 2/100\n",
            "4/4 [==============================] - 0s 3ms/step - loss: 1.8822 - accuracy: 0.7453 - precision: 0.7822\n",
            "Epoch 3/100\n",
            "4/4 [==============================] - 0s 3ms/step - loss: 1.4503 - accuracy: 0.7925 - precision: 0.7925\n",
            "Epoch 4/100\n",
            "4/4 [==============================] - 0s 3ms/step - loss: 1.1122 - accuracy: 0.7170 - precision: 0.8293\n",
            "Epoch 5/100\n",
            "4/4 [==============================] - 0s 3ms/step - loss: 0.8064 - accuracy: 0.6887 - precision: 0.8400\n",
            "Epoch 6/100\n",
            "4/4 [==============================] - 0s 3ms/step - loss: 0.6530 - accuracy: 0.7830 - precision: 0.7905\n",
            "Epoch 7/100\n",
            "4/4 [==============================] - 0s 3ms/step - loss: 0.6131 - accuracy: 0.7925 - precision: 0.7925\n",
            "Epoch 8/100\n",
            "4/4 [==============================] - 0s 3ms/step - loss: 0.4696 - accuracy: 0.8019 - precision: 0.8000\n",
            "Epoch 9/100\n",
            "4/4 [==============================] - 0s 3ms/step - loss: 0.5394 - accuracy: 0.7642 - precision: 0.8933\n",
            "Epoch 10/100\n",
            "4/4 [==============================] - 0s 3ms/step - loss: 0.4817 - accuracy: 0.8208 - precision: 0.8421\n",
            "Epoch 11/100\n",
            "4/4 [==============================] - 0s 3ms/step - loss: 0.4887 - accuracy: 0.8019 - precision: 0.8000\n",
            "Epoch 12/100\n",
            "4/4 [==============================] - 0s 3ms/step - loss: 0.4541 - accuracy: 0.8113 - precision: 0.8478\n",
            "Epoch 13/100\n",
            "4/4 [==============================] - 0s 3ms/step - loss: 0.4410 - accuracy: 0.8019 - precision: 0.8621\n",
            "Epoch 14/100\n",
            "4/4 [==============================] - 0s 3ms/step - loss: 0.4216 - accuracy: 0.8208 - precision: 0.8155\n",
            "Epoch 15/100\n",
            "4/4 [==============================] - 0s 3ms/step - loss: 0.4159 - accuracy: 0.8302 - precision: 0.8300\n",
            "Epoch 16/100\n",
            "4/4 [==============================] - 0s 3ms/step - loss: 0.4136 - accuracy: 0.8113 - precision: 0.8556\n",
            "Epoch 17/100\n",
            "4/4 [==============================] - 0s 4ms/step - loss: 0.3986 - accuracy: 0.8019 - precision: 0.8316\n",
            "Epoch 18/100\n",
            "4/4 [==============================] - 0s 3ms/step - loss: 0.4024 - accuracy: 0.7925 - precision: 0.8163\n",
            "Epoch 19/100\n",
            "4/4 [==============================] - 0s 3ms/step - loss: 0.4045 - accuracy: 0.7925 - precision: 0.8298\n",
            "Epoch 20/100\n",
            "4/4 [==============================] - 0s 3ms/step - loss: 0.3847 - accuracy: 0.8019 - precision: 0.8387\n",
            "Epoch 21/100\n",
            "4/4 [==============================] - 0s 3ms/step - loss: 0.4204 - accuracy: 0.8208 - precision: 0.8218\n",
            "Epoch 22/100\n",
            "4/4 [==============================] - 0s 3ms/step - loss: 0.3827 - accuracy: 0.8302 - precision: 0.8367\n",
            "Epoch 23/100\n",
            "4/4 [==============================] - 0s 3ms/step - loss: 0.3814 - accuracy: 0.8208 - precision: 0.8571\n",
            "Epoch 24/100\n",
            "4/4 [==============================] - 0s 3ms/step - loss: 0.3847 - accuracy: 0.8396 - precision: 0.8851\n",
            "Epoch 25/100\n",
            "4/4 [==============================] - 0s 3ms/step - loss: 0.3863 - accuracy: 0.8208 - precision: 0.8218\n",
            "Epoch 26/100\n",
            "4/4 [==============================] - 0s 5ms/step - loss: 0.4048 - accuracy: 0.8208 - precision: 0.8155\n",
            "Epoch 27/100\n",
            "4/4 [==============================] - 0s 5ms/step - loss: 0.3760 - accuracy: 0.8302 - precision: 0.8750\n",
            "Epoch 28/100\n",
            "4/4 [==============================] - 0s 4ms/step - loss: 0.3956 - accuracy: 0.8019 - precision: 0.8706\n",
            "Epoch 29/100\n",
            "4/4 [==============================] - 0s 3ms/step - loss: 0.3633 - accuracy: 0.8396 - precision: 0.8454\n",
            "Epoch 30/100\n",
            "4/4 [==============================] - 0s 3ms/step - loss: 0.3581 - accuracy: 0.8208 - precision: 0.8571\n",
            "Epoch 31/100\n",
            "4/4 [==============================] - 0s 3ms/step - loss: 0.3749 - accuracy: 0.8208 - precision: 0.8351\n",
            "Epoch 32/100\n",
            "4/4 [==============================] - 0s 3ms/step - loss: 0.3577 - accuracy: 0.8208 - precision: 0.8495\n",
            "Epoch 33/100\n",
            "4/4 [==============================] - 0s 4ms/step - loss: 0.3556 - accuracy: 0.8113 - precision: 0.8556\n",
            "Epoch 34/100\n",
            "4/4 [==============================] - 0s 4ms/step - loss: 0.3579 - accuracy: 0.8302 - precision: 0.8837\n",
            "Epoch 35/100\n",
            "4/4 [==============================] - 0s 4ms/step - loss: 0.3537 - accuracy: 0.8302 - precision: 0.8587\n",
            "Epoch 36/100\n",
            "4/4 [==============================] - 0s 3ms/step - loss: 0.3424 - accuracy: 0.8491 - precision: 0.8542\n",
            "Epoch 37/100\n",
            "4/4 [==============================] - 0s 3ms/step - loss: 0.3465 - accuracy: 0.8585 - precision: 0.8966\n",
            "Epoch 38/100\n",
            "4/4 [==============================] - 0s 3ms/step - loss: 0.3360 - accuracy: 0.8585 - precision: 0.8632\n",
            "Epoch 39/100\n",
            "4/4 [==============================] - 0s 4ms/step - loss: 0.3354 - accuracy: 0.8491 - precision: 0.8542\n",
            "Epoch 40/100\n",
            "4/4 [==============================] - 0s 3ms/step - loss: 0.3307 - accuracy: 0.8491 - precision: 0.8696\n",
            "Epoch 41/100\n",
            "4/4 [==============================] - 0s 4ms/step - loss: 0.3346 - accuracy: 0.8396 - precision: 0.8454\n",
            "Epoch 42/100\n",
            "4/4 [==============================] - 0s 4ms/step - loss: 0.3228 - accuracy: 0.8774 - precision: 0.8901\n",
            "Epoch 43/100\n",
            "4/4 [==============================] - 0s 3ms/step - loss: 0.3272 - accuracy: 0.8774 - precision: 0.8817\n",
            "Epoch 44/100\n",
            "4/4 [==============================] - 0s 6ms/step - loss: 0.3333 - accuracy: 0.8396 - precision: 0.8851\n",
            "Epoch 45/100\n",
            "4/4 [==============================] - 0s 4ms/step - loss: 0.3176 - accuracy: 0.8396 - precision: 0.8764\n",
            "Epoch 46/100\n",
            "4/4 [==============================] - 0s 3ms/step - loss: 0.3361 - accuracy: 0.8491 - precision: 0.8400\n",
            "Epoch 47/100\n",
            "4/4 [==============================] - 0s 3ms/step - loss: 0.3148 - accuracy: 0.8679 - precision: 0.8977\n",
            "Epoch 48/100\n",
            "4/4 [==============================] - 0s 3ms/step - loss: 0.3263 - accuracy: 0.8585 - precision: 0.8966\n",
            "Epoch 49/100\n",
            "4/4 [==============================] - 0s 3ms/step - loss: 0.3097 - accuracy: 0.8585 - precision: 0.8632\n",
            "Epoch 50/100\n",
            "4/4 [==============================] - 0s 4ms/step - loss: 0.3035 - accuracy: 0.8774 - precision: 0.8901\n",
            "Epoch 51/100\n",
            "4/4 [==============================] - 0s 4ms/step - loss: 0.3135 - accuracy: 0.8585 - precision: 0.8557\n",
            "Epoch 52/100\n",
            "4/4 [==============================] - 0s 3ms/step - loss: 0.3069 - accuracy: 0.8585 - precision: 0.8557\n",
            "Epoch 53/100\n",
            "4/4 [==============================] - 0s 3ms/step - loss: 0.3034 - accuracy: 0.8679 - precision: 0.8571\n",
            "Epoch 54/100\n",
            "4/4 [==============================] - 0s 3ms/step - loss: 0.2985 - accuracy: 0.8585 - precision: 0.8632\n",
            "Epoch 55/100\n",
            "4/4 [==============================] - 0s 3ms/step - loss: 0.2963 - accuracy: 0.8868 - precision: 0.8913\n",
            "Epoch 56/100\n",
            "4/4 [==============================] - 0s 3ms/step - loss: 0.3185 - accuracy: 0.8868 - precision: 0.9286\n",
            "Epoch 57/100\n",
            "4/4 [==============================] - 0s 3ms/step - loss: 0.3649 - accuracy: 0.8491 - precision: 0.8400\n",
            "Epoch 58/100\n",
            "4/4 [==============================] - 0s 3ms/step - loss: 0.3797 - accuracy: 0.8208 - precision: 0.8155\n",
            "Epoch 59/100\n",
            "4/4 [==============================] - 0s 3ms/step - loss: 0.3052 - accuracy: 0.8868 - precision: 0.9500\n",
            "Epoch 60/100\n",
            "4/4 [==============================] - 0s 4ms/step - loss: 0.3292 - accuracy: 0.8302 - precision: 0.8750\n",
            "Epoch 61/100\n",
            "4/4 [==============================] - 0s 3ms/step - loss: 0.2836 - accuracy: 0.8868 - precision: 0.8750\n",
            "Epoch 62/100\n",
            "4/4 [==============================] - 0s 3ms/step - loss: 0.2996 - accuracy: 0.8868 - precision: 0.9500\n",
            "Epoch 63/100\n",
            "4/4 [==============================] - 0s 3ms/step - loss: 0.3039 - accuracy: 0.8774 - precision: 0.8737\n",
            "Epoch 64/100\n",
            "4/4 [==============================] - 0s 3ms/step - loss: 0.2851 - accuracy: 0.8585 - precision: 0.8632\n",
            "Epoch 65/100\n",
            "4/4 [==============================] - 0s 3ms/step - loss: 0.3160 - accuracy: 0.8962 - precision: 0.9620\n",
            "Epoch 66/100\n",
            "4/4 [==============================] - 0s 3ms/step - loss: 0.2856 - accuracy: 0.8774 - precision: 0.8817\n",
            "Epoch 67/100\n",
            "4/4 [==============================] - 0s 3ms/step - loss: 0.2999 - accuracy: 0.8679 - precision: 0.8571\n",
            "Epoch 68/100\n",
            "4/4 [==============================] - 0s 4ms/step - loss: 0.3619 - accuracy: 0.8396 - precision: 0.9351\n",
            "Epoch 69/100\n",
            "4/4 [==============================] - 0s 3ms/step - loss: 0.2967 - accuracy: 0.8396 - precision: 0.8602\n",
            "Epoch 70/100\n",
            "4/4 [==============================] - 0s 3ms/step - loss: 0.3864 - accuracy: 0.8302 - precision: 0.8235\n",
            "Epoch 71/100\n",
            "4/4 [==============================] - 0s 4ms/step - loss: 0.3677 - accuracy: 0.8208 - precision: 0.9221\n",
            "Epoch 72/100\n",
            "4/4 [==============================] - 0s 3ms/step - loss: 0.2875 - accuracy: 0.9057 - precision: 0.9625\n",
            "Epoch 73/100\n",
            "4/4 [==============================] - 0s 4ms/step - loss: 0.4068 - accuracy: 0.8396 - precision: 0.8317\n",
            "Epoch 74/100\n",
            "4/4 [==============================] - 0s 4ms/step - loss: 0.2783 - accuracy: 0.8962 - precision: 0.9101\n",
            "Epoch 75/100\n",
            "4/4 [==============================] - 0s 3ms/step - loss: 0.3776 - accuracy: 0.8491 - precision: 0.9595\n",
            "Epoch 76/100\n",
            "4/4 [==============================] - 0s 4ms/step - loss: 0.3054 - accuracy: 0.8491 - precision: 0.8469\n",
            "Epoch 77/100\n",
            "4/4 [==============================] - 0s 6ms/step - loss: 0.3667 - accuracy: 0.8396 - precision: 0.8317\n",
            "Epoch 78/100\n",
            "4/4 [==============================] - 0s 4ms/step - loss: 0.2599 - accuracy: 0.8868 - precision: 0.9286\n",
            "Epoch 79/100\n",
            "4/4 [==============================] - 0s 3ms/step - loss: 0.2925 - accuracy: 0.8868 - precision: 0.9500\n",
            "Epoch 80/100\n",
            "4/4 [==============================] - 0s 3ms/step - loss: 0.2870 - accuracy: 0.8585 - precision: 0.8557\n",
            "Epoch 81/100\n",
            "4/4 [==============================] - 0s 4ms/step - loss: 0.2818 - accuracy: 0.8679 - precision: 0.8571\n",
            "Epoch 82/100\n",
            "4/4 [==============================] - 0s 3ms/step - loss: 0.2677 - accuracy: 0.8962 - precision: 0.9620\n",
            "Epoch 83/100\n",
            "4/4 [==============================] - 0s 4ms/step - loss: 0.2924 - accuracy: 0.8774 - precision: 0.9080\n",
            "Epoch 84/100\n",
            "4/4 [==============================] - 0s 5ms/step - loss: 0.2634 - accuracy: 0.8962 - precision: 0.8925\n",
            "Epoch 85/100\n",
            "4/4 [==============================] - 0s 3ms/step - loss: 0.3212 - accuracy: 0.8774 - precision: 0.9494\n",
            "Epoch 86/100\n",
            "4/4 [==============================] - 0s 3ms/step - loss: 0.2560 - accuracy: 0.9057 - precision: 0.9205\n",
            "Epoch 87/100\n",
            "4/4 [==============================] - 0s 3ms/step - loss: 0.2786 - accuracy: 0.8679 - precision: 0.8571\n",
            "Epoch 88/100\n",
            "4/4 [==============================] - 0s 3ms/step - loss: 0.2513 - accuracy: 0.8774 - precision: 0.8737\n",
            "Epoch 89/100\n",
            "4/4 [==============================] - 0s 3ms/step - loss: 0.2530 - accuracy: 0.9057 - precision: 0.9512\n",
            "Epoch 90/100\n",
            "4/4 [==============================] - 0s 3ms/step - loss: 0.2590 - accuracy: 0.8679 - precision: 0.8646\n",
            "Epoch 91/100\n",
            "4/4 [==============================] - 0s 3ms/step - loss: 0.2450 - accuracy: 0.8774 - precision: 0.8817\n",
            "Epoch 92/100\n",
            "4/4 [==============================] - 0s 3ms/step - loss: 0.2822 - accuracy: 0.8774 - precision: 0.9383\n",
            "Epoch 93/100\n",
            "4/4 [==============================] - 0s 4ms/step - loss: 0.2555 - accuracy: 0.8396 - precision: 0.8681\n",
            "Epoch 94/100\n",
            "4/4 [==============================] - 0s 4ms/step - loss: 0.2572 - accuracy: 0.8774 - precision: 0.8817\n",
            "Epoch 95/100\n",
            "4/4 [==============================] - 0s 3ms/step - loss: 0.2507 - accuracy: 0.8868 - precision: 0.9091\n",
            "Epoch 96/100\n",
            "4/4 [==============================] - 0s 3ms/step - loss: 0.2489 - accuracy: 0.9151 - precision: 0.9412\n",
            "Epoch 97/100\n",
            "4/4 [==============================] - 0s 3ms/step - loss: 0.2388 - accuracy: 0.9151 - precision: 0.9518\n",
            "Epoch 98/100\n",
            "4/4 [==============================] - 0s 4ms/step - loss: 0.2504 - accuracy: 0.8962 - precision: 0.8842\n",
            "Epoch 99/100\n",
            "4/4 [==============================] - 0s 4ms/step - loss: 0.2481 - accuracy: 0.8774 - precision: 0.9277\n",
            "Epoch 100/100\n",
            "4/4 [==============================] - 0s 4ms/step - loss: 0.2439 - accuracy: 0.9057 - precision: 0.9022\n"
          ]
        }
      ],
      "source": [
        "mod_2 = model_2.fit(x_train,y_train, epochs = 100)"
      ]
    },
    {
      "cell_type": "code",
      "execution_count": 129,
      "metadata": {
        "id": "tSHmjDor7qnC",
        "colab": {
          "base_uri": "https://localhost:8080/",
          "height": 283
        },
        "outputId": "a1d85a36-4e94-4b3a-c30f-07358ab5a3ac"
      },
      "outputs": [
        {
          "output_type": "execute_result",
          "data": {
            "text/plain": [
              "<matplotlib.axes._subplots.AxesSubplot at 0x7f62631cffd0>"
            ]
          },
          "metadata": {},
          "execution_count": 129
        },
        {
          "output_type": "display_data",
          "data": {
            "text/plain": [
              "<Figure size 432x288 with 1 Axes>"
            ],
            "image/png": "[encoded data removed]"
          },
          "metadata": {
            "needs_background": "light"
          }
        }
      ],
      "source": [
        "pd.DataFrame(mod_2.history).plot()"
      ]
    },
    {
      "cell_type": "code",
      "execution_count": 130,
      "metadata": {
        "id": "L8tdYxJinm67",
        "colab": {
          "base_uri": "https://localhost:8080/"
        },
        "outputId": "e840e00d-db48-4365-d24e-fdb7683446c3"
      },
      "outputs": [
        {
          "output_type": "stream",
          "name": "stdout",
          "text": [
            "2/2 [==============================] - 0s 6ms/step - loss: 0.3962 - accuracy: 0.8889 - precision: 0.9118\n"
          ]
        },
        {
          "output_type": "execute_result",
          "data": {
            "text/plain": [
              "<keras.callbacks.History at 0x7f626314d400>"
            ]
          },
          "metadata": {},
          "execution_count": 130
        }
      ],
      "source": [
        "model_2.fit(x_test,y_test)"
      ]
    },
    {
      "cell_type": "code",
      "execution_count": 131,
      "metadata": {
        "id": "HRe6C6Jg5FZx",
        "colab": {
          "base_uri": "https://localhost:8080/"
        },
        "outputId": "7a57836a-d537-47f5-ff27-a4706ee75173"
      },
      "outputs": [
        {
          "output_type": "stream",
          "name": "stderr",
          "text": [
            "/usr/local/lib/python3.8/dist-packages/keras/optimizers/optimizer_v2/gradient_descent.py:108: UserWarning: The `lr` argument is deprecated, use `learning_rate` instead.\n",
            "  super(SGD, self).__init__(name, **kwargs)\n"
          ]
        }
      ],
      "source": [
        "tf.random.set_seed(42)\n",
        "\n",
        "# STEP1: Creating the model\n",
        "\n",
        "model_2s= tf.keras.Sequential([\n",
        "                            tf.keras.layers.Dense(10, activation='relu'),\n",
        "                            tf.keras.layers.Dense(7, activation='relu'),\n",
        "                            tf.keras.layers.Dense(5, activation='relu'),\n",
        "                            tf.keras.layers.Dense(1, activation='sigmoid')\n",
        "])\n",
        "\n",
        "# STEP2: Compiling the model\n",
        "\n",
        "model_2s.compile(loss= tf.keras.losses.binary_crossentropy,\n",
        "              optimizer= tf.keras.optimizers.SGD(lr=0.005),\n",
        "              metrics= [tf.keras.metrics.BinaryAccuracy(name='accuracy'),\n",
        "                        tf.keras.metrics.Precision(name='precision')\n",
        "              ]\n",
        "              )"
      ]
    },
    {
      "cell_type": "code",
      "execution_count": 132,
      "metadata": {
        "id": "L0KNrqAi5GB5",
        "colab": {
          "base_uri": "https://localhost:8080/"
        },
        "outputId": "414461eb-ded4-4111-c093-835e8e3d3e6a"
      },
      "outputs": [
        {
          "output_type": "stream",
          "name": "stdout",
          "text": [
            "Epoch 1/100\n",
            "4/4 [==============================] - 1s 3ms/step - loss: 2.4779 - accuracy: 0.6981 - precision: 0.8171\n",
            "Epoch 2/100\n",
            "4/4 [==============================] - 0s 3ms/step - loss: 1.5440 - accuracy: 0.7075 - precision: 0.7849\n",
            "Epoch 3/100\n",
            "4/4 [==============================] - 0s 3ms/step - loss: 1.7571 - accuracy: 0.6038 - precision: 0.7561\n",
            "Epoch 4/100\n",
            "4/4 [==============================] - 0s 3ms/step - loss: 0.7502 - accuracy: 0.7453 - precision: 0.8065\n",
            "Epoch 5/100\n",
            "4/4 [==============================] - 0s 4ms/step - loss: 0.9575 - accuracy: 0.7830 - precision: 0.8020\n",
            "Epoch 6/100\n",
            "4/4 [==============================] - 0s 3ms/step - loss: 0.5553 - accuracy: 0.7830 - precision: 0.8020\n",
            "Epoch 7/100\n",
            "4/4 [==============================] - 0s 3ms/step - loss: 0.5752 - accuracy: 0.7830 - precision: 0.8020\n",
            "Epoch 8/100\n",
            "4/4 [==============================] - 0s 3ms/step - loss: 0.5307 - accuracy: 0.7925 - precision: 0.8039\n",
            "Epoch 9/100\n",
            "4/4 [==============================] - 0s 3ms/step - loss: 0.5299 - accuracy: 0.8019 - precision: 0.8387\n",
            "Epoch 10/100\n",
            "4/4 [==============================] - 0s 4ms/step - loss: 0.5763 - accuracy: 0.7925 - precision: 0.7981\n",
            "Epoch 11/100\n",
            "4/4 [==============================] - 0s 3ms/step - loss: 0.5459 - accuracy: 0.8019 - precision: 0.8182\n",
            "Epoch 12/100\n",
            "4/4 [==============================] - 0s 3ms/step - loss: 0.5113 - accuracy: 0.8019 - precision: 0.8182\n",
            "Epoch 13/100\n",
            "4/4 [==============================] - 0s 3ms/step - loss: 0.5591 - accuracy: 0.7642 - precision: 0.8105\n",
            "Epoch 14/100\n",
            "4/4 [==============================] - 0s 3ms/step - loss: 0.4838 - accuracy: 0.8113 - precision: 0.8137\n",
            "Epoch 15/100\n",
            "4/4 [==============================] - 0s 4ms/step - loss: 0.5198 - accuracy: 0.7736 - precision: 0.8061\n",
            "Epoch 16/100\n",
            "4/4 [==============================] - 0s 3ms/step - loss: 0.4722 - accuracy: 0.7830 - precision: 0.8081\n",
            "Epoch 17/100\n",
            "4/4 [==============================] - 0s 3ms/step - loss: 0.4768 - accuracy: 0.7925 - precision: 0.8039\n",
            "Epoch 18/100\n",
            "4/4 [==============================] - 0s 3ms/step - loss: 0.5264 - accuracy: 0.7547 - precision: 0.8021\n",
            "Epoch 19/100\n",
            "4/4 [==============================] - 0s 4ms/step - loss: 0.4717 - accuracy: 0.8019 - precision: 0.8387\n",
            "Epoch 20/100\n",
            "4/4 [==============================] - 0s 3ms/step - loss: 0.4903 - accuracy: 0.8113 - precision: 0.8137\n",
            "Epoch 21/100\n",
            "4/4 [==============================] - 0s 3ms/step - loss: 0.6898 - accuracy: 0.7358 - precision: 0.8111\n",
            "Epoch 22/100\n",
            "4/4 [==============================] - 0s 4ms/step - loss: 0.5009 - accuracy: 0.7736 - precision: 0.7885\n",
            "Epoch 23/100\n",
            "4/4 [==============================] - 0s 3ms/step - loss: 0.4615 - accuracy: 0.7925 - precision: 0.7981\n",
            "Epoch 24/100\n",
            "4/4 [==============================] - 0s 3ms/step - loss: 0.4569 - accuracy: 0.7925 - precision: 0.8298\n",
            "Epoch 25/100\n",
            "4/4 [==============================] - 0s 3ms/step - loss: 0.5336 - accuracy: 0.7547 - precision: 0.7843\n",
            "Epoch 26/100\n",
            "4/4 [==============================] - 0s 3ms/step - loss: 0.5996 - accuracy: 0.8019 - precision: 0.8000\n",
            "Epoch 27/100\n",
            "4/4 [==============================] - 0s 5ms/step - loss: 0.5015 - accuracy: 0.7736 - precision: 0.8191\n",
            "Epoch 28/100\n",
            "4/4 [==============================] - 0s 4ms/step - loss: 0.4453 - accuracy: 0.7925 - precision: 0.7981\n",
            "Epoch 29/100\n",
            "4/4 [==============================] - 0s 3ms/step - loss: 0.6180 - accuracy: 0.7075 - precision: 0.8046\n",
            "Epoch 30/100\n",
            "4/4 [==============================] - 0s 3ms/step - loss: 0.4571 - accuracy: 0.8019 - precision: 0.8119\n",
            "Epoch 31/100\n",
            "4/4 [==============================] - 0s 3ms/step - loss: 0.4533 - accuracy: 0.8019 - precision: 0.8058\n",
            "Epoch 32/100\n",
            "4/4 [==============================] - 0s 3ms/step - loss: 0.4603 - accuracy: 0.8113 - precision: 0.8333\n",
            "Epoch 33/100\n",
            "4/4 [==============================] - 0s 3ms/step - loss: 0.5116 - accuracy: 0.7830 - precision: 0.7961\n",
            "Epoch 34/100\n",
            "4/4 [==============================] - 0s 4ms/step - loss: 0.5034 - accuracy: 0.7736 - precision: 0.8488\n",
            "Epoch 35/100\n",
            "4/4 [==============================] - 0s 3ms/step - loss: 0.4455 - accuracy: 0.7925 - precision: 0.7981\n",
            "Epoch 36/100\n",
            "4/4 [==============================] - 0s 4ms/step - loss: 0.6644 - accuracy: 0.6981 - precision: 0.8171\n",
            "Epoch 37/100\n",
            "4/4 [==============================] - 0s 3ms/step - loss: 0.4642 - accuracy: 0.8019 - precision: 0.8316\n",
            "Epoch 38/100\n",
            "4/4 [==============================] - 0s 3ms/step - loss: 0.4624 - accuracy: 0.7830 - precision: 0.8081\n",
            "Epoch 39/100\n",
            "4/4 [==============================] - 0s 4ms/step - loss: 0.4592 - accuracy: 0.8019 - precision: 0.8119\n",
            "Epoch 40/100\n",
            "4/4 [==============================] - 0s 3ms/step - loss: 0.4718 - accuracy: 0.8019 - precision: 0.8119\n",
            "Epoch 41/100\n",
            "4/4 [==============================] - 0s 3ms/step - loss: 0.4433 - accuracy: 0.7925 - precision: 0.8039\n",
            "Epoch 42/100\n",
            "4/4 [==============================] - 0s 3ms/step - loss: 0.4466 - accuracy: 0.8113 - precision: 0.8265\n",
            "Epoch 43/100\n",
            "4/4 [==============================] - 0s 3ms/step - loss: 0.4605 - accuracy: 0.8019 - precision: 0.8119\n",
            "Epoch 44/100\n",
            "4/4 [==============================] - 0s 3ms/step - loss: 0.4889 - accuracy: 0.7830 - precision: 0.8506\n",
            "Epoch 45/100\n",
            "4/4 [==============================] - 0s 3ms/step - loss: 0.4554 - accuracy: 0.7925 - precision: 0.8100\n",
            "Epoch 46/100\n",
            "4/4 [==============================] - 0s 3ms/step - loss: 0.4389 - accuracy: 0.7736 - precision: 0.7941\n",
            "Epoch 47/100\n",
            "4/4 [==============================] - 0s 3ms/step - loss: 0.4473 - accuracy: 0.7830 - precision: 0.8081\n",
            "Epoch 48/100\n",
            "4/4 [==============================] - 0s 3ms/step - loss: 0.4350 - accuracy: 0.7925 - precision: 0.8100\n",
            "Epoch 49/100\n",
            "4/4 [==============================] - 0s 3ms/step - loss: 0.4451 - accuracy: 0.8113 - precision: 0.8404\n",
            "Epoch 50/100\n",
            "4/4 [==============================] - 0s 3ms/step - loss: 0.4367 - accuracy: 0.8113 - precision: 0.8137\n",
            "Epoch 51/100\n",
            "4/4 [==============================] - 0s 3ms/step - loss: 0.4488 - accuracy: 0.7642 - precision: 0.8041\n",
            "Epoch 52/100\n",
            "4/4 [==============================] - 0s 3ms/step - loss: 0.6013 - accuracy: 0.8019 - precision: 0.8000\n",
            "Epoch 53/100\n",
            "4/4 [==============================] - 0s 3ms/step - loss: 0.4548 - accuracy: 0.8208 - precision: 0.8218\n",
            "Epoch 54/100\n",
            "4/4 [==============================] - 0s 5ms/step - loss: 0.4450 - accuracy: 0.8113 - precision: 0.8137\n",
            "Epoch 55/100\n",
            "4/4 [==============================] - 0s 4ms/step - loss: 0.4308 - accuracy: 0.8019 - precision: 0.8182\n",
            "Epoch 56/100\n",
            "4/4 [==============================] - 0s 3ms/step - loss: 0.4540 - accuracy: 0.8302 - precision: 0.8667\n",
            "Epoch 57/100\n",
            "4/4 [==============================] - 0s 4ms/step - loss: 0.4937 - accuracy: 0.8019 - precision: 0.8058\n",
            "Epoch 58/100\n",
            "4/4 [==============================] - 0s 6ms/step - loss: 0.4444 - accuracy: 0.8019 - precision: 0.8182\n",
            "Epoch 59/100\n",
            "4/4 [==============================] - 0s 4ms/step - loss: 0.4614 - accuracy: 0.8208 - precision: 0.8155\n",
            "Epoch 60/100\n",
            "4/4 [==============================] - 0s 2ms/step - loss: 0.4201 - accuracy: 0.8208 - precision: 0.8218\n",
            "Epoch 61/100\n",
            "4/4 [==============================] - 0s 5ms/step - loss: 0.4737 - accuracy: 0.7736 - precision: 0.8191\n",
            "Epoch 62/100\n",
            "4/4 [==============================] - 0s 3ms/step - loss: 0.4762 - accuracy: 0.7642 - precision: 0.8105\n",
            "Epoch 63/100\n",
            "4/4 [==============================] - 0s 4ms/step - loss: 0.4274 - accuracy: 0.8113 - precision: 0.8200\n",
            "Epoch 64/100\n",
            "4/4 [==============================] - 0s 3ms/step - loss: 0.4497 - accuracy: 0.7925 - precision: 0.8163\n",
            "Epoch 65/100\n",
            "4/4 [==============================] - 0s 3ms/step - loss: 0.4412 - accuracy: 0.8019 - precision: 0.8387\n",
            "Epoch 66/100\n",
            "4/4 [==============================] - 0s 3ms/step - loss: 0.4436 - accuracy: 0.8113 - precision: 0.8404\n",
            "Epoch 67/100\n",
            "4/4 [==============================] - 0s 3ms/step - loss: 0.4227 - accuracy: 0.8019 - precision: 0.8119\n",
            "Epoch 68/100\n",
            "4/4 [==============================] - 0s 3ms/step - loss: 0.4746 - accuracy: 0.7736 - precision: 0.8409\n",
            "Epoch 69/100\n",
            "4/4 [==============================] - 0s 3ms/step - loss: 0.4817 - accuracy: 0.8113 - precision: 0.8137\n",
            "Epoch 70/100\n",
            "4/4 [==============================] - 0s 3ms/step - loss: 0.4421 - accuracy: 0.7925 - precision: 0.8100\n",
            "Epoch 71/100\n",
            "4/4 [==============================] - 0s 3ms/step - loss: 0.4153 - accuracy: 0.8302 - precision: 0.8587\n",
            "Epoch 72/100\n",
            "4/4 [==============================] - 0s 3ms/step - loss: 0.4298 - accuracy: 0.8208 - precision: 0.8283\n",
            "Epoch 73/100\n",
            "4/4 [==============================] - 0s 3ms/step - loss: 0.4213 - accuracy: 0.7925 - precision: 0.8039\n",
            "Epoch 74/100\n",
            "4/4 [==============================] - 0s 4ms/step - loss: 0.4357 - accuracy: 0.7830 - precision: 0.8081\n",
            "Epoch 75/100\n",
            "4/4 [==============================] - 0s 3ms/step - loss: 0.4346 - accuracy: 0.7925 - precision: 0.8370\n",
            "Epoch 76/100\n",
            "4/4 [==============================] - 0s 3ms/step - loss: 0.4281 - accuracy: 0.8113 - precision: 0.8265\n",
            "Epoch 77/100\n",
            "4/4 [==============================] - 0s 4ms/step - loss: 0.4199 - accuracy: 0.8113 - precision: 0.8333\n",
            "Epoch 78/100\n",
            "4/4 [==============================] - 0s 3ms/step - loss: 0.4870 - accuracy: 0.7736 - precision: 0.8061\n",
            "Epoch 79/100\n",
            "4/4 [==============================] - 0s 5ms/step - loss: 0.4747 - accuracy: 0.7830 - precision: 0.8352\n",
            "Epoch 80/100\n",
            "4/4 [==============================] - 0s 5ms/step - loss: 0.4732 - accuracy: 0.8113 - precision: 0.8200\n",
            "Epoch 81/100\n",
            "4/4 [==============================] - 0s 4ms/step - loss: 0.4536 - accuracy: 0.7736 - precision: 0.7885\n",
            "Epoch 82/100\n",
            "4/4 [==============================] - 0s 4ms/step - loss: 0.5480 - accuracy: 0.7547 - precision: 0.8085\n",
            "Epoch 83/100\n",
            "4/4 [==============================] - 0s 3ms/step - loss: 0.4231 - accuracy: 0.7925 - precision: 0.8163\n",
            "Epoch 84/100\n",
            "4/4 [==============================] - 0s 3ms/step - loss: 0.4599 - accuracy: 0.8113 - precision: 0.8478\n",
            "Epoch 85/100\n",
            "4/4 [==============================] - 0s 4ms/step - loss: 0.4224 - accuracy: 0.8208 - precision: 0.8351\n",
            "Epoch 86/100\n",
            "4/4 [==============================] - 0s 3ms/step - loss: 0.4222 - accuracy: 0.8113 - precision: 0.8333\n",
            "Epoch 87/100\n",
            "4/4 [==============================] - 0s 3ms/step - loss: 0.4126 - accuracy: 0.8113 - precision: 0.8265\n",
            "Epoch 88/100\n",
            "4/4 [==============================] - 0s 3ms/step - loss: 0.4246 - accuracy: 0.8113 - precision: 0.8137\n",
            "Epoch 89/100\n",
            "4/4 [==============================] - 0s 3ms/step - loss: 0.4137 - accuracy: 0.8208 - precision: 0.8351\n",
            "Epoch 90/100\n",
            "4/4 [==============================] - 0s 3ms/step - loss: 0.4246 - accuracy: 0.7830 - precision: 0.8020\n",
            "Epoch 91/100\n",
            "4/4 [==============================] - 0s 3ms/step - loss: 0.4160 - accuracy: 0.8208 - precision: 0.8351\n",
            "Epoch 92/100\n",
            "4/4 [==============================] - 0s 3ms/step - loss: 0.4090 - accuracy: 0.8302 - precision: 0.8587\n",
            "Epoch 93/100\n",
            "4/4 [==============================] - 0s 3ms/step - loss: 0.4567 - accuracy: 0.7830 - precision: 0.8280\n",
            "Epoch 94/100\n",
            "4/4 [==============================] - 0s 3ms/step - loss: 0.4740 - accuracy: 0.7736 - precision: 0.8125\n",
            "Epoch 95/100\n",
            "4/4 [==============================] - 0s 3ms/step - loss: 0.4142 - accuracy: 0.8113 - precision: 0.8137\n",
            "Epoch 96/100\n",
            "4/4 [==============================] - 0s 3ms/step - loss: 0.4201 - accuracy: 0.8302 - precision: 0.8511\n",
            "Epoch 97/100\n",
            "4/4 [==============================] - 0s 3ms/step - loss: 0.4087 - accuracy: 0.8113 - precision: 0.8404\n",
            "Epoch 98/100\n",
            "4/4 [==============================] - 0s 3ms/step - loss: 0.4786 - accuracy: 0.7830 - precision: 0.8081\n",
            "Epoch 99/100\n",
            "4/4 [==============================] - 0s 3ms/step - loss: 0.4200 - accuracy: 0.8113 - precision: 0.8556\n",
            "Epoch 100/100\n",
            "4/4 [==============================] - 0s 3ms/step - loss: 0.4608 - accuracy: 0.7830 - precision: 0.8211\n"
          ]
        }
      ],
      "source": [
        "mod_2s = model_2s.fit(x_train,y_train, epochs = 100)"
      ]
    },
    {
      "cell_type": "code",
      "execution_count": 133,
      "metadata": {
        "id": "nLnE2W3I70gZ",
        "colab": {
          "base_uri": "https://localhost:8080/",
          "height": 283
        },
        "outputId": "97b13e8f-ff9a-479c-efc6-2775627494df"
      },
      "outputs": [
        {
          "output_type": "execute_result",
          "data": {
            "text/plain": [
              "<matplotlib.axes._subplots.AxesSubplot at 0x7f62630dd430>"
            ]
          },
          "metadata": {},
          "execution_count": 133
        },
        {
          "output_type": "display_data",
          "data": {
            "text/plain": [
              "<Figure size 432x288 with 1 Axes>"
            ],
            "image/png": "[encoded data removed]"
          },
          "metadata": {
            "needs_background": "light"
          }
        }
      ],
      "source": [
        "pd.DataFrame(mod_2s.history).plot()"
      ]
    },
    {
      "cell_type": "code",
      "execution_count": 134,
      "metadata": {
        "id": "7JTOTw05nrXk",
        "colab": {
          "base_uri": "https://localhost:8080/"
        },
        "outputId": "d8b447b4-c66f-4ace-9c59-0fbc67fce56a"
      },
      "outputs": [
        {
          "output_type": "stream",
          "name": "stdout",
          "text": [
            "2/2 [==============================] - 0s 4ms/step - loss: 0.4864 - accuracy: 0.8333 - precision: 0.9062\n"
          ]
        },
        {
          "output_type": "execute_result",
          "data": {
            "text/plain": [
              "[0.4863636791706085, 0.8333333134651184, 0.90625]"
            ]
          },
          "metadata": {},
          "execution_count": 134
        }
      ],
      "source": [
        "model_2s.evaluate(x_test,y_test)"
      ]
    },
    {
      "cell_type": "markdown",
      "metadata": {
        "id": "6BEKUygQ5QzI"
      },
      "source": [
        "### Test_size  = 0.3"
      ]
    },
    {
      "cell_type": "code",
      "execution_count": 135,
      "metadata": {
        "id": "MSI6Klrn5ZdA"
      },
      "outputs": [],
      "source": [
        "x_train,x_test,y_train,y_test = train_test_split(x,y,test_size = 0.4, random_state  =42)"
      ]
    },
    {
      "cell_type": "code",
      "execution_count": 136,
      "metadata": {
        "id": "KZhLqsbP5N2I",
        "colab": {
          "base_uri": "https://localhost:8080/"
        },
        "outputId": "f0df713c-9f90-46e2-b9ef-225689b19a1d"
      },
      "outputs": [
        {
          "output_type": "stream",
          "name": "stderr",
          "text": [
            "/usr/local/lib/python3.8/dist-packages/keras/optimizers/optimizer_v2/adam.py:110: UserWarning: The `lr` argument is deprecated, use `learning_rate` instead.\n",
            "  super(Adam, self).__init__(name, **kwargs)\n"
          ]
        }
      ],
      "source": [
        "tf.random.set_seed(42)\n",
        "\n",
        "# STEP1: Creating the model\n",
        "\n",
        "model_3= tf.keras.Sequential([\n",
        "                            tf.keras.layers.Dense(10, activation='relu'),\n",
        "                            tf.keras.layers.Dense(7, activation='relu'),\n",
        "                            tf.keras.layers.Dense(5, activation='relu'),\n",
        "                            tf.keras.layers.Dense(1, activation='sigmoid')\n",
        "])\n",
        "\n",
        "# STEP2: Compiling the model\n",
        "\n",
        "model_3.compile(loss= tf.keras.losses.binary_crossentropy,\n",
        "              optimizer= tf.keras.optimizers.Adam(lr=0.005),\n",
        "              metrics= [tf.keras.metrics.BinaryAccuracy(name='accuracy'),\n",
        "                        tf.keras.metrics.Precision(name='precision')\n",
        "              ]\n",
        "              )"
      ]
    },
    {
      "cell_type": "code",
      "execution_count": 137,
      "metadata": {
        "id": "W3zhWYiJ5kI4",
        "colab": {
          "base_uri": "https://localhost:8080/"
        },
        "outputId": "00245f24-125e-4c3f-c57c-be2abcf71fad"
      },
      "outputs": [
        {
          "output_type": "stream",
          "name": "stdout",
          "text": [
            "Epoch 1/100\n",
            "3/3 [==============================] - 1s 5ms/step - loss: 2.6562 - accuracy: 0.6706 - precision: 0.8421\n",
            "Epoch 2/100\n",
            "3/3 [==============================] - 0s 4ms/step - loss: 1.7613 - accuracy: 0.7647 - precision: 0.8133\n",
            "Epoch 3/100\n",
            "3/3 [==============================] - 0s 4ms/step - loss: 1.4950 - accuracy: 0.7765 - precision: 0.7927\n",
            "Epoch 4/100\n",
            "3/3 [==============================] - 0s 5ms/step - loss: 1.0134 - accuracy: 0.7882 - precision: 0.8025\n",
            "Epoch 5/100\n",
            "3/3 [==============================] - 0s 6ms/step - loss: 0.7944 - accuracy: 0.7176 - precision: 0.8644\n",
            "Epoch 6/100\n",
            "3/3 [==============================] - 0s 4ms/step - loss: 0.6558 - accuracy: 0.7176 - precision: 0.8525\n",
            "Epoch 7/100\n",
            "3/3 [==============================] - 0s 4ms/step - loss: 0.5882 - accuracy: 0.7882 - precision: 0.7882\n",
            "Epoch 8/100\n",
            "3/3 [==============================] - 0s 4ms/step - loss: 0.5675 - accuracy: 0.7882 - precision: 0.7882\n",
            "Epoch 9/100\n",
            "3/3 [==============================] - 0s 4ms/step - loss: 0.4964 - accuracy: 0.7529 - precision: 0.7875\n",
            "Epoch 10/100\n",
            "3/3 [==============================] - 0s 5ms/step - loss: 0.4896 - accuracy: 0.8000 - precision: 0.8289\n",
            "Epoch 11/100\n",
            "3/3 [==============================] - 0s 5ms/step - loss: 0.4958 - accuracy: 0.7882 - precision: 0.7882\n",
            "Epoch 12/100\n",
            "3/3 [==============================] - 0s 5ms/step - loss: 0.4598 - accuracy: 0.7882 - precision: 0.7882\n",
            "Epoch 13/100\n",
            "3/3 [==============================] - 0s 4ms/step - loss: 0.4586 - accuracy: 0.7882 - precision: 0.8451\n",
            "Epoch 14/100\n",
            "3/3 [==============================] - 0s 4ms/step - loss: 0.4588 - accuracy: 0.7882 - precision: 0.8451\n",
            "Epoch 15/100\n",
            "3/3 [==============================] - 0s 4ms/step - loss: 0.4334 - accuracy: 0.7882 - precision: 0.7952\n",
            "Epoch 16/100\n",
            "3/3 [==============================] - 0s 4ms/step - loss: 0.4069 - accuracy: 0.8000 - precision: 0.8049\n",
            "Epoch 17/100\n",
            "3/3 [==============================] - 0s 4ms/step - loss: 0.4312 - accuracy: 0.7882 - precision: 0.8451\n",
            "Epoch 18/100\n",
            "3/3 [==============================] - 0s 4ms/step - loss: 0.4040 - accuracy: 0.8235 - precision: 0.8514\n",
            "Epoch 19/100\n",
            "3/3 [==============================] - 0s 4ms/step - loss: 0.4117 - accuracy: 0.8000 - precision: 0.8049\n",
            "Epoch 20/100\n",
            "3/3 [==============================] - 0s 4ms/step - loss: 0.3789 - accuracy: 0.8118 - precision: 0.8228\n",
            "Epoch 21/100\n",
            "3/3 [==============================] - 0s 4ms/step - loss: 0.4000 - accuracy: 0.8118 - precision: 0.8806\n",
            "Epoch 22/100\n",
            "3/3 [==============================] - 0s 4ms/step - loss: 0.3716 - accuracy: 0.8118 - precision: 0.8493\n",
            "Epoch 23/100\n",
            "3/3 [==============================] - 0s 4ms/step - loss: 0.3930 - accuracy: 0.8118 - precision: 0.8148\n",
            "Epoch 24/100\n",
            "3/3 [==============================] - 0s 4ms/step - loss: 0.3703 - accuracy: 0.8000 - precision: 0.8289\n",
            "Epoch 25/100\n",
            "3/3 [==============================] - 0s 4ms/step - loss: 0.3726 - accuracy: 0.8118 - precision: 0.8696\n",
            "Epoch 26/100\n",
            "3/3 [==============================] - 0s 4ms/step - loss: 0.3552 - accuracy: 0.8353 - precision: 0.8630\n",
            "Epoch 27/100\n",
            "3/3 [==============================] - 0s 4ms/step - loss: 0.3709 - accuracy: 0.8000 - precision: 0.8205\n",
            "Epoch 28/100\n",
            "3/3 [==============================] - 0s 4ms/step - loss: 0.3550 - accuracy: 0.8353 - precision: 0.8732\n",
            "Epoch 29/100\n",
            "3/3 [==============================] - 0s 4ms/step - loss: 0.3661 - accuracy: 0.8353 - precision: 0.8841\n",
            "Epoch 30/100\n",
            "3/3 [==============================] - 0s 4ms/step - loss: 0.3523 - accuracy: 0.8118 - precision: 0.8400\n",
            "Epoch 31/100\n",
            "3/3 [==============================] - 0s 5ms/step - loss: 0.3544 - accuracy: 0.8235 - precision: 0.8421\n",
            "Epoch 32/100\n",
            "3/3 [==============================] - 0s 4ms/step - loss: 0.3627 - accuracy: 0.8235 - precision: 0.8714\n",
            "Epoch 33/100\n",
            "3/3 [==============================] - 0s 7ms/step - loss: 0.3492 - accuracy: 0.8353 - precision: 0.8533\n",
            "Epoch 34/100\n",
            "3/3 [==============================] - 0s 5ms/step - loss: 0.3436 - accuracy: 0.8118 - precision: 0.8400\n",
            "Epoch 35/100\n",
            "3/3 [==============================] - 0s 4ms/step - loss: 0.3366 - accuracy: 0.8353 - precision: 0.8630\n",
            "Epoch 36/100\n",
            "3/3 [==============================] - 0s 4ms/step - loss: 0.3315 - accuracy: 0.8353 - precision: 0.8630\n",
            "Epoch 37/100\n",
            "3/3 [==============================] - 0s 4ms/step - loss: 0.3312 - accuracy: 0.8353 - precision: 0.8533\n",
            "Epoch 38/100\n",
            "3/3 [==============================] - 0s 4ms/step - loss: 0.3396 - accuracy: 0.8235 - precision: 0.8611\n",
            "Epoch 39/100\n",
            "3/3 [==============================] - 0s 4ms/step - loss: 0.3336 - accuracy: 0.8471 - precision: 0.8750\n",
            "Epoch 40/100\n",
            "3/3 [==============================] - 0s 4ms/step - loss: 0.3275 - accuracy: 0.8588 - precision: 0.8571\n",
            "Epoch 41/100\n",
            "3/3 [==============================] - 0s 5ms/step - loss: 0.3385 - accuracy: 0.8588 - precision: 0.8873\n",
            "Epoch 42/100\n",
            "3/3 [==============================] - 0s 4ms/step - loss: 0.3229 - accuracy: 0.8471 - precision: 0.8750\n",
            "Epoch 43/100\n",
            "3/3 [==============================] - 0s 4ms/step - loss: 0.3270 - accuracy: 0.8353 - precision: 0.8354\n",
            "Epoch 44/100\n",
            "3/3 [==============================] - 0s 4ms/step - loss: 0.3246 - accuracy: 0.8471 - precision: 0.8750\n",
            "Epoch 45/100\n",
            "3/3 [==============================] - 0s 4ms/step - loss: 0.3336 - accuracy: 0.8588 - precision: 0.8767\n",
            "Epoch 46/100\n",
            "3/3 [==============================] - 0s 4ms/step - loss: 0.3067 - accuracy: 0.8471 - precision: 0.8553\n",
            "Epoch 47/100\n",
            "3/3 [==============================] - 0s 4ms/step - loss: 0.3169 - accuracy: 0.8588 - precision: 0.9231\n",
            "Epoch 48/100\n",
            "3/3 [==============================] - 0s 4ms/step - loss: 0.3058 - accuracy: 0.8353 - precision: 0.8630\n",
            "Epoch 49/100\n",
            "3/3 [==============================] - 0s 4ms/step - loss: 0.3052 - accuracy: 0.8353 - precision: 0.8354\n",
            "Epoch 50/100\n",
            "3/3 [==============================] - 0s 4ms/step - loss: 0.3044 - accuracy: 0.8588 - precision: 0.8873\n",
            "Epoch 51/100\n",
            "3/3 [==============================] - 0s 3ms/step - loss: 0.2956 - accuracy: 0.8824 - precision: 0.8904\n",
            "Epoch 52/100\n",
            "3/3 [==============================] - 0s 4ms/step - loss: 0.3003 - accuracy: 0.8471 - precision: 0.8462\n",
            "Epoch 53/100\n",
            "3/3 [==============================] - 0s 4ms/step - loss: 0.2891 - accuracy: 0.8706 - precision: 0.8684\n",
            "Epoch 54/100\n",
            "3/3 [==============================] - 0s 5ms/step - loss: 0.3220 - accuracy: 0.8588 - precision: 0.9365\n",
            "Epoch 55/100\n",
            "3/3 [==============================] - 0s 4ms/step - loss: 0.3186 - accuracy: 0.8353 - precision: 0.8533\n",
            "Epoch 56/100\n",
            "3/3 [==============================] - 0s 4ms/step - loss: 0.3178 - accuracy: 0.8471 - precision: 0.8462\n",
            "Epoch 57/100\n",
            "3/3 [==============================] - 0s 4ms/step - loss: 0.2903 - accuracy: 0.8706 - precision: 0.9242\n",
            "Epoch 58/100\n",
            "3/3 [==============================] - 0s 4ms/step - loss: 0.2926 - accuracy: 0.8706 - precision: 0.8590\n",
            "Epoch 59/100\n",
            "3/3 [==============================] - 0s 5ms/step - loss: 0.2813 - accuracy: 0.8824 - precision: 0.8904\n",
            "Epoch 60/100\n",
            "3/3 [==============================] - 0s 4ms/step - loss: 0.2798 - accuracy: 0.8824 - precision: 0.9385\n",
            "Epoch 61/100\n",
            "3/3 [==============================] - 0s 3ms/step - loss: 0.2800 - accuracy: 0.8824 - precision: 0.8904\n",
            "Epoch 62/100\n",
            "3/3 [==============================] - 0s 3ms/step - loss: 0.2766 - accuracy: 0.8706 - precision: 0.8784\n",
            "Epoch 63/100\n",
            "3/3 [==============================] - 0s 3ms/step - loss: 0.2716 - accuracy: 0.8941 - precision: 0.8919\n",
            "Epoch 64/100\n",
            "3/3 [==============================] - 0s 4ms/step - loss: 0.2681 - accuracy: 0.8706 - precision: 0.9000\n",
            "Epoch 65/100\n",
            "3/3 [==============================] - 0s 4ms/step - loss: 0.2730 - accuracy: 0.8588 - precision: 0.8986\n",
            "Epoch 66/100\n",
            "3/3 [==============================] - 0s 4ms/step - loss: 0.2639 - accuracy: 0.8941 - precision: 0.9028\n",
            "Epoch 67/100\n",
            "3/3 [==============================] - 0s 4ms/step - loss: 0.2621 - accuracy: 0.8941 - precision: 0.9028\n",
            "Epoch 68/100\n",
            "3/3 [==============================] - 0s 4ms/step - loss: 0.2635 - accuracy: 0.9059 - precision: 0.9041\n",
            "Epoch 69/100\n",
            "3/3 [==============================] - 0s 7ms/step - loss: 0.2591 - accuracy: 0.9059 - precision: 0.9041\n",
            "Epoch 70/100\n",
            "3/3 [==============================] - 0s 4ms/step - loss: 0.2668 - accuracy: 0.8588 - precision: 0.9231\n",
            "Epoch 71/100\n",
            "3/3 [==============================] - 0s 4ms/step - loss: 0.2604 - accuracy: 0.8941 - precision: 0.9028\n",
            "Epoch 72/100\n",
            "3/3 [==============================] - 0s 4ms/step - loss: 0.2666 - accuracy: 0.8706 - precision: 0.8784\n",
            "Epoch 73/100\n",
            "3/3 [==============================] - 0s 5ms/step - loss: 0.2761 - accuracy: 0.8706 - precision: 0.8889\n",
            "Epoch 74/100\n",
            "3/3 [==============================] - 0s 4ms/step - loss: 0.2566 - accuracy: 0.8824 - precision: 0.9130\n",
            "Epoch 75/100\n",
            "3/3 [==============================] - 0s 4ms/step - loss: 0.2619 - accuracy: 0.8941 - precision: 0.9265\n",
            "Epoch 76/100\n",
            "3/3 [==============================] - 0s 5ms/step - loss: 0.2702 - accuracy: 0.8706 - precision: 0.8684\n",
            "Epoch 77/100\n",
            "3/3 [==============================] - 0s 5ms/step - loss: 0.2426 - accuracy: 0.8941 - precision: 0.9028\n",
            "Epoch 78/100\n",
            "3/3 [==============================] - 0s 5ms/step - loss: 0.2720 - accuracy: 0.8941 - precision: 0.9677\n",
            "Epoch 79/100\n",
            "3/3 [==============================] - 0s 4ms/step - loss: 0.3045 - accuracy: 0.8471 - precision: 0.8462\n",
            "Epoch 80/100\n",
            "3/3 [==============================] - 0s 4ms/step - loss: 0.2693 - accuracy: 0.8941 - precision: 0.9143\n",
            "Epoch 81/100\n",
            "3/3 [==============================] - 0s 4ms/step - loss: 0.2696 - accuracy: 0.8824 - precision: 0.9524\n",
            "Epoch 82/100\n",
            "3/3 [==============================] - 0s 4ms/step - loss: 0.2753 - accuracy: 0.8824 - precision: 0.8701\n",
            "Epoch 83/100\n",
            "3/3 [==============================] - 0s 4ms/step - loss: 0.2466 - accuracy: 0.8824 - precision: 0.9130\n",
            "Epoch 84/100\n",
            "3/3 [==============================] - 0s 5ms/step - loss: 0.2618 - accuracy: 0.8824 - precision: 0.9524\n",
            "Epoch 85/100\n",
            "3/3 [==============================] - 0s 4ms/step - loss: 0.2509 - accuracy: 0.8824 - precision: 0.8800\n",
            "Epoch 86/100\n",
            "3/3 [==============================] - 0s 4ms/step - loss: 0.2679 - accuracy: 0.8941 - precision: 0.8919\n",
            "Epoch 87/100\n",
            "3/3 [==============================] - 0s 4ms/step - loss: 0.2362 - accuracy: 0.9059 - precision: 0.9275\n",
            "Epoch 88/100\n",
            "3/3 [==============================] - 0s 4ms/step - loss: 0.2376 - accuracy: 0.8941 - precision: 0.9028\n",
            "Epoch 89/100\n",
            "3/3 [==============================] - 0s 4ms/step - loss: 0.2371 - accuracy: 0.8941 - precision: 0.9028\n",
            "Epoch 90/100\n",
            "3/3 [==============================] - 0s 5ms/step - loss: 0.2325 - accuracy: 0.8941 - precision: 0.9028\n",
            "Epoch 91/100\n",
            "3/3 [==============================] - 0s 4ms/step - loss: 0.2281 - accuracy: 0.8941 - precision: 0.9143\n",
            "Epoch 92/100\n",
            "3/3 [==============================] - 0s 4ms/step - loss: 0.2281 - accuracy: 0.9176 - precision: 0.9412\n",
            "Epoch 93/100\n",
            "3/3 [==============================] - 0s 4ms/step - loss: 0.2299 - accuracy: 0.9176 - precision: 0.9545\n",
            "Epoch 94/100\n",
            "3/3 [==============================] - 0s 5ms/step - loss: 0.2430 - accuracy: 0.8824 - precision: 0.8800\n",
            "Epoch 95/100\n",
            "3/3 [==============================] - 0s 4ms/step - loss: 0.2232 - accuracy: 0.9059 - precision: 0.9155\n",
            "Epoch 96/100\n",
            "3/3 [==============================] - 0s 4ms/step - loss: 0.2570 - accuracy: 0.8824 - precision: 0.9524\n",
            "Epoch 97/100\n",
            "3/3 [==============================] - 0s 4ms/step - loss: 0.2499 - accuracy: 0.8824 - precision: 0.8904\n",
            "Epoch 98/100\n",
            "3/3 [==============================] - 0s 6ms/step - loss: 0.2265 - accuracy: 0.9059 - precision: 0.9041\n",
            "Epoch 99/100\n",
            "3/3 [==============================] - 0s 6ms/step - loss: 0.2448 - accuracy: 0.9059 - precision: 0.9683\n",
            "Epoch 100/100\n",
            "3/3 [==============================] - 0s 4ms/step - loss: 0.2496 - accuracy: 0.9176 - precision: 0.9054\n"
          ]
        }
      ],
      "source": [
        "mod_3 = model_3.fit(x_train,y_train, epochs = 100)"
      ]
    },
    {
      "cell_type": "code",
      "execution_count": 138,
      "metadata": {
        "id": "X0DzoXqvD8pp",
        "colab": {
          "base_uri": "https://localhost:8080/",
          "height": 283
        },
        "outputId": "15075273-ab85-4661-e729-eada630a3894"
      },
      "outputs": [
        {
          "output_type": "execute_result",
          "data": {
            "text/plain": [
              "<matplotlib.axes._subplots.AxesSubplot at 0x7f62667c90a0>"
            ]
          },
          "metadata": {},
          "execution_count": 138
        },
        {
          "output_type": "display_data",
          "data": {
            "text/plain": [
              "<Figure size 432x288 with 1 Axes>"
            ],
            "image/png": "[encoded data removed]"
          },
          "metadata": {
            "needs_background": "light"
          }
        }
      ],
      "source": [
        "pd.DataFrame(mod_3.history).plot()"
      ]
    },
    {
      "cell_type": "code",
      "execution_count": 139,
      "metadata": {
        "id": "8W-mDFaOoV_E",
        "colab": {
          "base_uri": "https://localhost:8080/"
        },
        "outputId": "1b48878b-7205-4660-907d-9bce0a91ca98"
      },
      "outputs": [
        {
          "output_type": "stream",
          "name": "stdout",
          "text": [
            "2/2 [==============================] - 0s 6ms/step - loss: 0.3924 - accuracy: 0.8772 - precision: 0.9038\n"
          ]
        },
        {
          "output_type": "execute_result",
          "data": {
            "text/plain": [
              "[0.3923601508140564, 0.8771929740905762, 0.9038461446762085]"
            ]
          },
          "metadata": {},
          "execution_count": 139
        }
      ],
      "source": [
        "model_3.evaluate(x_test,y_test)"
      ]
    },
    {
      "cell_type": "code",
      "execution_count": 140,
      "metadata": {
        "id": "SXLTEoL75xYo",
        "colab": {
          "base_uri": "https://localhost:8080/"
        },
        "outputId": "12c73a9a-1f42-426a-b200-0813609d468c"
      },
      "outputs": [
        {
          "output_type": "stream",
          "name": "stderr",
          "text": [
            "/usr/local/lib/python3.8/dist-packages/keras/optimizers/optimizer_v2/gradient_descent.py:108: UserWarning: The `lr` argument is deprecated, use `learning_rate` instead.\n",
            "  super(SGD, self).__init__(name, **kwargs)\n"
          ]
        }
      ],
      "source": [
        "tf.random.set_seed(42)\n",
        "\n",
        "# STEP1: Creating the model\n",
        "\n",
        "model_3s= tf.keras.Sequential([\n",
        "                            tf.keras.layers.Dense(10, activation='relu'),\n",
        "                            tf.keras.layers.Dense(7, activation='relu'),\n",
        "                            tf.keras.layers.Dense(5, activation='relu'),\n",
        "                            tf.keras.layers.Dense(1, activation='sigmoid')\n",
        "])\n",
        "\n",
        "# STEP2: Compiling the model\n",
        "\n",
        "model_3s.compile(loss= tf.keras.losses.binary_crossentropy,\n",
        "              optimizer= tf.keras.optimizers.SGD(lr=0.005),\n",
        "              metrics= [tf.keras.metrics.BinaryAccuracy(name='accuracy'),\n",
        "                        tf.keras.metrics.Precision(name='precision')\n",
        "              ]\n",
        "              )"
      ]
    },
    {
      "cell_type": "code",
      "execution_count": 141,
      "metadata": {
        "id": "Jw6JjVa050CL",
        "colab": {
          "base_uri": "https://localhost:8080/"
        },
        "outputId": "b00cece4-c251-49d6-aacb-fe13692e2f49"
      },
      "outputs": [
        {
          "output_type": "stream",
          "name": "stdout",
          "text": [
            "Epoch 1/100\n",
            "3/3 [==============================] - 1s 4ms/step - loss: 2.3803 - accuracy: 0.7176 - precision: 0.8413\n",
            "Epoch 2/100\n",
            "3/3 [==============================] - 0s 4ms/step - loss: 1.1429 - accuracy: 0.7647 - precision: 0.8310\n",
            "Epoch 3/100\n",
            "3/3 [==============================] - 0s 3ms/step - loss: 0.8539 - accuracy: 0.6706 - precision: 0.7826\n",
            "Epoch 4/100\n",
            "3/3 [==============================] - 0s 4ms/step - loss: 1.1243 - accuracy: 0.6588 - precision: 0.7879\n",
            "Epoch 5/100\n",
            "3/3 [==============================] - 0s 3ms/step - loss: 0.6543 - accuracy: 0.8000 - precision: 0.8289\n",
            "Epoch 6/100\n",
            "3/3 [==============================] - 0s 3ms/step - loss: 0.7953 - accuracy: 0.7412 - precision: 0.8261\n",
            "Epoch 7/100\n",
            "3/3 [==============================] - 0s 3ms/step - loss: 0.6890 - accuracy: 0.8000 - precision: 0.8125\n",
            "Epoch 8/100\n",
            "3/3 [==============================] - 0s 3ms/step - loss: 0.8600 - accuracy: 0.6353 - precision: 0.8103\n",
            "Epoch 9/100\n",
            "3/3 [==============================] - 0s 4ms/step - loss: 0.5848 - accuracy: 0.7882 - precision: 0.8551\n",
            "Epoch 10/100\n",
            "3/3 [==============================] - 0s 4ms/step - loss: 0.4307 - accuracy: 0.8000 - precision: 0.8289\n",
            "Epoch 11/100\n",
            "3/3 [==============================] - 0s 4ms/step - loss: 0.4351 - accuracy: 0.7882 - precision: 0.7952\n",
            "Epoch 12/100\n",
            "3/3 [==============================] - 0s 7ms/step - loss: 0.9384 - accuracy: 0.6706 - precision: 0.8095\n",
            "Epoch 13/100\n",
            "3/3 [==============================] - 0s 4ms/step - loss: 0.8266 - accuracy: 0.6706 - precision: 0.8095\n",
            "Epoch 14/100\n",
            "3/3 [==============================] - 0s 4ms/step - loss: 0.5235 - accuracy: 0.8000 - precision: 0.8125\n",
            "Epoch 15/100\n",
            "3/3 [==============================] - 0s 4ms/step - loss: 0.9563 - accuracy: 0.6118 - precision: 0.7833\n",
            "Epoch 16/100\n",
            "3/3 [==============================] - 0s 3ms/step - loss: 0.4462 - accuracy: 0.8235 - precision: 0.8171\n",
            "Epoch 17/100\n",
            "3/3 [==============================] - 0s 4ms/step - loss: 0.4142 - accuracy: 0.8000 - precision: 0.8571\n",
            "Epoch 18/100\n",
            "3/3 [==============================] - 0s 4ms/step - loss: 0.4253 - accuracy: 0.7882 - precision: 0.8025\n",
            "Epoch 19/100\n",
            "3/3 [==============================] - 0s 3ms/step - loss: 0.5375 - accuracy: 0.7412 - precision: 0.8000\n",
            "Epoch 20/100\n",
            "3/3 [==============================] - 0s 4ms/step - loss: 0.5522 - accuracy: 0.7647 - precision: 0.8052\n",
            "Epoch 21/100\n",
            "3/3 [==============================] - 0s 4ms/step - loss: 0.4182 - accuracy: 0.8118 - precision: 0.8312\n",
            "Epoch 22/100\n",
            "3/3 [==============================] - 0s 5ms/step - loss: 0.4356 - accuracy: 0.7882 - precision: 0.8267\n",
            "Epoch 23/100\n",
            "3/3 [==============================] - 0s 4ms/step - loss: 0.4107 - accuracy: 0.7882 - precision: 0.8101\n",
            "Epoch 24/100\n",
            "3/3 [==============================] - 0s 4ms/step - loss: 0.4121 - accuracy: 0.8118 - precision: 0.8400\n",
            "Epoch 25/100\n",
            "3/3 [==============================] - 0s 4ms/step - loss: 0.4169 - accuracy: 0.8000 - precision: 0.8205\n",
            "Epoch 26/100\n",
            "3/3 [==============================] - 0s 4ms/step - loss: 0.4220 - accuracy: 0.8353 - precision: 0.8533\n",
            "Epoch 27/100\n",
            "3/3 [==============================] - 0s 10ms/step - loss: 0.4606 - accuracy: 0.8000 - precision: 0.8205\n",
            "Epoch 28/100\n",
            "3/3 [==============================] - 0s 3ms/step - loss: 0.4061 - accuracy: 0.8118 - precision: 0.8312\n",
            "Epoch 29/100\n",
            "3/3 [==============================] - 0s 4ms/step - loss: 0.4771 - accuracy: 0.7765 - precision: 0.8158\n",
            "Epoch 30/100\n",
            "3/3 [==============================] - 0s 6ms/step - loss: 0.4263 - accuracy: 0.8235 - precision: 0.8514\n",
            "Epoch 31/100\n",
            "3/3 [==============================] - 0s 4ms/step - loss: 0.4055 - accuracy: 0.8353 - precision: 0.8533\n",
            "Epoch 32/100\n",
            "3/3 [==============================] - 0s 5ms/step - loss: 0.6465 - accuracy: 0.7176 - precision: 0.8116\n",
            "Epoch 33/100\n",
            "3/3 [==============================] - 0s 4ms/step - loss: 0.4522 - accuracy: 0.7765 - precision: 0.7927\n",
            "Epoch 34/100\n",
            "3/3 [==============================] - 0s 3ms/step - loss: 0.4411 - accuracy: 0.7882 - precision: 0.8657\n",
            "Epoch 35/100\n",
            "3/3 [==============================] - 0s 5ms/step - loss: 0.4091 - accuracy: 0.8118 - precision: 0.8312\n",
            "Epoch 36/100\n",
            "3/3 [==============================] - 0s 5ms/step - loss: 0.4384 - accuracy: 0.7882 - precision: 0.8267\n",
            "Epoch 37/100\n",
            "3/3 [==============================] - 0s 5ms/step - loss: 0.4270 - accuracy: 0.8353 - precision: 0.8272\n",
            "Epoch 38/100\n",
            "3/3 [==============================] - 0s 4ms/step - loss: 0.3995 - accuracy: 0.8235 - precision: 0.8514\n",
            "Epoch 39/100\n",
            "3/3 [==============================] - 0s 4ms/step - loss: 0.4710 - accuracy: 0.7647 - precision: 0.8219\n",
            "Epoch 40/100\n",
            "3/3 [==============================] - 0s 4ms/step - loss: 0.4246 - accuracy: 0.8235 - precision: 0.8250\n",
            "Epoch 41/100\n",
            "3/3 [==============================] - 0s 3ms/step - loss: 0.4028 - accuracy: 0.8118 - precision: 0.8592\n",
            "Epoch 42/100\n",
            "3/3 [==============================] - 0s 3ms/step - loss: 0.4153 - accuracy: 0.8235 - precision: 0.8333\n",
            "Epoch 43/100\n",
            "3/3 [==============================] - 0s 4ms/step - loss: 0.3995 - accuracy: 0.8000 - precision: 0.8205\n",
            "Epoch 44/100\n",
            "3/3 [==============================] - 0s 5ms/step - loss: 0.4399 - accuracy: 0.7647 - precision: 0.8133\n",
            "Epoch 45/100\n",
            "3/3 [==============================] - 0s 6ms/step - loss: 0.4308 - accuracy: 0.7882 - precision: 0.8025\n",
            "Epoch 46/100\n",
            "3/3 [==============================] - 0s 5ms/step - loss: 0.5191 - accuracy: 0.7294 - precision: 0.8143\n",
            "Epoch 47/100\n",
            "3/3 [==============================] - 0s 5ms/step - loss: 0.4217 - accuracy: 0.8118 - precision: 0.8493\n",
            "Epoch 48/100\n",
            "3/3 [==============================] - 0s 4ms/step - loss: 0.4129 - accuracy: 0.8235 - precision: 0.8514\n",
            "Epoch 49/100\n",
            "3/3 [==============================] - 0s 3ms/step - loss: 0.4144 - accuracy: 0.8353 - precision: 0.8533\n",
            "Epoch 50/100\n",
            "3/3 [==============================] - 0s 3ms/step - loss: 0.4022 - accuracy: 0.8118 - precision: 0.8312\n",
            "Epoch 51/100\n",
            "3/3 [==============================] - 0s 4ms/step - loss: 0.4072 - accuracy: 0.8000 - precision: 0.8289\n",
            "Epoch 52/100\n",
            "3/3 [==============================] - 0s 3ms/step - loss: 0.4665 - accuracy: 0.7882 - precision: 0.8101\n",
            "Epoch 53/100\n",
            "3/3 [==============================] - 0s 3ms/step - loss: 0.4193 - accuracy: 0.8118 - precision: 0.8493\n",
            "Epoch 54/100\n",
            "3/3 [==============================] - 0s 3ms/step - loss: 0.3876 - accuracy: 0.8353 - precision: 0.8841\n",
            "Epoch 55/100\n",
            "3/3 [==============================] - 0s 4ms/step - loss: 0.4075 - accuracy: 0.8000 - precision: 0.8205\n",
            "Epoch 56/100\n",
            "3/3 [==============================] - 0s 4ms/step - loss: 0.4202 - accuracy: 0.8353 - precision: 0.8732\n",
            "Epoch 57/100\n",
            "3/3 [==============================] - 0s 4ms/step - loss: 0.5030 - accuracy: 0.7882 - precision: 0.8267\n",
            "Epoch 58/100\n",
            "3/3 [==============================] - 0s 3ms/step - loss: 0.3923 - accuracy: 0.8118 - precision: 0.8312\n",
            "Epoch 59/100\n",
            "3/3 [==============================] - 0s 4ms/step - loss: 0.3919 - accuracy: 0.8353 - precision: 0.8533\n",
            "Epoch 60/100\n",
            "3/3 [==============================] - 0s 5ms/step - loss: 0.3904 - accuracy: 0.8118 - precision: 0.8400\n",
            "Epoch 61/100\n",
            "3/3 [==============================] - 0s 4ms/step - loss: 0.4364 - accuracy: 0.7765 - precision: 0.8243\n",
            "Epoch 62/100\n",
            "3/3 [==============================] - 0s 4ms/step - loss: 0.4793 - accuracy: 0.8000 - precision: 0.8205\n",
            "Epoch 63/100\n",
            "3/3 [==============================] - 0s 4ms/step - loss: 0.4012 - accuracy: 0.8235 - precision: 0.8421\n",
            "Epoch 64/100\n",
            "3/3 [==============================] - 0s 4ms/step - loss: 0.3925 - accuracy: 0.8118 - precision: 0.8400\n",
            "Epoch 65/100\n",
            "3/3 [==============================] - 0s 4ms/step - loss: 0.4008 - accuracy: 0.7882 - precision: 0.8182\n",
            "Epoch 66/100\n",
            "3/3 [==============================] - 0s 3ms/step - loss: 0.4303 - accuracy: 0.8118 - precision: 0.8592\n",
            "Epoch 67/100\n",
            "3/3 [==============================] - 0s 3ms/step - loss: 0.4067 - accuracy: 0.8118 - precision: 0.8400\n",
            "Epoch 68/100\n",
            "3/3 [==============================] - 0s 3ms/step - loss: 0.3959 - accuracy: 0.8353 - precision: 0.8442\n",
            "Epoch 69/100\n",
            "3/3 [==============================] - 0s 4ms/step - loss: 0.4295 - accuracy: 0.8118 - precision: 0.8592\n",
            "Epoch 70/100\n",
            "3/3 [==============================] - 0s 3ms/step - loss: 0.4530 - accuracy: 0.8000 - precision: 0.8571\n",
            "Epoch 71/100\n",
            "3/3 [==============================] - 0s 3ms/step - loss: 0.4211 - accuracy: 0.8235 - precision: 0.8333\n",
            "Epoch 72/100\n",
            "3/3 [==============================] - 0s 4ms/step - loss: 0.3868 - accuracy: 0.8471 - precision: 0.8750\n",
            "Epoch 73/100\n",
            "3/3 [==============================] - 0s 4ms/step - loss: 0.3993 - accuracy: 0.8235 - precision: 0.8250\n",
            "Epoch 74/100\n",
            "3/3 [==============================] - 0s 4ms/step - loss: 0.5520 - accuracy: 0.7765 - precision: 0.8750\n",
            "Epoch 75/100\n",
            "3/3 [==============================] - 0s 4ms/step - loss: 0.4268 - accuracy: 0.8000 - precision: 0.8472\n",
            "Epoch 76/100\n",
            "3/3 [==============================] - 0s 4ms/step - loss: 0.4005 - accuracy: 0.8353 - precision: 0.8442\n",
            "Epoch 77/100\n",
            "3/3 [==============================] - 0s 5ms/step - loss: 0.4122 - accuracy: 0.7765 - precision: 0.8077\n",
            "Epoch 78/100\n",
            "3/3 [==============================] - 0s 5ms/step - loss: 0.4597 - accuracy: 0.8000 - precision: 0.8472\n",
            "Epoch 79/100\n",
            "3/3 [==============================] - 0s 4ms/step - loss: 0.4253 - accuracy: 0.8353 - precision: 0.8533\n",
            "Epoch 80/100\n",
            "3/3 [==============================] - 0s 4ms/step - loss: 0.3975 - accuracy: 0.8118 - precision: 0.8493\n",
            "Epoch 81/100\n",
            "3/3 [==============================] - 0s 4ms/step - loss: 0.4115 - accuracy: 0.8000 - precision: 0.8289\n",
            "Epoch 82/100\n",
            "3/3 [==============================] - 0s 4ms/step - loss: 0.4064 - accuracy: 0.8118 - precision: 0.8228\n",
            "Epoch 83/100\n",
            "3/3 [==============================] - 0s 4ms/step - loss: 0.4046 - accuracy: 0.8235 - precision: 0.8421\n",
            "Epoch 84/100\n",
            "3/3 [==============================] - 0s 5ms/step - loss: 0.4001 - accuracy: 0.8235 - precision: 0.8421\n",
            "Epoch 85/100\n",
            "3/3 [==============================] - 0s 4ms/step - loss: 0.3853 - accuracy: 0.8118 - precision: 0.8400\n",
            "Epoch 86/100\n",
            "3/3 [==============================] - 0s 4ms/step - loss: 0.5174 - accuracy: 0.7529 - precision: 0.8194\n",
            "Epoch 87/100\n",
            "3/3 [==============================] - 0s 4ms/step - loss: 0.5350 - accuracy: 0.8000 - precision: 0.8049\n",
            "Epoch 88/100\n",
            "3/3 [==============================] - 0s 4ms/step - loss: 0.4080 - accuracy: 0.7882 - precision: 0.8267\n",
            "Epoch 89/100\n",
            "3/3 [==============================] - 0s 4ms/step - loss: 0.4412 - accuracy: 0.8118 - precision: 0.8312\n",
            "Epoch 90/100\n",
            "3/3 [==============================] - 0s 4ms/step - loss: 0.3860 - accuracy: 0.8000 - precision: 0.8289\n",
            "Epoch 91/100\n",
            "3/3 [==============================] - 0s 4ms/step - loss: 0.3853 - accuracy: 0.8118 - precision: 0.8312\n",
            "Epoch 92/100\n",
            "3/3 [==============================] - 0s 4ms/step - loss: 0.4405 - accuracy: 0.8000 - precision: 0.8289\n",
            "Epoch 93/100\n",
            "3/3 [==============================] - 0s 4ms/step - loss: 0.4031 - accuracy: 0.8118 - precision: 0.8400\n",
            "Epoch 94/100\n",
            "3/3 [==============================] - 0s 4ms/step - loss: 0.4314 - accuracy: 0.7765 - precision: 0.8158\n",
            "Epoch 95/100\n",
            "3/3 [==============================] - 0s 4ms/step - loss: 0.4336 - accuracy: 0.8118 - precision: 0.8228\n",
            "Epoch 96/100\n",
            "3/3 [==============================] - 0s 4ms/step - loss: 0.4450 - accuracy: 0.7882 - precision: 0.8551\n",
            "Epoch 97/100\n",
            "3/3 [==============================] - 0s 5ms/step - loss: 0.3997 - accuracy: 0.8118 - precision: 0.8228\n",
            "Epoch 98/100\n",
            "3/3 [==============================] - 0s 4ms/step - loss: 0.4048 - accuracy: 0.8353 - precision: 0.8630\n",
            "Epoch 99/100\n",
            "3/3 [==============================] - 0s 4ms/step - loss: 0.4288 - accuracy: 0.8235 - precision: 0.8333\n",
            "Epoch 100/100\n",
            "3/3 [==============================] - 0s 6ms/step - loss: 0.4024 - accuracy: 0.8000 - precision: 0.8205\n"
          ]
        }
      ],
      "source": [
        "mod_3s = model_3s.fit(x_train,y_train, epochs = 100)"
      ]
    },
    {
      "cell_type": "code",
      "execution_count": 142,
      "metadata": {
        "id": "in0-VCjZEKX5",
        "colab": {
          "base_uri": "https://localhost:8080/",
          "height": 283
        },
        "outputId": "cce70f30-4f22-422a-d822-de8ce0b296a7"
      },
      "outputs": [
        {
          "output_type": "execute_result",
          "data": {
            "text/plain": [
              "<matplotlib.axes._subplots.AxesSubplot at 0x7f62663b4220>"
            ]
          },
          "metadata": {},
          "execution_count": 142
        },
        {
          "output_type": "display_data",
          "data": {
            "text/plain": [
              "<Figure size 432x288 with 1 Axes>"
            ],
            "image/png": "[encoded data removed]"
          },
          "metadata": {
            "needs_background": "light"
          }
        }
      ],
      "source": [
        "pd.DataFrame(mod_3s.history).plot()"
      ]
    },
    {
      "cell_type": "code",
      "execution_count": 143,
      "metadata": {
        "id": "_LrgtJCnonWK",
        "colab": {
          "base_uri": "https://localhost:8080/"
        },
        "outputId": "8a3c5558-bc32-43dd-bebc-fd23e4a267e6"
      },
      "outputs": [
        {
          "output_type": "stream",
          "name": "stdout",
          "text": [
            "2/2 [==============================] - 0s 6ms/step - loss: 0.4737 - accuracy: 0.7895 - precision: 0.8776\n"
          ]
        },
        {
          "output_type": "execute_result",
          "data": {
            "text/plain": [
              "[0.4736913740634918, 0.7894737124443054, 0.8775510191917419]"
            ]
          },
          "metadata": {},
          "execution_count": 143
        }
      ],
      "source": [
        "model_3s.evaluate(x_test,y_test)"
      ]
    },
    {
      "cell_type": "markdown",
      "metadata": {
        "id": "3-IIpuID6RYn"
      },
      "source": [
        "### test_size = 0.4"
      ]
    },
    {
      "cell_type": "code",
      "execution_count": 144,
      "metadata": {
        "id": "J9WDACf96Ul5"
      },
      "outputs": [],
      "source": [
        "x_train,x_test,y_train,y_test = train_test_split(x,y,test_size = 0.4, random_state  =42)"
      ]
    },
    {
      "cell_type": "code",
      "execution_count": 145,
      "metadata": {
        "id": "lwHQKqrk6eyi",
        "colab": {
          "base_uri": "https://localhost:8080/"
        },
        "outputId": "c6faa591-bd2b-4d45-bfdb-21d80a228267"
      },
      "outputs": [
        {
          "output_type": "stream",
          "name": "stderr",
          "text": [
            "/usr/local/lib/python3.8/dist-packages/keras/optimizers/optimizer_v2/adam.py:110: UserWarning: The `lr` argument is deprecated, use `learning_rate` instead.\n",
            "  super(Adam, self).__init__(name, **kwargs)\n"
          ]
        }
      ],
      "source": [
        "tf.random.set_seed(42)\n",
        "\n",
        "# STEP1: Creating the model\n",
        "\n",
        "model_4= tf.keras.Sequential([\n",
        "                            tf.keras.layers.Dense(10, activation='relu'),\n",
        "                            tf.keras.layers.Dense(7, activation='relu'),\n",
        "                            tf.keras.layers.Dense(5, activation='relu'),\n",
        "                            tf.keras.layers.Dense(1, activation='sigmoid')\n",
        "])\n",
        "\n",
        "# STEP2: Compiling the model\n",
        "\n",
        "model_4.compile(loss= tf.keras.losses.binary_crossentropy,\n",
        "              optimizer= tf.keras.optimizers.Adam(lr=0.005),\n",
        "              metrics= [tf.keras.metrics.BinaryAccuracy(name='accuracy'),\n",
        "                        tf.keras.metrics.Precision(name='precision')\n",
        "              ]\n",
        "              )"
      ]
    },
    {
      "cell_type": "code",
      "execution_count": 146,
      "metadata": {
        "id": "V-UuYjcm6js4",
        "colab": {
          "base_uri": "https://localhost:8080/"
        },
        "outputId": "c53091dd-de62-4f75-c397-7c1fb45e98ad"
      },
      "outputs": [
        {
          "output_type": "stream",
          "name": "stdout",
          "text": [
            "Epoch 1/100\n",
            "3/3 [==============================] - 1s 4ms/step - loss: 2.6562 - accuracy: 0.6706 - precision: 0.8421\n",
            "Epoch 2/100\n",
            "3/3 [==============================] - 0s 4ms/step - loss: 1.7613 - accuracy: 0.7647 - precision: 0.8133\n",
            "Epoch 3/100\n",
            "3/3 [==============================] - 0s 4ms/step - loss: 1.4950 - accuracy: 0.7765 - precision: 0.7927\n",
            "Epoch 4/100\n",
            "3/3 [==============================] - 0s 4ms/step - loss: 1.0134 - accuracy: 0.7882 - precision: 0.8025\n",
            "Epoch 5/100\n",
            "3/3 [==============================] - 0s 4ms/step - loss: 0.7944 - accuracy: 0.7176 - precision: 0.8644\n",
            "Epoch 6/100\n",
            "3/3 [==============================] - 0s 4ms/step - loss: 0.6558 - accuracy: 0.7176 - precision: 0.8525\n",
            "Epoch 7/100\n",
            "3/3 [==============================] - 0s 4ms/step - loss: 0.5882 - accuracy: 0.7882 - precision: 0.7882\n",
            "Epoch 8/100\n",
            "3/3 [==============================] - 0s 4ms/step - loss: 0.5675 - accuracy: 0.7882 - precision: 0.7882\n",
            "Epoch 9/100\n",
            "3/3 [==============================] - 0s 4ms/step - loss: 0.4964 - accuracy: 0.7529 - precision: 0.7875\n",
            "Epoch 10/100\n",
            "3/3 [==============================] - 0s 5ms/step - loss: 0.4896 - accuracy: 0.8000 - precision: 0.8289\n",
            "Epoch 11/100\n",
            "3/3 [==============================] - 0s 5ms/step - loss: 0.4958 - accuracy: 0.7882 - precision: 0.7882\n",
            "Epoch 12/100\n",
            "3/3 [==============================] - 0s 5ms/step - loss: 0.4598 - accuracy: 0.7882 - precision: 0.7882\n",
            "Epoch 13/100\n",
            "3/3 [==============================] - 0s 5ms/step - loss: 0.4586 - accuracy: 0.7882 - precision: 0.8451\n",
            "Epoch 14/100\n",
            "3/3 [==============================] - 0s 4ms/step - loss: 0.4588 - accuracy: 0.7882 - precision: 0.8451\n",
            "Epoch 15/100\n",
            "3/3 [==============================] - 0s 5ms/step - loss: 0.4334 - accuracy: 0.7882 - precision: 0.7952\n",
            "Epoch 16/100\n",
            "3/3 [==============================] - 0s 4ms/step - loss: 0.4069 - accuracy: 0.8000 - precision: 0.8049\n",
            "Epoch 17/100\n",
            "3/3 [==============================] - 0s 4ms/step - loss: 0.4312 - accuracy: 0.7882 - precision: 0.8451\n",
            "Epoch 18/100\n",
            "3/3 [==============================] - 0s 4ms/step - loss: 0.4040 - accuracy: 0.8235 - precision: 0.8514\n",
            "Epoch 19/100\n",
            "3/3 [==============================] - 0s 4ms/step - loss: 0.4117 - accuracy: 0.8000 - precision: 0.8049\n",
            "Epoch 20/100\n",
            "3/3 [==============================] - 0s 4ms/step - loss: 0.3789 - accuracy: 0.8118 - precision: 0.8228\n",
            "Epoch 21/100\n",
            "3/3 [==============================] - 0s 5ms/step - loss: 0.4000 - accuracy: 0.8118 - precision: 0.8806\n",
            "Epoch 22/100\n",
            "3/3 [==============================] - 0s 4ms/step - loss: 0.3716 - accuracy: 0.8118 - precision: 0.8493\n",
            "Epoch 23/100\n",
            "3/3 [==============================] - 0s 4ms/step - loss: 0.3930 - accuracy: 0.8118 - precision: 0.8148\n",
            "Epoch 24/100\n",
            "3/3 [==============================] - 0s 4ms/step - loss: 0.3703 - accuracy: 0.8000 - precision: 0.8289\n",
            "Epoch 25/100\n",
            "3/3 [==============================] - 0s 4ms/step - loss: 0.3726 - accuracy: 0.8118 - precision: 0.8696\n",
            "Epoch 26/100\n",
            "3/3 [==============================] - 0s 4ms/step - loss: 0.3552 - accuracy: 0.8353 - precision: 0.8630\n",
            "Epoch 27/100\n",
            "3/3 [==============================] - 0s 4ms/step - loss: 0.3709 - accuracy: 0.8000 - precision: 0.8205\n",
            "Epoch 28/100\n",
            "3/3 [==============================] - 0s 4ms/step - loss: 0.3550 - accuracy: 0.8353 - precision: 0.8732\n",
            "Epoch 29/100\n",
            "3/3 [==============================] - 0s 5ms/step - loss: 0.3661 - accuracy: 0.8353 - precision: 0.8841\n",
            "Epoch 30/100\n",
            "3/3 [==============================] - 0s 4ms/step - loss: 0.3523 - accuracy: 0.8118 - precision: 0.8400\n",
            "Epoch 31/100\n",
            "3/3 [==============================] - 0s 4ms/step - loss: 0.3544 - accuracy: 0.8235 - precision: 0.8421\n",
            "Epoch 32/100\n",
            "3/3 [==============================] - 0s 5ms/step - loss: 0.3627 - accuracy: 0.8235 - precision: 0.8714\n",
            "Epoch 33/100\n",
            "3/3 [==============================] - 0s 4ms/step - loss: 0.3492 - accuracy: 0.8353 - precision: 0.8533\n",
            "Epoch 34/100\n",
            "3/3 [==============================] - 0s 5ms/step - loss: 0.3436 - accuracy: 0.8118 - precision: 0.8400\n",
            "Epoch 35/100\n",
            "3/3 [==============================] - 0s 5ms/step - loss: 0.3366 - accuracy: 0.8353 - precision: 0.8630\n",
            "Epoch 36/100\n",
            "3/3 [==============================] - 0s 3ms/step - loss: 0.3315 - accuracy: 0.8353 - precision: 0.8630\n",
            "Epoch 37/100\n",
            "3/3 [==============================] - 0s 4ms/step - loss: 0.3312 - accuracy: 0.8353 - precision: 0.8533\n",
            "Epoch 38/100\n",
            "3/3 [==============================] - 0s 4ms/step - loss: 0.3396 - accuracy: 0.8235 - precision: 0.8611\n",
            "Epoch 39/100\n",
            "3/3 [==============================] - 0s 4ms/step - loss: 0.3336 - accuracy: 0.8471 - precision: 0.8750\n",
            "Epoch 40/100\n",
            "3/3 [==============================] - 0s 4ms/step - loss: 0.3275 - accuracy: 0.8588 - precision: 0.8571\n",
            "Epoch 41/100\n",
            "3/3 [==============================] - 0s 7ms/step - loss: 0.3385 - accuracy: 0.8588 - precision: 0.8873\n",
            "Epoch 42/100\n",
            "3/3 [==============================] - 0s 5ms/step - loss: 0.3229 - accuracy: 0.8471 - precision: 0.8750\n",
            "Epoch 43/100\n",
            "3/3 [==============================] - 0s 4ms/step - loss: 0.3270 - accuracy: 0.8353 - precision: 0.8354\n",
            "Epoch 44/100\n",
            "3/3 [==============================] - 0s 4ms/step - loss: 0.3246 - accuracy: 0.8471 - precision: 0.8750\n",
            "Epoch 45/100\n",
            "3/3 [==============================] - 0s 4ms/step - loss: 0.3336 - accuracy: 0.8588 - precision: 0.8767\n",
            "Epoch 46/100\n",
            "3/3 [==============================] - 0s 4ms/step - loss: 0.3067 - accuracy: 0.8471 - precision: 0.8553\n",
            "Epoch 47/100\n",
            "3/3 [==============================] - 0s 5ms/step - loss: 0.3169 - accuracy: 0.8588 - precision: 0.9231\n",
            "Epoch 48/100\n",
            "3/3 [==============================] - 0s 5ms/step - loss: 0.3058 - accuracy: 0.8353 - precision: 0.8630\n",
            "Epoch 49/100\n",
            "3/3 [==============================] - 0s 4ms/step - loss: 0.3052 - accuracy: 0.8353 - precision: 0.8354\n",
            "Epoch 50/100\n",
            "3/3 [==============================] - 0s 4ms/step - loss: 0.3044 - accuracy: 0.8588 - precision: 0.8873\n",
            "Epoch 51/100\n",
            "3/3 [==============================] - 0s 4ms/step - loss: 0.2956 - accuracy: 0.8824 - precision: 0.8904\n",
            "Epoch 52/100\n",
            "3/3 [==============================] - 0s 4ms/step - loss: 0.3003 - accuracy: 0.8471 - precision: 0.8462\n",
            "Epoch 53/100\n",
            "3/3 [==============================] - 0s 4ms/step - loss: 0.2891 - accuracy: 0.8706 - precision: 0.8684\n",
            "Epoch 54/100\n",
            "3/3 [==============================] - 0s 4ms/step - loss: 0.3220 - accuracy: 0.8588 - precision: 0.9365\n",
            "Epoch 55/100\n",
            "3/3 [==============================] - 0s 4ms/step - loss: 0.3186 - accuracy: 0.8353 - precision: 0.8533\n",
            "Epoch 56/100\n",
            "3/3 [==============================] - 0s 4ms/step - loss: 0.3178 - accuracy: 0.8471 - precision: 0.8462\n",
            "Epoch 57/100\n",
            "3/3 [==============================] - 0s 4ms/step - loss: 0.2903 - accuracy: 0.8706 - precision: 0.9242\n",
            "Epoch 58/100\n",
            "3/3 [==============================] - 0s 5ms/step - loss: 0.2926 - accuracy: 0.8706 - precision: 0.8590\n",
            "Epoch 59/100\n",
            "3/3 [==============================] - 0s 4ms/step - loss: 0.2813 - accuracy: 0.8824 - precision: 0.8904\n",
            "Epoch 60/100\n",
            "3/3 [==============================] - 0s 5ms/step - loss: 0.2798 - accuracy: 0.8824 - precision: 0.9385\n",
            "Epoch 61/100\n",
            "3/3 [==============================] - 0s 4ms/step - loss: 0.2800 - accuracy: 0.8824 - precision: 0.8904\n",
            "Epoch 62/100\n",
            "3/3 [==============================] - 0s 4ms/step - loss: 0.2766 - accuracy: 0.8706 - precision: 0.8784\n",
            "Epoch 63/100\n",
            "3/3 [==============================] - 0s 4ms/step - loss: 0.2716 - accuracy: 0.8941 - precision: 0.8919\n",
            "Epoch 64/100\n",
            "3/3 [==============================] - 0s 4ms/step - loss: 0.2681 - accuracy: 0.8706 - precision: 0.9000\n",
            "Epoch 65/100\n",
            "3/3 [==============================] - 0s 5ms/step - loss: 0.2730 - accuracy: 0.8588 - precision: 0.8986\n",
            "Epoch 66/100\n",
            "3/3 [==============================] - 0s 5ms/step - loss: 0.2639 - accuracy: 0.8941 - precision: 0.9028\n",
            "Epoch 67/100\n",
            "3/3 [==============================] - 0s 5ms/step - loss: 0.2621 - accuracy: 0.8941 - precision: 0.9028\n",
            "Epoch 68/100\n",
            "3/3 [==============================] - 0s 6ms/step - loss: 0.2635 - accuracy: 0.9059 - precision: 0.9041\n",
            "Epoch 69/100\n",
            "3/3 [==============================] - 0s 5ms/step - loss: 0.2591 - accuracy: 0.9059 - precision: 0.9041\n",
            "Epoch 70/100\n",
            "3/3 [==============================] - 0s 4ms/step - loss: 0.2668 - accuracy: 0.8588 - precision: 0.9231\n",
            "Epoch 71/100\n",
            "3/3 [==============================] - 0s 4ms/step - loss: 0.2604 - accuracy: 0.8941 - precision: 0.9028\n",
            "Epoch 72/100\n",
            "3/3 [==============================] - 0s 4ms/step - loss: 0.2666 - accuracy: 0.8706 - precision: 0.8784\n",
            "Epoch 73/100\n",
            "3/3 [==============================] - 0s 4ms/step - loss: 0.2761 - accuracy: 0.8706 - precision: 0.8889\n",
            "Epoch 74/100\n",
            "3/3 [==============================] - 0s 6ms/step - loss: 0.2566 - accuracy: 0.8824 - precision: 0.9130\n",
            "Epoch 75/100\n",
            "3/3 [==============================] - 0s 4ms/step - loss: 0.2619 - accuracy: 0.8941 - precision: 0.9265\n",
            "Epoch 76/100\n",
            "3/3 [==============================] - 0s 4ms/step - loss: 0.2702 - accuracy: 0.8706 - precision: 0.8684\n",
            "Epoch 77/100\n",
            "3/3 [==============================] - 0s 4ms/step - loss: 0.2426 - accuracy: 0.8941 - precision: 0.9028\n",
            "Epoch 78/100\n",
            "3/3 [==============================] - 0s 3ms/step - loss: 0.2720 - accuracy: 0.8941 - precision: 0.9677\n",
            "Epoch 79/100\n",
            "3/3 [==============================] - 0s 4ms/step - loss: 0.3045 - accuracy: 0.8471 - precision: 0.8462\n",
            "Epoch 80/100\n",
            "3/3 [==============================] - 0s 4ms/step - loss: 0.2693 - accuracy: 0.8941 - precision: 0.9143\n",
            "Epoch 81/100\n",
            "3/3 [==============================] - 0s 3ms/step - loss: 0.2696 - accuracy: 0.8824 - precision: 0.9524\n",
            "Epoch 82/100\n",
            "3/3 [==============================] - 0s 4ms/step - loss: 0.2753 - accuracy: 0.8824 - precision: 0.8701\n",
            "Epoch 83/100\n",
            "3/3 [==============================] - 0s 4ms/step - loss: 0.2466 - accuracy: 0.8824 - precision: 0.9130\n",
            "Epoch 84/100\n",
            "3/3 [==============================] - 0s 4ms/step - loss: 0.2618 - accuracy: 0.8824 - precision: 0.9524\n",
            "Epoch 85/100\n",
            "3/3 [==============================] - 0s 4ms/step - loss: 0.2509 - accuracy: 0.8824 - precision: 0.8800\n",
            "Epoch 86/100\n",
            "3/3 [==============================] - 0s 3ms/step - loss: 0.2679 - accuracy: 0.8941 - precision: 0.8919\n",
            "Epoch 87/100\n",
            "3/3 [==============================] - 0s 4ms/step - loss: 0.2362 - accuracy: 0.9059 - precision: 0.9275\n",
            "Epoch 88/100\n",
            "3/3 [==============================] - 0s 4ms/step - loss: 0.2376 - accuracy: 0.8941 - precision: 0.9028\n",
            "Epoch 89/100\n",
            "3/3 [==============================] - 0s 4ms/step - loss: 0.2371 - accuracy: 0.8941 - precision: 0.9028\n",
            "Epoch 90/100\n",
            "3/3 [==============================] - 0s 4ms/step - loss: 0.2325 - accuracy: 0.8941 - precision: 0.9028\n",
            "Epoch 91/100\n",
            "3/3 [==============================] - 0s 4ms/step - loss: 0.2281 - accuracy: 0.8941 - precision: 0.9143\n",
            "Epoch 92/100\n",
            "3/3 [==============================] - 0s 3ms/step - loss: 0.2281 - accuracy: 0.9176 - precision: 0.9412\n",
            "Epoch 93/100\n",
            "3/3 [==============================] - 0s 3ms/step - loss: 0.2299 - accuracy: 0.9176 - precision: 0.9545\n",
            "Epoch 94/100\n",
            "3/3 [==============================] - 0s 5ms/step - loss: 0.2430 - accuracy: 0.8824 - precision: 0.8800\n",
            "Epoch 95/100\n",
            "3/3 [==============================] - 0s 4ms/step - loss: 0.2232 - accuracy: 0.9059 - precision: 0.9155\n",
            "Epoch 96/100\n",
            "3/3 [==============================] - 0s 4ms/step - loss: 0.2570 - accuracy: 0.8824 - precision: 0.9524\n",
            "Epoch 97/100\n",
            "3/3 [==============================] - 0s 4ms/step - loss: 0.2499 - accuracy: 0.8824 - precision: 0.8904\n",
            "Epoch 98/100\n",
            "3/3 [==============================] - 0s 5ms/step - loss: 0.2265 - accuracy: 0.9059 - precision: 0.9041\n",
            "Epoch 99/100\n",
            "3/3 [==============================] - 0s 4ms/step - loss: 0.2448 - accuracy: 0.9059 - precision: 0.9683\n",
            "Epoch 100/100\n",
            "3/3 [==============================] - 0s 4ms/step - loss: 0.2496 - accuracy: 0.9176 - precision: 0.9054\n"
          ]
        }
      ],
      "source": [
        "mod_4 = model_4.fit(x_train,y_train, epochs = 100)"
      ]
    },
    {
      "cell_type": "code",
      "execution_count": 147,
      "metadata": {
        "id": "jYzjezO5ESxs",
        "colab": {
          "base_uri": "https://localhost:8080/",
          "height": 283
        },
        "outputId": "67f8e0c2-f36d-4a92-bd82-811dabf924cf"
      },
      "outputs": [
        {
          "output_type": "execute_result",
          "data": {
            "text/plain": [
              "<matplotlib.axes._subplots.AxesSubplot at 0x7f62664c1970>"
            ]
          },
          "metadata": {},
          "execution_count": 147
        },
        {
          "output_type": "display_data",
          "data": {
            "text/plain": [
              "<Figure size 432x288 with 1 Axes>"
            ],
            "image/png": "[encoded data removed]"
          },
          "metadata": {
            "needs_background": "light"
          }
        }
      ],
      "source": [
        "pd.DataFrame(mod_4.history).plot()"
      ]
    },
    {
      "cell_type": "code",
      "execution_count": 148,
      "metadata": {
        "id": "BlPOap_EotFj",
        "colab": {
          "base_uri": "https://localhost:8080/"
        },
        "outputId": "48eafde5-f2a8-450c-a398-280186a926a2"
      },
      "outputs": [
        {
          "output_type": "stream",
          "name": "stdout",
          "text": [
            "2/2 [==============================] - 0s 6ms/step - loss: 0.3924 - accuracy: 0.8772 - precision: 0.9038\n"
          ]
        },
        {
          "output_type": "execute_result",
          "data": {
            "text/plain": [
              "[0.3923601508140564, 0.8771929740905762, 0.9038461446762085]"
            ]
          },
          "metadata": {},
          "execution_count": 148
        }
      ],
      "source": [
        "model_4.evaluate(x_test,y_test)"
      ]
    },
    {
      "cell_type": "code",
      "execution_count": 149,
      "metadata": {
        "id": "qbkECoTe6qOe",
        "colab": {
          "base_uri": "https://localhost:8080/"
        },
        "outputId": "21e3cb53-c7d1-4b03-d662-9f2ca169376c"
      },
      "outputs": [
        {
          "output_type": "stream",
          "name": "stderr",
          "text": [
            "/usr/local/lib/python3.8/dist-packages/keras/optimizers/optimizer_v2/gradient_descent.py:108: UserWarning: The `lr` argument is deprecated, use `learning_rate` instead.\n",
            "  super(SGD, self).__init__(name, **kwargs)\n"
          ]
        }
      ],
      "source": [
        "tf.random.set_seed(42)\n",
        "\n",
        "# STEP1: Creating the model\n",
        "\n",
        "model_4s= tf.keras.Sequential([\n",
        "                            tf.keras.layers.Dense(10, activation='relu'),\n",
        "                            tf.keras.layers.Dense(7, activation='relu'),\n",
        "                            tf.keras.layers.Dense(5, activation='relu'),\n",
        "                            tf.keras.layers.Dense(1, activation='sigmoid')\n",
        "])\n",
        "\n",
        "# STEP2: Compiling the model\n",
        "\n",
        "model_4s.compile(loss= tf.keras.losses.binary_crossentropy,\n",
        "              optimizer= tf.keras.optimizers.SGD(lr=0.005),\n",
        "              metrics= [tf.keras.metrics.BinaryAccuracy(name='accuracy'),\n",
        "                        tf.keras.metrics.Precision(name='precision')\n",
        "              ]\n",
        "              )"
      ]
    },
    {
      "cell_type": "code",
      "execution_count": 150,
      "metadata": {
        "id": "g7GNzr1T6yoI",
        "colab": {
          "base_uri": "https://localhost:8080/"
        },
        "outputId": "9a7e90bb-1f78-4c52-f0ee-030db0d9f658"
      },
      "outputs": [
        {
          "output_type": "stream",
          "name": "stdout",
          "text": [
            "Epoch 1/100\n",
            "3/3 [==============================] - 1s 4ms/step - loss: 2.3803 - accuracy: 0.7176 - precision: 0.8413\n",
            "Epoch 2/100\n",
            "3/3 [==============================] - 0s 4ms/step - loss: 1.1429 - accuracy: 0.7647 - precision: 0.8310\n",
            "Epoch 3/100\n",
            "3/3 [==============================] - 0s 4ms/step - loss: 0.8539 - accuracy: 0.6706 - precision: 0.7826\n",
            "Epoch 4/100\n",
            "3/3 [==============================] - 0s 4ms/step - loss: 1.1243 - accuracy: 0.6588 - precision: 0.7879\n",
            "Epoch 5/100\n",
            "3/3 [==============================] - 0s 4ms/step - loss: 0.6543 - accuracy: 0.8000 - precision: 0.8289\n",
            "Epoch 6/100\n",
            "3/3 [==============================] - 0s 4ms/step - loss: 0.7953 - accuracy: 0.7412 - precision: 0.8261\n",
            "Epoch 7/100\n",
            "3/3 [==============================] - 0s 4ms/step - loss: 0.6890 - accuracy: 0.8000 - precision: 0.8125\n",
            "Epoch 8/100\n",
            "3/3 [==============================] - 0s 4ms/step - loss: 0.8600 - accuracy: 0.6353 - precision: 0.8103\n",
            "Epoch 9/100\n",
            "3/3 [==============================] - 0s 3ms/step - loss: 0.5848 - accuracy: 0.7882 - precision: 0.8551\n",
            "Epoch 10/100\n",
            "3/3 [==============================] - 0s 4ms/step - loss: 0.4307 - accuracy: 0.8000 - precision: 0.8289\n",
            "Epoch 11/100\n",
            "3/3 [==============================] - 0s 3ms/step - loss: 0.4351 - accuracy: 0.7882 - precision: 0.7952\n",
            "Epoch 12/100\n",
            "3/3 [==============================] - 0s 4ms/step - loss: 0.9384 - accuracy: 0.6706 - precision: 0.8095\n",
            "Epoch 13/100\n",
            "3/3 [==============================] - 0s 4ms/step - loss: 0.8266 - accuracy: 0.6706 - precision: 0.8095\n",
            "Epoch 14/100\n",
            "3/3 [==============================] - 0s 4ms/step - loss: 0.5235 - accuracy: 0.8000 - precision: 0.8125\n",
            "Epoch 15/100\n",
            "3/3 [==============================] - 0s 4ms/step - loss: 0.9563 - accuracy: 0.6118 - precision: 0.7833\n",
            "Epoch 16/100\n",
            "3/3 [==============================] - 0s 4ms/step - loss: 0.4462 - accuracy: 0.8235 - precision: 0.8171\n",
            "Epoch 17/100\n",
            "3/3 [==============================] - 0s 4ms/step - loss: 0.4142 - accuracy: 0.8000 - precision: 0.8571\n",
            "Epoch 18/100\n",
            "3/3 [==============================] - 0s 4ms/step - loss: 0.4253 - accuracy: 0.7882 - precision: 0.8025\n",
            "Epoch 19/100\n",
            "3/3 [==============================] - 0s 4ms/step - loss: 0.5375 - accuracy: 0.7412 - precision: 0.8000\n",
            "Epoch 20/100\n",
            "3/3 [==============================] - 0s 3ms/step - loss: 0.5522 - accuracy: 0.7647 - precision: 0.8052\n",
            "Epoch 21/100\n",
            "3/3 [==============================] - 0s 4ms/step - loss: 0.4182 - accuracy: 0.8118 - precision: 0.8312\n",
            "Epoch 22/100\n",
            "3/3 [==============================] - 0s 6ms/step - loss: 0.4356 - accuracy: 0.7882 - precision: 0.8267\n",
            "Epoch 23/100\n",
            "3/3 [==============================] - 0s 3ms/step - loss: 0.4107 - accuracy: 0.7882 - precision: 0.8101\n",
            "Epoch 24/100\n",
            "3/3 [==============================] - 0s 6ms/step - loss: 0.4121 - accuracy: 0.8118 - precision: 0.8400\n",
            "Epoch 25/100\n",
            "3/3 [==============================] - 0s 5ms/step - loss: 0.4169 - accuracy: 0.8000 - precision: 0.8205\n",
            "Epoch 26/100\n",
            "3/3 [==============================] - 0s 4ms/step - loss: 0.4220 - accuracy: 0.8353 - precision: 0.8533\n",
            "Epoch 27/100\n",
            "3/3 [==============================] - 0s 4ms/step - loss: 0.4606 - accuracy: 0.8000 - precision: 0.8205\n",
            "Epoch 28/100\n",
            "3/3 [==============================] - 0s 4ms/step - loss: 0.4061 - accuracy: 0.8118 - precision: 0.8312\n",
            "Epoch 29/100\n",
            "3/3 [==============================] - 0s 4ms/step - loss: 0.4771 - accuracy: 0.7765 - precision: 0.8158\n",
            "Epoch 30/100\n",
            "3/3 [==============================] - 0s 4ms/step - loss: 0.4263 - accuracy: 0.8235 - precision: 0.8514\n",
            "Epoch 31/100\n",
            "3/3 [==============================] - 0s 3ms/step - loss: 0.4055 - accuracy: 0.8353 - precision: 0.8533\n",
            "Epoch 32/100\n",
            "3/3 [==============================] - 0s 4ms/step - loss: 0.6465 - accuracy: 0.7176 - precision: 0.8116\n",
            "Epoch 33/100\n",
            "3/3 [==============================] - 0s 4ms/step - loss: 0.4522 - accuracy: 0.7765 - precision: 0.7927\n",
            "Epoch 34/100\n",
            "3/3 [==============================] - 0s 4ms/step - loss: 0.4411 - accuracy: 0.7882 - precision: 0.8657\n",
            "Epoch 35/100\n",
            "3/3 [==============================] - 0s 4ms/step - loss: 0.4091 - accuracy: 0.8118 - precision: 0.8312\n",
            "Epoch 36/100\n",
            "3/3 [==============================] - 0s 4ms/step - loss: 0.4384 - accuracy: 0.7882 - precision: 0.8267\n",
            "Epoch 37/100\n",
            "3/3 [==============================] - 0s 6ms/step - loss: 0.4270 - accuracy: 0.8353 - precision: 0.8272\n",
            "Epoch 38/100\n",
            "3/3 [==============================] - 0s 6ms/step - loss: 0.3995 - accuracy: 0.8235 - precision: 0.8514\n",
            "Epoch 39/100\n",
            "3/3 [==============================] - 0s 4ms/step - loss: 0.4710 - accuracy: 0.7647 - precision: 0.8219\n",
            "Epoch 40/100\n",
            "3/3 [==============================] - 0s 4ms/step - loss: 0.4246 - accuracy: 0.8235 - precision: 0.8250\n",
            "Epoch 41/100\n",
            "3/3 [==============================] - 0s 4ms/step - loss: 0.4028 - accuracy: 0.8118 - precision: 0.8592\n",
            "Epoch 42/100\n",
            "3/3 [==============================] - 0s 5ms/step - loss: 0.4153 - accuracy: 0.8235 - precision: 0.8333\n",
            "Epoch 43/100\n",
            "3/3 [==============================] - 0s 4ms/step - loss: 0.3995 - accuracy: 0.8000 - precision: 0.8205\n",
            "Epoch 44/100\n",
            "3/3 [==============================] - 0s 5ms/step - loss: 0.4399 - accuracy: 0.7647 - precision: 0.8133\n",
            "Epoch 45/100\n",
            "3/3 [==============================] - 0s 4ms/step - loss: 0.4308 - accuracy: 0.7882 - precision: 0.8025\n",
            "Epoch 46/100\n",
            "3/3 [==============================] - 0s 4ms/step - loss: 0.5191 - accuracy: 0.7294 - precision: 0.8143\n",
            "Epoch 47/100\n",
            "3/3 [==============================] - 0s 3ms/step - loss: 0.4217 - accuracy: 0.8118 - precision: 0.8493\n",
            "Epoch 48/100\n",
            "3/3 [==============================] - 0s 6ms/step - loss: 0.4129 - accuracy: 0.8235 - precision: 0.8514\n",
            "Epoch 49/100\n",
            "3/3 [==============================] - 0s 5ms/step - loss: 0.4144 - accuracy: 0.8353 - precision: 0.8533\n",
            "Epoch 50/100\n",
            "3/3 [==============================] - 0s 4ms/step - loss: 0.4022 - accuracy: 0.8118 - precision: 0.8312\n",
            "Epoch 51/100\n",
            "3/3 [==============================] - 0s 4ms/step - loss: 0.4072 - accuracy: 0.8000 - precision: 0.8289\n",
            "Epoch 52/100\n",
            "3/3 [==============================] - 0s 4ms/step - loss: 0.4665 - accuracy: 0.7882 - precision: 0.8101\n",
            "Epoch 53/100\n",
            "3/3 [==============================] - 0s 4ms/step - loss: 0.4193 - accuracy: 0.8118 - precision: 0.8493\n",
            "Epoch 54/100\n",
            "3/3 [==============================] - 0s 4ms/step - loss: 0.3876 - accuracy: 0.8353 - precision: 0.8841\n",
            "Epoch 55/100\n",
            "3/3 [==============================] - 0s 6ms/step - loss: 0.4075 - accuracy: 0.8000 - precision: 0.8205\n",
            "Epoch 56/100\n",
            "3/3 [==============================] - 0s 4ms/step - loss: 0.4202 - accuracy: 0.8353 - precision: 0.8732\n",
            "Epoch 57/100\n",
            "3/3 [==============================] - 0s 4ms/step - loss: 0.5030 - accuracy: 0.7882 - precision: 0.8267\n",
            "Epoch 58/100\n",
            "3/3 [==============================] - 0s 4ms/step - loss: 0.3923 - accuracy: 0.8118 - precision: 0.8312\n",
            "Epoch 59/100\n",
            "3/3 [==============================] - 0s 4ms/step - loss: 0.3919 - accuracy: 0.8353 - precision: 0.8533\n",
            "Epoch 60/100\n",
            "3/3 [==============================] - 0s 4ms/step - loss: 0.3904 - accuracy: 0.8118 - precision: 0.8400\n",
            "Epoch 61/100\n",
            "3/3 [==============================] - 0s 3ms/step - loss: 0.4364 - accuracy: 0.7765 - precision: 0.8243\n",
            "Epoch 62/100\n",
            "3/3 [==============================] - 0s 3ms/step - loss: 0.4793 - accuracy: 0.8000 - precision: 0.8205\n",
            "Epoch 63/100\n",
            "3/3 [==============================] - 0s 5ms/step - loss: 0.4012 - accuracy: 0.8235 - precision: 0.8421\n",
            "Epoch 64/100\n",
            "3/3 [==============================] - 0s 4ms/step - loss: 0.3925 - accuracy: 0.8118 - precision: 0.8400\n",
            "Epoch 65/100\n",
            "3/3 [==============================] - 0s 4ms/step - loss: 0.4008 - accuracy: 0.7882 - precision: 0.8182\n",
            "Epoch 66/100\n",
            "3/3 [==============================] - 0s 3ms/step - loss: 0.4303 - accuracy: 0.8118 - precision: 0.8592\n",
            "Epoch 67/100\n",
            "3/3 [==============================] - 0s 3ms/step - loss: 0.4067 - accuracy: 0.8118 - precision: 0.8400\n",
            "Epoch 68/100\n",
            "3/3 [==============================] - 0s 5ms/step - loss: 0.3959 - accuracy: 0.8353 - precision: 0.8442\n",
            "Epoch 69/100\n",
            "3/3 [==============================] - 0s 4ms/step - loss: 0.4295 - accuracy: 0.8118 - precision: 0.8592\n",
            "Epoch 70/100\n",
            "3/3 [==============================] - 0s 5ms/step - loss: 0.4530 - accuracy: 0.8000 - precision: 0.8571\n",
            "Epoch 71/100\n",
            "3/3 [==============================] - 0s 4ms/step - loss: 0.4211 - accuracy: 0.8235 - precision: 0.8333\n",
            "Epoch 72/100\n",
            "3/3 [==============================] - 0s 4ms/step - loss: 0.3868 - accuracy: 0.8471 - precision: 0.8750\n",
            "Epoch 73/100\n",
            "3/3 [==============================] - 0s 3ms/step - loss: 0.3993 - accuracy: 0.8235 - precision: 0.8250\n",
            "Epoch 74/100\n",
            "3/3 [==============================] - 0s 3ms/step - loss: 0.5520 - accuracy: 0.7765 - precision: 0.8750\n",
            "Epoch 75/100\n",
            "3/3 [==============================] - 0s 4ms/step - loss: 0.4268 - accuracy: 0.8000 - precision: 0.8472\n",
            "Epoch 76/100\n",
            "3/3 [==============================] - 0s 4ms/step - loss: 0.4005 - accuracy: 0.8353 - precision: 0.8442\n",
            "Epoch 77/100\n",
            "3/3 [==============================] - 0s 4ms/step - loss: 0.4122 - accuracy: 0.7765 - precision: 0.8077\n",
            "Epoch 78/100\n",
            "3/3 [==============================] - 0s 4ms/step - loss: 0.4597 - accuracy: 0.8000 - precision: 0.8472\n",
            "Epoch 79/100\n",
            "3/3 [==============================] - 0s 3ms/step - loss: 0.4253 - accuracy: 0.8353 - precision: 0.8533\n",
            "Epoch 80/100\n",
            "3/3 [==============================] - 0s 3ms/step - loss: 0.3975 - accuracy: 0.8118 - precision: 0.8493\n",
            "Epoch 81/100\n",
            "3/3 [==============================] - 0s 4ms/step - loss: 0.4115 - accuracy: 0.8000 - precision: 0.8289\n",
            "Epoch 82/100\n",
            "3/3 [==============================] - 0s 3ms/step - loss: 0.4064 - accuracy: 0.8118 - precision: 0.8228\n",
            "Epoch 83/100\n",
            "3/3 [==============================] - 0s 4ms/step - loss: 0.4046 - accuracy: 0.8235 - precision: 0.8421\n",
            "Epoch 84/100\n",
            "3/3 [==============================] - 0s 4ms/step - loss: 0.4001 - accuracy: 0.8235 - precision: 0.8421\n",
            "Epoch 85/100\n",
            "3/3 [==============================] - 0s 3ms/step - loss: 0.3853 - accuracy: 0.8118 - precision: 0.8400\n",
            "Epoch 86/100\n",
            "3/3 [==============================] - 0s 4ms/step - loss: 0.5174 - accuracy: 0.7529 - precision: 0.8194\n",
            "Epoch 87/100\n",
            "3/3 [==============================] - 0s 4ms/step - loss: 0.5350 - accuracy: 0.8000 - precision: 0.8049\n",
            "Epoch 88/100\n",
            "3/3 [==============================] - 0s 3ms/step - loss: 0.4080 - accuracy: 0.7882 - precision: 0.8267\n",
            "Epoch 89/100\n",
            "3/3 [==============================] - 0s 3ms/step - loss: 0.4412 - accuracy: 0.8118 - precision: 0.8312\n",
            "Epoch 90/100\n",
            "3/3 [==============================] - 0s 4ms/step - loss: 0.3860 - accuracy: 0.8000 - precision: 0.8289\n",
            "Epoch 91/100\n",
            "3/3 [==============================] - 0s 4ms/step - loss: 0.3853 - accuracy: 0.8118 - precision: 0.8312\n",
            "Epoch 92/100\n",
            "3/3 [==============================] - 0s 5ms/step - loss: 0.4405 - accuracy: 0.8000 - precision: 0.8289\n",
            "Epoch 93/100\n",
            "3/3 [==============================] - 0s 4ms/step - loss: 0.4031 - accuracy: 0.8118 - precision: 0.8400\n",
            "Epoch 94/100\n",
            "3/3 [==============================] - 0s 3ms/step - loss: 0.4314 - accuracy: 0.7765 - precision: 0.8158\n",
            "Epoch 95/100\n",
            "3/3 [==============================] - 0s 4ms/step - loss: 0.4336 - accuracy: 0.8118 - precision: 0.8228\n",
            "Epoch 96/100\n",
            "3/3 [==============================] - 0s 6ms/step - loss: 0.4450 - accuracy: 0.7882 - precision: 0.8551\n",
            "Epoch 97/100\n",
            "3/3 [==============================] - 0s 4ms/step - loss: 0.3997 - accuracy: 0.8118 - precision: 0.8228\n",
            "Epoch 98/100\n",
            "3/3 [==============================] - 0s 6ms/step - loss: 0.4048 - accuracy: 0.8353 - precision: 0.8630\n",
            "Epoch 99/100\n",
            "3/3 [==============================] - 0s 4ms/step - loss: 0.4288 - accuracy: 0.8235 - precision: 0.8333\n",
            "Epoch 100/100\n",
            "3/3 [==============================] - 0s 5ms/step - loss: 0.4024 - accuracy: 0.8000 - precision: 0.8205\n"
          ]
        }
      ],
      "source": [
        "mod_4s = model_4s.fit(x_train,y_train, epochs = 100)"
      ]
    },
    {
      "cell_type": "code",
      "execution_count": 151,
      "metadata": {
        "id": "FTnd7OSiEeMB",
        "colab": {
          "base_uri": "https://localhost:8080/",
          "height": 283
        },
        "outputId": "2f30b4c8-6a87-48bb-fb49-51c6163cef41"
      },
      "outputs": [
        {
          "output_type": "execute_result",
          "data": {
            "text/plain": [
              "<matplotlib.axes._subplots.AxesSubplot at 0x7f6266cf96a0>"
            ]
          },
          "metadata": {},
          "execution_count": 151
        },
        {
          "output_type": "display_data",
          "data": {
            "text/plain": [
              "<Figure size 432x288 with 1 Axes>"
            ],
            "image/png": "[encoded data removed]"
          },
          "metadata": {
            "needs_background": "light"
          }
        }
      ],
      "source": [
        "pd.DataFrame(mod_4s.history).plot()"
      ]
    },
    {
      "cell_type": "code",
      "execution_count": 152,
      "metadata": {
        "id": "_-DQgSRXEiXZ",
        "colab": {
          "base_uri": "https://localhost:8080/"
        },
        "outputId": "a03ca54d-cccc-4420-c294-37cf3914b2c1"
      },
      "outputs": [
        {
          "output_type": "stream",
          "name": "stdout",
          "text": [
            "2/2 [==============================] - 0s 5ms/step - loss: 0.4737 - accuracy: 0.7895 - precision: 0.8776\n"
          ]
        },
        {
          "output_type": "execute_result",
          "data": {
            "text/plain": [
              "[0.4736913740634918, 0.7894737124443054, 0.8775510191917419]"
            ]
          },
          "metadata": {},
          "execution_count": 152
        }
      ],
      "source": [
        "model_4s.evaluate(x_test,y_test)"
      ]
    },
    {
      "cell_type": "code",
      "execution_count": 152,
      "metadata": {
        "id": "F7tdaEhDo3f7"
      },
      "outputs": [],
      "source": []
    },
    {
      "cell_type": "markdown",
      "metadata": {
        "id": "W_wvMOcHMRI5"
      },
      "source": [
        "## Experimentation"
      ]
    },
    {
      "cell_type": "code",
      "execution_count": 153,
      "metadata": {
        "id": "2XKZZV_gfSWk"
      },
      "outputs": [],
      "source": [
        "import tensorflow as tf "
      ]
    },
    {
      "cell_type": "code",
      "execution_count": 154,
      "metadata": {
        "id": "wSjNYjncfSWk"
      },
      "outputs": [],
      "source": [
        "x = df_4.drop(\"classi\", axis =1)\n",
        "y = df_4[\"classi\"]"
      ]
    },
    {
      "cell_type": "code",
      "execution_count": 155,
      "metadata": {
        "id": "DpItl467MXWy"
      },
      "outputs": [],
      "source": [
        "from sklearn.model_selection import train_test_split\n",
        "x_train,x_test,y_train,y_test = train_test_split(x,y,test_size = 0.3, random_state = 42)"
      ]
    },
    {
      "cell_type": "code",
      "execution_count": 156,
      "metadata": {
        "colab": {
          "base_uri": "https://localhost:8080/"
        },
        "id": "PN91tfXlMiLn",
        "outputId": "5fdcfc1b-ac2e-43ce-8294-48a97a5eae42"
      },
      "outputs": [
        {
          "output_type": "stream",
          "name": "stderr",
          "text": [
            "/usr/local/lib/python3.8/dist-packages/keras/optimizers/optimizer_v2/gradient_descent.py:108: UserWarning: The `lr` argument is deprecated, use `learning_rate` instead.\n",
            "  super(SGD, self).__init__(name, **kwargs)\n"
          ]
        }
      ],
      "source": [
        "tf.random.set_seed(42)\n",
        "\n",
        "# STEP1: Creating the model\n",
        "\n",
        "model = tf.keras.Sequential([\n",
        "                            tf.keras.layers.Dense(6,  activation = 'relu'),\n",
        "                            tf.keras.layers.Dense(3,  activation = 'relu'),\n",
        "                            tf.keras.layers.Dense(1, activation='sigmoid')\n",
        "])\n",
        "\n",
        "# STEP2: Compiling the model\n",
        "\n",
        "model.compile(loss= tf.keras.losses.binary_crossentropy,\n",
        "              optimizer= tf.keras.optimizers.SGD(lr=0.005),\n",
        "              metrics= [tf.keras.metrics.BinaryAccuracy(name='accuracy')\n",
        "              ]\n",
        "              )"
      ]
    },
    {
      "cell_type": "code",
      "execution_count": 157,
      "metadata": {
        "id": "oplYmwyzMktf"
      },
      "outputs": [],
      "source": [
        "history  = model.fit(x_train,y_train,epochs = 400,verbose = 0)"
      ]
    },
    {
      "cell_type": "code",
      "execution_count": 158,
      "metadata": {
        "colab": {
          "base_uri": "https://localhost:8080/"
        },
        "id": "WaQYu0HiPfrP",
        "outputId": "e2152ac5-bb87-4b10-a5ff-9dc59668fb6c"
      },
      "outputs": [
        {
          "output_type": "stream",
          "name": "stdout",
          "text": [
            "2/2 [==============================] - 0s 6ms/step - loss: 0.3029 - accuracy: 0.8837\n"
          ]
        },
        {
          "output_type": "execute_result",
          "data": {
            "text/plain": [
              "[0.3028610050678253, 0.8837209343910217]"
            ]
          },
          "metadata": {},
          "execution_count": 158
        }
      ],
      "source": [
        "model.evaluate(x_test,y_test)"
      ]
    },
    {
      "cell_type": "code",
      "execution_count": 159,
      "metadata": {
        "colab": {
          "base_uri": "https://localhost:8080/",
          "height": 283
        },
        "id": "FCoUcbLJVqyP",
        "outputId": "ca2795b0-355f-4068-cae8-77732d6d0cd3"
      },
      "outputs": [
        {
          "output_type": "execute_result",
          "data": {
            "text/plain": [
              "<matplotlib.axes._subplots.AxesSubplot at 0x7f6268a7a310>"
            ]
          },
          "metadata": {},
          "execution_count": 159
        },
        {
          "output_type": "display_data",
          "data": {
            "text/plain": [
              "<Figure size 432x288 with 1 Axes>"
            ],
            "image/png": "[encoded data removed]"
          },
          "metadata": {
            "needs_background": "light"
          }
        }
      ],
      "source": [
        "pd.DataFrame(history.history).plot()"
      ]
    },
    {
      "cell_type": "code",
      "execution_count": 159,
      "metadata": {
        "id": "a4dkd-7kwJn1"
      },
      "outputs": [],
      "source": []
    }
  ],
  "metadata": {
    "colab": {
      "collapsed_sections": [
        "F-noG0OEcuwq",
        "_ZuUmniXQDBK",
        "sejMMRamQSTO",
        "nNIFWJjXRxbQ"
      ],
      "provenance": [],
      "mount_file_id": "11j-hG4-lyo5iPHntj8aDOpLBxMtBvGWd",
      "authorship_tag": "ABX9TyMvcB/PdmxjqcdMihXkg60N",
      "include_colab_link": true
    },
    "kernelspec": {
      "display_name": "Python 3",
      "name": "python3"
    },
    "language_info": {
      "name": "python"
    }
  },
  "nbformat": 4,
  "nbformat_minor": 0
}